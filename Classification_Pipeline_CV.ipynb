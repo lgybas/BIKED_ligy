{
 "cells": [
  {
   "cell_type": "markdown",
   "id": "c7c6b2a3-538f-49fe-9faa-bf047669e810",
   "metadata": {},
   "source": [
    "# Bicycle classification - Pipeline, RandomzidedSearch, CrossValidation"
   ]
  },
  {
   "cell_type": "markdown",
   "id": "adc086ac-ed2d-435b-9f92-2b241009a6e2",
   "metadata": {},
   "source": [
    "## 1. Import and split"
   ]
  },
  {
   "cell_type": "code",
   "execution_count": 102,
   "id": "4aa7cfa0-fc32-4100-9ab9-72d08bef24c7",
   "metadata": {},
   "outputs": [],
   "source": [
    "import pandas as pd\n",
    "from Functions import BIKED_classif_functions as BIKED\n",
    "from sklearn.model_selection import train_test_split\n",
    "from sklearn.model_selection import GridSearchCV\n",
    "from sklearn.model_selection import RandomizedSearchCV\n",
    "from sklearn.compose import ColumnTransformer\n",
    "\n",
    "from sklearn.impute import SimpleImputer, KNNImputer\n",
    "from sklearn.preprocessing import OrdinalEncoder\n",
    "from sklearn.preprocessing import OneHotEncoder\n",
    "from sklearn.preprocessing import StandardScaler\n",
    "\n",
    "from sklearn.tree import DecisionTreeClassifier     #Depth-8 Decision Tree\n",
    "from sklearn.neighbors import KNeighborsClassifier  #K-Neighbors\n",
    "from sklearn.ensemble import RandomForestClassifier #Random Forest\n",
    "\n",
    "\n",
    "from sklearn.metrics import accuracy_score\n",
    "from sklearn.pipeline import make_pipeline\n",
    "from sklearn import set_config\n"
   ]
  },
  {
   "cell_type": "markdown",
   "id": "f3982db5-09cd-49a3-8f6a-48827c0dba6d",
   "metadata": {},
   "source": [
    "For other Classification models see here:"
   ]
  },
  {
   "cell_type": "code",
   "execution_count": 103,
   "id": "0b4fea78-d0af-4b0f-8ef4-73af1c5aa841",
   "metadata": {
    "tags": []
   },
   "outputs": [],
   "source": [
    "#more models used by the author:\n",
    "\n",
    "from sklearn.ensemble import AdaBoostClassifier        #AdaBoost\n",
    "from sklearn.svm import SVC                            #Support Vector Clf.\n",
    "\n",
    "from sklearn.gaussian_process import GaussianProcessClassifier     #Gaussian Pr. Clf.\n",
    "from sklearn.gaussian_process.kernels import ConstantKernel, RBF\n",
    "from sklearn.neural_network import MLPClassifier                   #3-layer Neural Net, #6-Layer Neural Net\n",
    "                                                                    \n",
    "\n",
    "#other models:\n",
    "#from sklearn.gaussian_process.kernels import RBF\n",
    "#from sklearn.naive_bayes import GaussianNB\n",
    "#from sklearn.discriminant_analysis import QuadraticDiscriminantAnalysis"
   ]
  },
  {
   "cell_type": "markdown",
   "id": "cba6f35e-6981-40cf-8c34-fdddb2bfdd09",
   "metadata": {},
   "source": [
    "### 1.1. Training data"
   ]
  },
  {
   "cell_type": "code",
   "execution_count": 104,
   "id": "b430fe51-c48a-4103-836a-d2e0c21ffacb",
   "metadata": {},
   "outputs": [
    {
     "name": "stdout",
     "output_type": "stream",
     "text": [
      "(4512, 2402) (4512, 1320)\n"
     ]
    }
   ],
   "source": [
    "#Read Data\n",
    "data = pd.read_csv(\"Data/BIKED_reduced.csv\", index_col=0)\n",
    "\n",
    "\n",
    "## here I use the processed dataset\n",
    "#processed = pd.read_csv(\"Data/BIKED_processed.csv\", index_col=0)\n",
    "#processed[\"BIKESTYLE\"] = data[\"BIKESTYLE\"]\n",
    "#print(processed.shape, data.shape)\n",
    "#data = processed"
   ]
  },
  {
   "cell_type": "code",
   "execution_count": 105,
   "id": "c24d306a",
   "metadata": {},
   "outputs": [],
   "source": [
    "\n",
    "classes = data[\"BIKESTYLE\"].value_counts() # 19 categories, one of them has only one member\n",
    "classes = pd.DataFrame(classes)\n",
    "classes[\"percentage\"] = (classes.BIKESTYLE / data.shape[0] * 100).round(2)\n"
   ]
  },
  {
   "cell_type": "code",
   "execution_count": 106,
   "id": "cd26932e",
   "metadata": {},
   "outputs": [
    {
     "data": {
      "text/plain": [
       "(4512, 2402)"
      ]
     },
     "execution_count": 106,
     "metadata": {},
     "output_type": "execute_result"
    }
   ],
   "source": [
    "data.shape"
   ]
  },
  {
   "cell_type": "markdown",
   "id": "65b453bc",
   "metadata": {},
   "source": [
    "* label `BIKESTYLE` has 19 categories\n",
    "* class `FAT`has only one row\n",
    "* class `CRUISER`, `HYBRID`, `TRIALS`, `GRAVEL`, `CARGO`, `CHILDRENS`, and `FAT` are extremly unbalanced with < 1% of total rows\n",
    "* If all classes would be evenly distributed, each of them had 5 %"
   ]
  },
  {
   "cell_type": "code",
   "execution_count": 107,
   "id": "0bd9858d",
   "metadata": {},
   "outputs": [
    {
     "ename": "AttributeError",
     "evalue": "'DataFrame' object has no attribute 'BIKESTYLE'",
     "output_type": "error",
     "traceback": [
      "\u001b[0;31m---------------------------------------------------------------------------\u001b[0m",
      "\u001b[0;31mAttributeError\u001b[0m                            Traceback (most recent call last)",
      "\u001b[0;32m/var/folders/qk/t0n17tjd6xg2853ctsfg5xz80000gn/T/ipykernel_12626/3938126990.py\u001b[0m in \u001b[0;36m<module>\u001b[0;34m\u001b[0m\n\u001b[1;32m      2\u001b[0m \u001b[0mdata\u001b[0m\u001b[0;34m.\u001b[0m\u001b[0mBIKESTYLE\u001b[0m\u001b[0;34m\u001b[0m\u001b[0;34m\u001b[0m\u001b[0m\n\u001b[1;32m      3\u001b[0m \u001b[0mdata\u001b[0m \u001b[0;34m=\u001b[0m \u001b[0mBIKED\u001b[0m\u001b[0;34m.\u001b[0m\u001b[0mremove_classes_with_less_than_x_percent\u001b[0m\u001b[0;34m(\u001b[0m\u001b[0mdata\u001b[0m\u001b[0;34m)\u001b[0m\u001b[0;34m\u001b[0m\u001b[0;34m\u001b[0m\u001b[0m\n\u001b[0;32m----> 4\u001b[0;31m \u001b[0mdata\u001b[0m\u001b[0;34m.\u001b[0m\u001b[0mBIKESTYLE\u001b[0m\u001b[0;34m.\u001b[0m\u001b[0mvalue_counts\u001b[0m\u001b[0;34m(\u001b[0m\u001b[0;34m)\u001b[0m\u001b[0;34m\u001b[0m\u001b[0;34m\u001b[0m\u001b[0m\n\u001b[0m",
      "\u001b[0;32m~/opt/anaconda3/lib/python3.8/site-packages/pandas/core/generic.py\u001b[0m in \u001b[0;36m__getattr__\u001b[0;34m(self, name)\u001b[0m\n\u001b[1;32m   5573\u001b[0m         ):\n\u001b[1;32m   5574\u001b[0m             \u001b[0;32mreturn\u001b[0m \u001b[0mself\u001b[0m\u001b[0;34m[\u001b[0m\u001b[0mname\u001b[0m\u001b[0;34m]\u001b[0m\u001b[0;34m\u001b[0m\u001b[0;34m\u001b[0m\u001b[0m\n\u001b[0;32m-> 5575\u001b[0;31m         \u001b[0;32mreturn\u001b[0m \u001b[0mobject\u001b[0m\u001b[0;34m.\u001b[0m\u001b[0m__getattribute__\u001b[0m\u001b[0;34m(\u001b[0m\u001b[0mself\u001b[0m\u001b[0;34m,\u001b[0m \u001b[0mname\u001b[0m\u001b[0;34m)\u001b[0m\u001b[0;34m\u001b[0m\u001b[0;34m\u001b[0m\u001b[0m\n\u001b[0m\u001b[1;32m   5576\u001b[0m \u001b[0;34m\u001b[0m\u001b[0m\n\u001b[1;32m   5577\u001b[0m     \u001b[0;32mdef\u001b[0m \u001b[0m__setattr__\u001b[0m\u001b[0;34m(\u001b[0m\u001b[0mself\u001b[0m\u001b[0;34m,\u001b[0m \u001b[0mname\u001b[0m\u001b[0;34m:\u001b[0m \u001b[0mstr\u001b[0m\u001b[0;34m,\u001b[0m \u001b[0mvalue\u001b[0m\u001b[0;34m)\u001b[0m \u001b[0;34m->\u001b[0m \u001b[0;32mNone\u001b[0m\u001b[0;34m:\u001b[0m\u001b[0;34m\u001b[0m\u001b[0;34m\u001b[0m\u001b[0m\n",
      "\u001b[0;31mAttributeError\u001b[0m: 'DataFrame' object has no attribute 'BIKESTYLE'"
     ]
    }
   ],
   "source": [
    "#call function to drop <0.1% of values\n",
    "data = BIKED.remove_classes_with_less_than_x_percent(data)\n",
    "data.BIKESTYLE.value_counts()\n"
   ]
  },
  {
   "cell_type": "code",
   "execution_count": 100,
   "id": "c54594ac",
   "metadata": {},
   "outputs": [
    {
     "ename": "KeyError",
     "evalue": "'BIKESTYLE'",
     "output_type": "error",
     "traceback": [
      "\u001b[0;31m---------------------------------------------------------------------------\u001b[0m",
      "\u001b[0;31mKeyError\u001b[0m                                  Traceback (most recent call last)",
      "\u001b[0;32m~/opt/anaconda3/lib/python3.8/site-packages/pandas/core/indexes/base.py\u001b[0m in \u001b[0;36mget_loc\u001b[0;34m(self, key, method, tolerance)\u001b[0m\n\u001b[1;32m   3628\u001b[0m             \u001b[0;32mtry\u001b[0m\u001b[0;34m:\u001b[0m\u001b[0;34m\u001b[0m\u001b[0;34m\u001b[0m\u001b[0m\n\u001b[0;32m-> 3629\u001b[0;31m                 \u001b[0;32mreturn\u001b[0m \u001b[0mself\u001b[0m\u001b[0;34m.\u001b[0m\u001b[0m_engine\u001b[0m\u001b[0;34m.\u001b[0m\u001b[0mget_loc\u001b[0m\u001b[0;34m(\u001b[0m\u001b[0mcasted_key\u001b[0m\u001b[0;34m)\u001b[0m\u001b[0;34m\u001b[0m\u001b[0;34m\u001b[0m\u001b[0m\n\u001b[0m\u001b[1;32m   3630\u001b[0m             \u001b[0;32mexcept\u001b[0m \u001b[0mKeyError\u001b[0m \u001b[0;32mas\u001b[0m \u001b[0merr\u001b[0m\u001b[0;34m:\u001b[0m\u001b[0;34m\u001b[0m\u001b[0;34m\u001b[0m\u001b[0m\n",
      "\u001b[0;32m~/opt/anaconda3/lib/python3.8/site-packages/pandas/_libs/index.pyx\u001b[0m in \u001b[0;36mpandas._libs.index.IndexEngine.get_loc\u001b[0;34m()\u001b[0m\n",
      "\u001b[0;32m~/opt/anaconda3/lib/python3.8/site-packages/pandas/_libs/index.pyx\u001b[0m in \u001b[0;36mpandas._libs.index.IndexEngine.get_loc\u001b[0;34m()\u001b[0m\n",
      "\u001b[0;32mpandas/_libs/hashtable_class_helper.pxi\u001b[0m in \u001b[0;36mpandas._libs.hashtable.PyObjectHashTable.get_item\u001b[0;34m()\u001b[0m\n",
      "\u001b[0;32mpandas/_libs/hashtable_class_helper.pxi\u001b[0m in \u001b[0;36mpandas._libs.hashtable.PyObjectHashTable.get_item\u001b[0;34m()\u001b[0m\n",
      "\u001b[0;31mKeyError\u001b[0m: 'BIKESTYLE'",
      "\nThe above exception was the direct cause of the following exception:\n",
      "\u001b[0;31mKeyError\u001b[0m                                  Traceback (most recent call last)",
      "\u001b[0;32m/var/folders/qk/t0n17tjd6xg2853ctsfg5xz80000gn/T/ipykernel_12626/1719630570.py\u001b[0m in \u001b[0;36m<module>\u001b[0;34m\u001b[0m\n\u001b[1;32m      1\u001b[0m \u001b[0;31m#Split\u001b[0m\u001b[0;34m\u001b[0m\u001b[0;34m\u001b[0m\u001b[0;34m\u001b[0m\u001b[0m\n\u001b[0;32m----> 2\u001b[0;31m \u001b[0my\u001b[0m \u001b[0;34m=\u001b[0m \u001b[0mdata\u001b[0m\u001b[0;34m.\u001b[0m\u001b[0mpop\u001b[0m\u001b[0;34m(\u001b[0m\u001b[0;34m\"BIKESTYLE\"\u001b[0m\u001b[0;34m)\u001b[0m\u001b[0;34m\u001b[0m\u001b[0;34m\u001b[0m\u001b[0m\n\u001b[0m",
      "\u001b[0;32m~/opt/anaconda3/lib/python3.8/site-packages/pandas/core/frame.py\u001b[0m in \u001b[0;36mpop\u001b[0;34m(self, item)\u001b[0m\n\u001b[1;32m   5271\u001b[0m         \u001b[0;36m3\u001b[0m  \u001b[0mmonkey\u001b[0m        \u001b[0mNaN\u001b[0m\u001b[0;34m\u001b[0m\u001b[0;34m\u001b[0m\u001b[0m\n\u001b[1;32m   5272\u001b[0m         \"\"\"\n\u001b[0;32m-> 5273\u001b[0;31m         \u001b[0;32mreturn\u001b[0m \u001b[0msuper\u001b[0m\u001b[0;34m(\u001b[0m\u001b[0;34m)\u001b[0m\u001b[0;34m.\u001b[0m\u001b[0mpop\u001b[0m\u001b[0;34m(\u001b[0m\u001b[0mitem\u001b[0m\u001b[0;34m=\u001b[0m\u001b[0mitem\u001b[0m\u001b[0;34m)\u001b[0m\u001b[0;34m\u001b[0m\u001b[0;34m\u001b[0m\u001b[0m\n\u001b[0m\u001b[1;32m   5274\u001b[0m \u001b[0;34m\u001b[0m\u001b[0m\n\u001b[1;32m   5275\u001b[0m     \u001b[0;34m@\u001b[0m\u001b[0mdoc\u001b[0m\u001b[0;34m(\u001b[0m\u001b[0mNDFrame\u001b[0m\u001b[0;34m.\u001b[0m\u001b[0mreplace\u001b[0m\u001b[0;34m,\u001b[0m \u001b[0;34m**\u001b[0m\u001b[0m_shared_doc_kwargs\u001b[0m\u001b[0;34m)\u001b[0m\u001b[0;34m\u001b[0m\u001b[0;34m\u001b[0m\u001b[0m\n",
      "\u001b[0;32m~/opt/anaconda3/lib/python3.8/site-packages/pandas/core/generic.py\u001b[0m in \u001b[0;36mpop\u001b[0;34m(self, item)\u001b[0m\n\u001b[1;32m    863\u001b[0m \u001b[0;34m\u001b[0m\u001b[0m\n\u001b[1;32m    864\u001b[0m     \u001b[0;32mdef\u001b[0m \u001b[0mpop\u001b[0m\u001b[0;34m(\u001b[0m\u001b[0mself\u001b[0m\u001b[0;34m,\u001b[0m \u001b[0mitem\u001b[0m\u001b[0;34m:\u001b[0m \u001b[0mHashable\u001b[0m\u001b[0;34m)\u001b[0m \u001b[0;34m->\u001b[0m \u001b[0mSeries\u001b[0m \u001b[0;34m|\u001b[0m \u001b[0mAny\u001b[0m\u001b[0;34m:\u001b[0m\u001b[0;34m\u001b[0m\u001b[0;34m\u001b[0m\u001b[0m\n\u001b[0;32m--> 865\u001b[0;31m         \u001b[0mresult\u001b[0m \u001b[0;34m=\u001b[0m \u001b[0mself\u001b[0m\u001b[0;34m[\u001b[0m\u001b[0mitem\u001b[0m\u001b[0;34m]\u001b[0m\u001b[0;34m\u001b[0m\u001b[0;34m\u001b[0m\u001b[0m\n\u001b[0m\u001b[1;32m    866\u001b[0m         \u001b[0;32mdel\u001b[0m \u001b[0mself\u001b[0m\u001b[0;34m[\u001b[0m\u001b[0mitem\u001b[0m\u001b[0;34m]\u001b[0m\u001b[0;34m\u001b[0m\u001b[0;34m\u001b[0m\u001b[0m\n\u001b[1;32m    867\u001b[0m \u001b[0;34m\u001b[0m\u001b[0m\n",
      "\u001b[0;32m~/opt/anaconda3/lib/python3.8/site-packages/pandas/core/frame.py\u001b[0m in \u001b[0;36m__getitem__\u001b[0;34m(self, key)\u001b[0m\n\u001b[1;32m   3503\u001b[0m             \u001b[0;32mif\u001b[0m \u001b[0mself\u001b[0m\u001b[0;34m.\u001b[0m\u001b[0mcolumns\u001b[0m\u001b[0;34m.\u001b[0m\u001b[0mnlevels\u001b[0m \u001b[0;34m>\u001b[0m \u001b[0;36m1\u001b[0m\u001b[0;34m:\u001b[0m\u001b[0;34m\u001b[0m\u001b[0;34m\u001b[0m\u001b[0m\n\u001b[1;32m   3504\u001b[0m                 \u001b[0;32mreturn\u001b[0m \u001b[0mself\u001b[0m\u001b[0;34m.\u001b[0m\u001b[0m_getitem_multilevel\u001b[0m\u001b[0;34m(\u001b[0m\u001b[0mkey\u001b[0m\u001b[0;34m)\u001b[0m\u001b[0;34m\u001b[0m\u001b[0;34m\u001b[0m\u001b[0m\n\u001b[0;32m-> 3505\u001b[0;31m             \u001b[0mindexer\u001b[0m \u001b[0;34m=\u001b[0m \u001b[0mself\u001b[0m\u001b[0;34m.\u001b[0m\u001b[0mcolumns\u001b[0m\u001b[0;34m.\u001b[0m\u001b[0mget_loc\u001b[0m\u001b[0;34m(\u001b[0m\u001b[0mkey\u001b[0m\u001b[0;34m)\u001b[0m\u001b[0;34m\u001b[0m\u001b[0;34m\u001b[0m\u001b[0m\n\u001b[0m\u001b[1;32m   3506\u001b[0m             \u001b[0;32mif\u001b[0m \u001b[0mis_integer\u001b[0m\u001b[0;34m(\u001b[0m\u001b[0mindexer\u001b[0m\u001b[0;34m)\u001b[0m\u001b[0;34m:\u001b[0m\u001b[0;34m\u001b[0m\u001b[0;34m\u001b[0m\u001b[0m\n\u001b[1;32m   3507\u001b[0m                 \u001b[0mindexer\u001b[0m \u001b[0;34m=\u001b[0m \u001b[0;34m[\u001b[0m\u001b[0mindexer\u001b[0m\u001b[0;34m]\u001b[0m\u001b[0;34m\u001b[0m\u001b[0;34m\u001b[0m\u001b[0m\n",
      "\u001b[0;32m~/opt/anaconda3/lib/python3.8/site-packages/pandas/core/indexes/base.py\u001b[0m in \u001b[0;36mget_loc\u001b[0;34m(self, key, method, tolerance)\u001b[0m\n\u001b[1;32m   3629\u001b[0m                 \u001b[0;32mreturn\u001b[0m \u001b[0mself\u001b[0m\u001b[0;34m.\u001b[0m\u001b[0m_engine\u001b[0m\u001b[0;34m.\u001b[0m\u001b[0mget_loc\u001b[0m\u001b[0;34m(\u001b[0m\u001b[0mcasted_key\u001b[0m\u001b[0;34m)\u001b[0m\u001b[0;34m\u001b[0m\u001b[0;34m\u001b[0m\u001b[0m\n\u001b[1;32m   3630\u001b[0m             \u001b[0;32mexcept\u001b[0m \u001b[0mKeyError\u001b[0m \u001b[0;32mas\u001b[0m \u001b[0merr\u001b[0m\u001b[0;34m:\u001b[0m\u001b[0;34m\u001b[0m\u001b[0;34m\u001b[0m\u001b[0m\n\u001b[0;32m-> 3631\u001b[0;31m                 \u001b[0;32mraise\u001b[0m \u001b[0mKeyError\u001b[0m\u001b[0;34m(\u001b[0m\u001b[0mkey\u001b[0m\u001b[0;34m)\u001b[0m \u001b[0;32mfrom\u001b[0m \u001b[0merr\u001b[0m\u001b[0;34m\u001b[0m\u001b[0;34m\u001b[0m\u001b[0m\n\u001b[0m\u001b[1;32m   3632\u001b[0m             \u001b[0;32mexcept\u001b[0m \u001b[0mTypeError\u001b[0m\u001b[0;34m:\u001b[0m\u001b[0;34m\u001b[0m\u001b[0;34m\u001b[0m\u001b[0m\n\u001b[1;32m   3633\u001b[0m                 \u001b[0;31m# If we have a listlike key, _check_indexing_error will raise\u001b[0m\u001b[0;34m\u001b[0m\u001b[0;34m\u001b[0m\u001b[0;34m\u001b[0m\u001b[0m\n",
      "\u001b[0;31mKeyError\u001b[0m: 'BIKESTYLE'"
     ]
    }
   ],
   "source": [
    "#Split\n",
    "y = data.pop(\"BIKESTYLE\")"
   ]
  },
  {
   "cell_type": "code",
   "execution_count": 6,
   "id": "3f33d85b",
   "metadata": {},
   "outputs": [],
   "source": [
    "X = data"
   ]
  },
  {
   "cell_type": "code",
   "execution_count": 7,
   "id": "2c921820-dde5-487f-8515-6643da9bb3c4",
   "metadata": {
    "tags": []
   },
   "outputs": [
    {
     "name": "stdout",
     "output_type": "stream",
     "text": [
      "35\n"
     ]
    },
    {
     "data": {
      "text/html": [
       "<div>\n",
       "<style scoped>\n",
       "    .dataframe tbody tr th:only-of-type {\n",
       "        vertical-align: middle;\n",
       "    }\n",
       "\n",
       "    .dataframe tbody tr th {\n",
       "        vertical-align: top;\n",
       "    }\n",
       "\n",
       "    .dataframe thead th {\n",
       "        text-align: right;\n",
       "    }\n",
       "</style>\n",
       "<table border=\"1\" class=\"dataframe\">\n",
       "  <thead>\n",
       "    <tr style=\"text-align: right;\">\n",
       "      <th></th>\n",
       "      <th>Missing_values_Count</th>\n",
       "    </tr>\n",
       "  </thead>\n",
       "  <tbody>\n",
       "    <tr>\n",
       "      <th>HBAR type</th>\n",
       "      <td>219</td>\n",
       "    </tr>\n",
       "    <tr>\n",
       "      <th>Headset type</th>\n",
       "      <td>91</td>\n",
       "    </tr>\n",
       "    <tr>\n",
       "      <th>Dropout model</th>\n",
       "      <td>73</td>\n",
       "    </tr>\n",
       "    <tr>\n",
       "      <th>Top tube angle textfield</th>\n",
       "      <td>1</td>\n",
       "    </tr>\n",
       "    <tr>\n",
       "      <th>Seatpost type</th>\n",
       "      <td>166</td>\n",
       "    </tr>\n",
       "    <tr>\n",
       "      <th>Stack</th>\n",
       "      <td>73</td>\n",
       "    </tr>\n",
       "    <tr>\n",
       "      <th>SIZE</th>\n",
       "      <td>774</td>\n",
       "    </tr>\n",
       "    <tr>\n",
       "      <th>dropoutInsert</th>\n",
       "      <td>680</td>\n",
       "    </tr>\n",
       "    <tr>\n",
       "      <th>Cranks type</th>\n",
       "      <td>115</td>\n",
       "    </tr>\n",
       "    <tr>\n",
       "      <th>Dim A Inch TextField</th>\n",
       "      <td>2</td>\n",
       "    </tr>\n",
       "    <tr>\n",
       "      <th>ClmpYfromBB</th>\n",
       "      <td>2923</td>\n",
       "    </tr>\n",
       "    <tr>\n",
       "      <th>SaddleYfromBB</th>\n",
       "      <td>2785</td>\n",
       "    </tr>\n",
       "    <tr>\n",
       "      <th>Wheel choice rear</th>\n",
       "      <td>94</td>\n",
       "    </tr>\n",
       "    <tr>\n",
       "      <th>Wheel choice front</th>\n",
       "      <td>94</td>\n",
       "    </tr>\n",
       "    <tr>\n",
       "      <th>Dim A TextField</th>\n",
       "      <td>1</td>\n",
       "    </tr>\n",
       "    <tr>\n",
       "      <th>Fork choice</th>\n",
       "      <td>77</td>\n",
       "    </tr>\n",
       "    <tr>\n",
       "      <th>Handlebar Y textfield</th>\n",
       "      <td>1</td>\n",
       "    </tr>\n",
       "    <tr>\n",
       "      <th>Saddle type</th>\n",
       "      <td>33</td>\n",
       "    </tr>\n",
       "    <tr>\n",
       "      <th>Dim B TextField</th>\n",
       "      <td>1</td>\n",
       "    </tr>\n",
       "    <tr>\n",
       "      <th>bottle SEATTUBE0 WBL</th>\n",
       "      <td>3087</td>\n",
       "    </tr>\n",
       "    <tr>\n",
       "      <th>bottle SEATTUBE0 WBD</th>\n",
       "      <td>3087</td>\n",
       "    </tr>\n",
       "    <tr>\n",
       "      <th>bottle SEATTUBE0 WBX</th>\n",
       "      <td>3087</td>\n",
       "    </tr>\n",
       "    <tr>\n",
       "      <th>bottle SEATTUBE0 WBY</th>\n",
       "      <td>3087</td>\n",
       "    </tr>\n",
       "    <tr>\n",
       "      <th>bottle SEATTUBE0 SIZE</th>\n",
       "      <td>3087</td>\n",
       "    </tr>\n",
       "    <tr>\n",
       "      <th>bottle DOWNTUBE0 SIZE</th>\n",
       "      <td>1755</td>\n",
       "    </tr>\n",
       "    <tr>\n",
       "      <th>bottle SEATTUBE0 X</th>\n",
       "      <td>3087</td>\n",
       "    </tr>\n",
       "    <tr>\n",
       "      <th>bottle DOWNTUBE0 WBY</th>\n",
       "      <td>1755</td>\n",
       "    </tr>\n",
       "    <tr>\n",
       "      <th>bottle DOWNTUBE0 WBX</th>\n",
       "      <td>1755</td>\n",
       "    </tr>\n",
       "    <tr>\n",
       "      <th>bottle DOWNTUBE0 WBL</th>\n",
       "      <td>1755</td>\n",
       "    </tr>\n",
       "    <tr>\n",
       "      <th>bottle DOWNTUBE0 WBD</th>\n",
       "      <td>1755</td>\n",
       "    </tr>\n",
       "    <tr>\n",
       "      <th>bottle SEATTUBE0 CAGE</th>\n",
       "      <td>3087</td>\n",
       "    </tr>\n",
       "    <tr>\n",
       "      <th>bottle DOWNTUBE0 flip</th>\n",
       "      <td>1755</td>\n",
       "    </tr>\n",
       "    <tr>\n",
       "      <th>bottle DOWNTUBE0 X</th>\n",
       "      <td>1755</td>\n",
       "    </tr>\n",
       "    <tr>\n",
       "      <th>bottle DOWNTUBE0 CAGE</th>\n",
       "      <td>1755</td>\n",
       "    </tr>\n",
       "    <tr>\n",
       "      <th>rockerPosition</th>\n",
       "      <td>4415</td>\n",
       "    </tr>\n",
       "  </tbody>\n",
       "</table>\n",
       "</div>"
      ],
      "text/plain": [
       "                          Missing_values_Count\n",
       "HBAR type                                  219\n",
       "Headset type                                91\n",
       "Dropout model                               73\n",
       "Top tube angle textfield                     1\n",
       "Seatpost type                              166\n",
       "Stack                                       73\n",
       "SIZE                                       774\n",
       "dropoutInsert                              680\n",
       "Cranks type                                115\n",
       "Dim A Inch TextField                         2\n",
       "ClmpYfromBB                               2923\n",
       "SaddleYfromBB                             2785\n",
       "Wheel choice rear                           94\n",
       "Wheel choice front                          94\n",
       "Dim A TextField                              1\n",
       "Fork choice                                 77\n",
       "Handlebar Y textfield                        1\n",
       "Saddle type                                 33\n",
       "Dim B TextField                              1\n",
       "bottle SEATTUBE0 WBL                      3087\n",
       "bottle SEATTUBE0 WBD                      3087\n",
       "bottle SEATTUBE0 WBX                      3087\n",
       "bottle SEATTUBE0 WBY                      3087\n",
       "bottle SEATTUBE0 SIZE                     3087\n",
       "bottle DOWNTUBE0 SIZE                     1755\n",
       "bottle SEATTUBE0 X                        3087\n",
       "bottle DOWNTUBE0 WBY                      1755\n",
       "bottle DOWNTUBE0 WBX                      1755\n",
       "bottle DOWNTUBE0 WBL                      1755\n",
       "bottle DOWNTUBE0 WBD                      1755\n",
       "bottle SEATTUBE0 CAGE                     3087\n",
       "bottle DOWNTUBE0 flip                     1755\n",
       "bottle DOWNTUBE0 X                        1755\n",
       "bottle DOWNTUBE0 CAGE                     1755\n",
       "rockerPosition                            4415"
      ]
     },
     "execution_count": 7,
     "metadata": {},
     "output_type": "execute_result"
    }
   ],
   "source": [
    "# check missing values # HIER KÖNNTE ICH LERNEN WIE ICH ES KÜRZER SCHREIBE\n",
    "missing_values_col = X.isna().sum()\n",
    "missing_values_col = pd.DataFrame(missing_values_col)\n",
    "missing_values_col.columns = [\"Missing_values_Count\"]\n",
    "\n",
    "missing_values_col = missing_values_col.loc[missing_values_col[\"Missing_values_Count\"] > 0, :]\n",
    "print(len(missing_values_col))\n",
    "missing_values_col\n",
    "\n"
   ]
  },
  {
   "cell_type": "markdown",
   "id": "601a58b0",
   "metadata": {},
   "source": [
    "**Conclusion:**\n",
    "* There are 35 columns with missing values.\n",
    "* Column `SIZE` has 774 missing values. Interesting, because `SIZE` results in 555 columns after OneHotEncoding.\n",
    "* Columns `bottle xxx` have many missing values. Might be useful to put them into fewer columns. i.e. `bottle DOWNTUBE` and `bottle SEATTUBE`"
   ]
  },
  {
   "cell_type": "code",
   "execution_count": 8,
   "id": "ca3c868e-6ef2-4d36-bf83-a452c0c6ed69",
   "metadata": {
    "collapsed": true,
    "jupyter": {
     "outputs_hidden": true
    },
    "tags": []
   },
   "outputs": [
    {
     "name": "stdout",
     "output_type": "stream",
     "text": [
      "<class 'pandas.core.frame.DataFrame'>\n",
      "Int64Index: 4511 entries, 0 to 4510\n",
      "Columns: 1318 entries, SSSIDECX3 to RDBSD\n",
      "dtypes: bool(150), float64(978), int64(153), object(37)\n",
      "memory usage: 40.9+ MB\n"
     ]
    }
   ],
   "source": [
    "#check data types (which columns are not numeric and what to do with them)\n",
    "X.info() "
   ]
  },
  {
   "cell_type": "code",
   "execution_count": 9,
   "id": "489a2e94",
   "metadata": {},
   "outputs": [
    {
     "name": "stdout",
     "output_type": "stream",
     "text": [
      "37\n"
     ]
    },
    {
     "data": {
      "text/plain": [
       "Index(['HBAR type', 'Headset type', 'Rack type', 'DIRECTMOUNTFDTYPE',\n",
       "       'Dropout model', 'HEADTUBEtype', 'BATTERYmount', 'Seatpost type',\n",
       "       'FRONTbrake type', 'Stem type', 'Pump size', 'MATERIAL',\n",
       "       'FRONTdiscB type', 'SIZE', 'StaticDropout', 'RIM_STYLE front',\n",
       "       'SPROCKETS type', 'PhBlock typeDOWNTUBE', 'GEARBOXtype',\n",
       "       'dropoutInsert', 'REARdiscB type', 'Cranks type', 'MOUNT_TYPE',\n",
       "       'Yoke type', 'RIM_STYLE rear', 'Brake lever brand', 'Pedals type',\n",
       "       'Wheel choice rear', 'REARbrake type', 'CLAMPFDTYPE',\n",
       "       'Wheel choice front', 'PhBlock typeTOPTUBE', 'DROPOUT STYLE',\n",
       "       'Fit scheme', 'Fork choice', 'Saddle type', 'BRAZEonFDTYPE'],\n",
       "      dtype='object')"
      ]
     },
     "execution_count": 9,
     "metadata": {},
     "output_type": "execute_result"
    }
   ],
   "source": [
    "categorical_cols = X.select_dtypes(include=\"object\").columns\n",
    "print(len(list(categorical_cols)))\n",
    "categorical_cols\n",
    "\n",
    "#boolean_cols = X.select_dtypes(include=\"bool\").columns\n",
    "#print(len(boolean_cols))\n",
    "#boolean_cols"
   ]
  },
  {
   "cell_type": "markdown",
   "id": "7c913559-8d75-4d3e-866c-6b7e16cee1b7",
   "metadata": {
    "tags": []
   },
   "source": [
    "**Conclusion:** "
   ]
  },
  {
   "cell_type": "markdown",
   "id": "d7b6f02e-6ec2-401f-b05f-c2e16a5addb4",
   "metadata": {
    "tags": []
   },
   "source": [
    "* There are 187 non-numeric column. of which 150 columns are boolean.\n",
    "* There are 37 object columns, which need to be encoded (OneHot or Ordinal).\n",
    "\n"
   ]
  },
  {
   "cell_type": "markdown",
   "id": "1f710e8c",
   "metadata": {},
   "source": [
    "\n",
    "LIST OF COLUMNS:\n",
    "OBJECT: \n",
    "'HBAR type', 'Headset type', 'Rack type', 'DIRECTMOUNTFDTYPE',\n",
    "       'Dropout model', 'HEADTUBEtype', 'BATTERYmount', 'Seatpost type',\n",
    "       'FRONTbrake type', 'Stem type', 'Pump size', 'MATERIAL',\n",
    "       'FRONTdiscB type', 'SIZE', 'StaticDropout', 'RIM_STYLE front',\n",
    "       'SPROCKETS type', 'PhBlock typeDOWNTUBE', 'GEARBOXtype',\n",
    "       'dropoutInsert', 'REARdiscB type', 'Cranks type', 'MOUNT_TYPE',\n",
    "       'Yoke type', 'RIM_STYLE rear', 'Brake lever brand', 'Pedals type',\n",
    "       'Wheel choice rear', 'REARbrake type', 'CLAMPFDTYPE',\n",
    "       'Wheel choice front', 'PhBlock typeTOPTUBE', 'DROPOUT STYLE',\n",
    "       'Fit scheme', 'Fork choice', 'Saddle type', 'BRAZEonFDTYPE'\n",
    "\n",
    "BOOL: (just a few)\n",
    "'REARDiscAdaptOnPost', 'Seatpost AERO', 'DOWNTUBE1SnSCheck',\n",
    "       'USEgearbox', 'REARROTOR_INCLUDE', 'nSeat stay Curv Check',\n",
    "       'CSSIDEISBENT', 'LINKpump2SCHEME', 'SEATSTAYholeCheck', 'LOOPED_STAYS',\n",
    "       ...\n",
    "       'Female', 'Seatpost MAST', 'CASS_aux', 'DUAL_CROWN',\n",
    "       'REARDiscTabIsPost', 'CHEVRONDOWNTUBE1ON', 'CHEVRONTOPTUBE1ON',\n",
    "       'Dim A CheckBox', 'bottle SEATTUBE0 show', 'bottle DOWNTUBE0 show'"
   ]
  },
  {
   "cell_type": "code",
   "execution_count": 10,
   "id": "95c77acc",
   "metadata": {},
   "outputs": [
    {
     "data": {
      "text/plain": [
       "array([ True,  True, False, False,  True, False, False,  True, False,\n",
       "       False, False, False, False,  True, False, False, False, False,\n",
       "       False,  True, False,  True, False, False, False, False, False,\n",
       "        True, False, False,  True, False, False, False,  True,  True,\n",
       "       False])"
      ]
     },
     "execution_count": 10,
     "metadata": {},
     "output_type": "execute_result"
    }
   ],
   "source": [
    "# which columns have missing values and also have categorical? - yes there are some. Make sure in the preprocessor that they are properly taken care of.\n",
    "# # # # # #  I wonder how the author took care of it.\n",
    "\n",
    "categorical_cols.isin(missing_values_col.index)\n",
    "#boolean_cols.isin(missing_values_col.index)"
   ]
  },
  {
   "cell_type": "code",
   "execution_count": 11,
   "id": "f1deee11",
   "metadata": {},
   "outputs": [
    {
     "data": {
      "text/plain": [
       "(4511, 1318)"
      ]
     },
     "execution_count": 11,
     "metadata": {},
     "output_type": "execute_result"
    }
   ],
   "source": [
    "X.shape"
   ]
  },
  {
   "cell_type": "code",
   "execution_count": 12,
   "id": "9b8a1398",
   "metadata": {},
   "outputs": [
    {
     "data": {
      "text/plain": [
       "(4511, 1131)"
      ]
     },
     "execution_count": 12,
     "metadata": {},
     "output_type": "execute_result"
    }
   ],
   "source": [
    "# This time take only numerical columns\n",
    "X = X.select_dtypes(include=\"number\").copy()\n",
    "X.shape"
   ]
  },
  {
   "cell_type": "code",
   "execution_count": 13,
   "id": "4d4e3594-ebce-441b-8a2a-70f10418a855",
   "metadata": {
    "tags": []
   },
   "outputs": [],
   "source": [
    "# Train / Test Split\n",
    "X_train, X_test, y_train, y_test = train_test_split(X, y, test_size=0.2, random_state=31416)"
   ]
  },
  {
   "cell_type": "markdown",
   "id": "ce31741c-3350-4324-8b1d-5f28a8c82c95",
   "metadata": {},
   "source": [
    "## 2. Building `preprocessor` pipeline"
   ]
  },
  {
   "cell_type": "code",
   "execution_count": 14,
   "id": "3bcd6595-3402-4f0d-9e3c-f13344d1595d",
   "metadata": {},
   "outputs": [
    {
     "data": {
      "text/html": [
       "<div>\n",
       "<style scoped>\n",
       "    .dataframe tbody tr th:only-of-type {\n",
       "        vertical-align: middle;\n",
       "    }\n",
       "\n",
       "    .dataframe tbody tr th {\n",
       "        vertical-align: top;\n",
       "    }\n",
       "\n",
       "    .dataframe thead th {\n",
       "        text-align: right;\n",
       "    }\n",
       "</style>\n",
       "<table border=\"1\" class=\"dataframe\">\n",
       "  <thead>\n",
       "    <tr style=\"text-align: right;\">\n",
       "      <th></th>\n",
       "      <th>SSSIDECX3</th>\n",
       "      <th>SSSIDECX2</th>\n",
       "      <th>SSSIDECX1</th>\n",
       "      <th>SSSIDECY2</th>\n",
       "      <th>SSSIDECY1</th>\n",
       "      <th>STEMBENDS</th>\n",
       "      <th>FRONTROTORBOLTS</th>\n",
       "      <th>Shoe up angle</th>\n",
       "      <th>Rollout units</th>\n",
       "      <th>Down tube front diameter</th>\n",
       "      <th>...</th>\n",
       "      <th>bottle DOWNTUBE0 WBL</th>\n",
       "      <th>bottle DOWNTUBE0 WBD</th>\n",
       "      <th>bottle SEATTUBE0 CAGE</th>\n",
       "      <th>bottle DOWNTUBE0 flip</th>\n",
       "      <th>bottle DOWNTUBE0 X</th>\n",
       "      <th>bottle DOWNTUBE0 CAGE</th>\n",
       "      <th>rockerPosition</th>\n",
       "      <th>RDERD</th>\n",
       "      <th>FDERD</th>\n",
       "      <th>RDBSD</th>\n",
       "    </tr>\n",
       "  </thead>\n",
       "  <tbody>\n",
       "    <tr>\n",
       "      <th>1845</th>\n",
       "      <td>65.5</td>\n",
       "      <td>130.4</td>\n",
       "      <td>304.2</td>\n",
       "      <td>-10.0</td>\n",
       "      <td>10.0</td>\n",
       "      <td>0</td>\n",
       "      <td>6</td>\n",
       "      <td>39</td>\n",
       "      <td>0</td>\n",
       "      <td>38.1</td>\n",
       "      <td>...</td>\n",
       "      <td>201.0</td>\n",
       "      <td>73.5</td>\n",
       "      <td>1.0</td>\n",
       "      <td>0.0</td>\n",
       "      <td>200.0</td>\n",
       "      <td>1.0</td>\n",
       "      <td>50.0</td>\n",
       "      <td>92.0</td>\n",
       "      <td>92.0</td>\n",
       "      <td>52.0</td>\n",
       "    </tr>\n",
       "    <tr>\n",
       "      <th>3510</th>\n",
       "      <td>71.8</td>\n",
       "      <td>134.9</td>\n",
       "      <td>350.0</td>\n",
       "      <td>-10.0</td>\n",
       "      <td>10.0</td>\n",
       "      <td>0</td>\n",
       "      <td>6</td>\n",
       "      <td>36</td>\n",
       "      <td>0</td>\n",
       "      <td>58.0</td>\n",
       "      <td>...</td>\n",
       "      <td>NaN</td>\n",
       "      <td>NaN</td>\n",
       "      <td>NaN</td>\n",
       "      <td>NaN</td>\n",
       "      <td>NaN</td>\n",
       "      <td>NaN</td>\n",
       "      <td>NaN</td>\n",
       "      <td>92.0</td>\n",
       "      <td>92.0</td>\n",
       "      <td>52.0</td>\n",
       "    </tr>\n",
       "  </tbody>\n",
       "</table>\n",
       "<p>2 rows × 1131 columns</p>\n",
       "</div>"
      ],
      "text/plain": [
       "      SSSIDECX3  SSSIDECX2  SSSIDECX1  SSSIDECY2  SSSIDECY1  STEMBENDS  \\\n",
       "1845       65.5      130.4      304.2      -10.0       10.0          0   \n",
       "3510       71.8      134.9      350.0      -10.0       10.0          0   \n",
       "\n",
       "      FRONTROTORBOLTS  Shoe up angle  Rollout units  Down tube front diameter  \\\n",
       "1845                6             39              0                      38.1   \n",
       "3510                6             36              0                      58.0   \n",
       "\n",
       "      ...  bottle DOWNTUBE0 WBL  bottle DOWNTUBE0 WBD  bottle SEATTUBE0 CAGE  \\\n",
       "1845  ...                 201.0                  73.5                    1.0   \n",
       "3510  ...                   NaN                   NaN                    NaN   \n",
       "\n",
       "      bottle DOWNTUBE0 flip  bottle DOWNTUBE0 X  bottle DOWNTUBE0 CAGE  \\\n",
       "1845                    0.0               200.0                    1.0   \n",
       "3510                    NaN                 NaN                    NaN   \n",
       "\n",
       "      rockerPosition  RDERD  FDERD  RDBSD  \n",
       "1845            50.0   92.0   92.0   52.0  \n",
       "3510             NaN   92.0   92.0   52.0  \n",
       "\n",
       "[2 rows x 1131 columns]"
      ]
     },
     "execution_count": 14,
     "metadata": {},
     "output_type": "execute_result"
    }
   ],
   "source": [
    "X_train.head(2)"
   ]
  },
  {
   "cell_type": "code",
   "execution_count": 15,
   "id": "af258f9c-b0bb-45f2-87fd-ac30b952713f",
   "metadata": {},
   "outputs": [],
   "source": [
    "# 2.a) Select categorical and numerical columns\n",
    "X_cat = X.select_dtypes(exclude=\"number\").copy()\n",
    "X_num = X.select_dtypes(include=\"number\").copy()\n"
   ]
  },
  {
   "cell_type": "code",
   "execution_count": 16,
   "id": "6d41d154",
   "metadata": {},
   "outputs": [],
   "source": [
    "\n",
    "# 2.b) Numerical Pipeline, only with the SimpleImputer(strategy=\"mean\")\n",
    "numeric_pipe = make_pipeline(\n",
    "    SimpleImputer(strategy=\"constant\")   #strategy=\"constant\"\n",
    "    #KNNImputer(5)\n",
    ")\n"
   ]
  },
  {
   "cell_type": "code",
   "execution_count": 17,
   "id": "334b910d",
   "metadata": {},
   "outputs": [],
   "source": [
    "# NOT EXECUTED YET\n",
    "# 2.c) Categorical Pipeline\n",
    "\n",
    "# # # i. Defining the categorical encoder\n",
    "ordinal_col_names = ['ExterQual', \n",
    "                     'ExterCond', \n",
    "                     'BsmtQual', \n",
    "                     'BsmtCond',\n",
    "                     'BsmtExposure', \n",
    "                     'BsmtFinType1', \n",
    "                     'KitchenQual', \n",
    "                     'FireplaceQu', \n",
    "                     'LotShape', \n",
    "                     'BsmtFinType2',\n",
    "                     'HeatingQC',\n",
    "                     'GarageFinish', \n",
    "                     'GarageQual', \n",
    "                     'GarageCond', \n",
    "                     'PoolQC', \n",
    "                     'Fence']\n",
    "\n",
    "ordinal_cols = X_cat.columns.get_indexer(ordinal_col_names)\n",
    "onehot_cols = X_cat.columns.get_indexer(list(set(X_cat) - set(ordinal_col_names)))\n",
    "\n",
    "# # # ii. Defining values for Ordinal Encoding\n",
    "ExterQual_cats = [\"NA\", \"Po\", \"Fa\", \"TA\", \"Gd\", \"Ex\"]\n",
    "ExterCond_cats = [\"NA\", \"Po\", \"Fa\", \"TA\", \"Gd\", \"Ex\"]\n",
    "BsmtQual_cats = [\"NA\", \"Po\", \"Fa\", \"TA\", \"Gd\", \"Ex\"]\n",
    "BsmtCond_cats = [\"NA\", \"Po\", \"Fa\", \"TA\", \"Gd\", \"Ex\"]\n",
    "BsmtExposure_cats = [\"NA\", \"No\", \"Mn\", \"Av\", \"Gd\"]\n",
    "BsmtFinType1_cats = [\"NA\", \"Unf\", \"LwQ\", \"Rec\", \"BLQ\", \"ALQ\", \"GLQ\"]\n",
    "KitchenQual_cats = [\"NA\", \"Po\", \"Fa\", \"TA\", \"Gd\", \"Ex\"]\n",
    "FireplaceQu_cats = [\"NA\", \"Po\", \"Fa\", \"TA\", \"Gd\", \"Ex\"]\n",
    "LotShape_cats = [\"NA\", 'Reg', 'IR1', 'IR2', 'IR3']\n",
    "BsmtFinType2_cats = ['NA','Unf','LwQ','Rec','BLQ','ALQ','GLQ']\n",
    "HeatingQC_cats = [\"NA\", \"Po\", \"Fa\", \"TA\", \"Gd\", \"Ex\"]\n",
    "GarageFinish_cats = ['NA','Unf','RFn','Fin']\n",
    "GarageQual_cats = [\"NA\", \"Po\", \"Fa\", \"TA\", \"Gd\", \"Ex\"]\n",
    "GarageCond_cats = [\"NA\", \"Po\", \"Fa\", \"TA\", \"Gd\", \"Ex\"]\n",
    "PoolQC_cats = [\"NA\", \"Po\", \"Fa\", \"TA\", \"Gd\", \"Ex\"]\n",
    "Fence_cats = ['NA','MnWw','GdWo','MnPrv','GdPrv']\n",
    "\n",
    "ordinal_cats_list = [ExterQual_cats, ExterCond_cats, BsmtQual_cats, BsmtCond_cats, \n",
    "                    BsmtExposure_cats, BsmtFinType1_cats, KitchenQual_cats, FireplaceQu_cats, \n",
    "                    LotShape_cats, BsmtFinType2_cats, HeatingQC_cats, GarageFinish_cats, GarageQual_cats,\n",
    "                    GarageCond_cats, PoolQC_cats, Fence_cats]\n",
    "\n",
    "\n",
    "# # # iii. Defining the ColumnTransformer with 2 branches: ordinal & onehot (categorical encoder)\n",
    "categorical_encoder = ColumnTransformer(\n",
    "    transformers=[\n",
    "#        (\"cat_ordinal\", OrdinalEncoder(categories=ordinal_cats_list), ordinal_cols),\n",
    "        (\"cat_onehot\", OneHotEncoder(handle_unknown=\"ignore\"), onehot_cols),\n",
    "    ]\n",
    ")\n",
    "\n",
    "# # # iv. Categorical pipeline = \"NA\" imputer + categorical encoder\n",
    "categoric_pipe = make_pipeline(SimpleImputer(strategy=\"constant\", fill_value=\"NA\"),\n",
    "                                 categorical_encoder\n",
    "                                )\n",
    "\n",
    "# 2.d) Preprocessor\n",
    "preprocessor = ColumnTransformer(\n",
    "    transformers=[\n",
    "        (\"num_pipe\", numeric_pipe, X_num.columns),\n",
    "        (\"cat_pipe\", categoric_pipe, X_cat.columns),\n",
    "    ]\n",
    ")"
   ]
  },
  {
   "cell_type": "code",
   "execution_count": 18,
   "id": "ac0ab560",
   "metadata": {},
   "outputs": [
    {
     "data": {
      "text/plain": [
       "(3608, 1131)"
      ]
     },
     "execution_count": 18,
     "metadata": {},
     "output_type": "execute_result"
    }
   ],
   "source": [
    "X_train.shape"
   ]
  },
  {
   "cell_type": "markdown",
   "id": "ab6111a3-2e01-4ffb-abfc-205cfee0bcec",
   "metadata": {
    "tags": []
   },
   "source": [
    "**EXPLANATION FOR CATEGORICAL PIPELINE: --2.c)--**"
   ]
  },
  {
   "cell_type": "markdown",
   "id": "11caa9eb-4da5-4df0-adbf-0e17aef65bb5",
   "metadata": {
    "tags": []
   },
   "source": [
    "**Start from the bottom! (# # # iv.):**\n",
    "* `categoric_pipe` = make_pipeline(SimpleImputer(), `categorical_encoder`)\n",
    "\n",
    "\n",
    "\n",
    "**needs `categorical_encoder` (# # # iii.):**\n",
    "* `categorical_encoder` = ColumnTransformer(tranformers=[\n",
    "    * (\"cat_ordinal\", OrdinalEncoder(categories=`ordinal_cats_list`), `ordinal_cols`), \n",
    "    * (\"cat_onehot\", OneHotEncoder(handle_unknown=\"ignore\"), `onehot_cols`)])\n",
    "\n",
    "\n",
    "**needs `ordinal_cats_list` (# # # ii.) and needs `ordinal_cols`and `onehot_cols`(# # # i.):**\n",
    "\n",
    "(\\# # # i.) `ordinal_cols`and `onehot_cols`:\n",
    "* ordinal_col_names = ['ExterQual', '...']\n",
    "* `ordinal_cols` = X_cat.columns.get_indexer(ordinal_col_names)\n",
    "* `onehot_cols` = X_cat.columns.get_indexer(list(set(X_cat) - set(ordinal_col_names)))\n",
    "\n",
    "\n",
    "(\\# # # ii.) `ordinal_cats_list`: define values and then make a list:**\n",
    "* ExterQual_cats = [\"NA\", \"Po\", \"Fa\", \"TA\", \"Gd\", \"Ex\"]\n",
    "* ExterCond_cats = [\"NA\", \"Po\", \"Fa\", \"TA\", \"Gd\", \"Ex\"]\n",
    "* etc.\n",
    "* `ordinal_cats_list` = [ExterQual_cats, ExterCond_cats, ...]"
   ]
  },
  {
   "cell_type": "markdown",
   "id": "5324b0dc",
   "metadata": {},
   "source": [
    "# 3. Evaluating Models"
   ]
  },
  {
   "cell_type": "code",
   "execution_count": 73,
   "id": "e6a00981",
   "metadata": {},
   "outputs": [],
   "source": [
    "from sklearn.ensemble import AdaBoostClassifier        #AdaBoost\n",
    "from sklearn.svm import SVC                            #Support Vector Clf.\n",
    "\n",
    "from sklearn.gaussian_process import GaussianProcessClassifier     #Gaussian Pr. Clf.\n",
    "from sklearn.neural_network import MLPClassifier                   #3-layer Neural Net, #6-Layer Neural Net\n",
    "from sklearn.gaussian_process.kernels import ConstantKernel, RBF\n",
    "\n",
    "def get_model_and_params(model_name, param_grid):\n",
    "    if model_name == \"rforest\":\n",
    "        model = RandomForestClassifier()\n",
    "        param_grid.update({\"randomforestclassifier__warm_start\": [True, False],\n",
    "                \"randomforestclassifier__n_estimators\": [100, 200],\n",
    "                \"randomforestclassifier__max_depth\": range(2, 14),\n",
    "                \"randomforestclassifier__min_samples_leaf\": range(2, 10),\n",
    "                \"randomforestclassifier__criterion\":[\"gini\", \"entropy\"]})\n",
    "    elif model_name == \"knn\":\n",
    "        model = KNeighborsClassifier()\n",
    "        param_grid.update({\"kneighborsclassifier__n_neighbors\": range(2, 50),\n",
    "                \"kneighborsclassifier__weights\": [\"uniform\", \"distance\"]})\n",
    "    elif model_name == \"dt\":\n",
    "        model = DecisionTreeClassifier()\n",
    "        param_grid.update({\"decisiontreeclassifier__max_depth\": range(2, 14),\n",
    "                \"decisiontreeclassifier__min_samples_leaf\": range(2, 12),\n",
    "#               \"decisiontreeclassifier__min_samples_split\": range(3, 40, 2),\n",
    "                \"decisiontreeclassifier__criterion\":[\"gini\", \"entropy\"]})\n",
    "    elif model_name == \"Ada\":\n",
    "        model = AdaBoostClassifier()\n",
    "        param_grid.update({#\"adaboostclassifiert__estimator\": [DecisionTreeClassifier(max_depth=1), DecisionTreeClassifier(max_depth=3)],\n",
    "                \"adaboostclassifier__n_estimators\": [50, 80],\n",
    "                \"adaboostclassifier__learning_rate\": [0.5, 1.0, 1.5, 2.0, 2.5]})\n",
    "    #elif model_name == \"SVC\": # runtime too long. Stopped after 2 hours \n",
    "    #    model = SVC()\n",
    "    #    param_grid.update({\"svc__kernel\": [\"linear\", \"poly\", \"rbf\", \"sigmoid\"],\n",
    "    #            \"svc__class_weight\": [\"balanced\", \"None\"]})\n",
    "    elif model_name == \"GaussPrC\":\n",
    "        model = GaussianProcessClassifier(1.0 * RBF(1.0))\n",
    "        param_grid.update({\"gaussianprocessclassifier__multi_class\": [\"one_vs_rest\", \"one_vs_one\"]})\n",
    "    elif model_name == \"mlp\":\n",
    "        model = MLPClassifier()\n",
    "        param_grid.update({\"mlpclassifier__hidden_layer_sizes\": [(200), (200, 200)],\n",
    "            \"mlpclassifier__max_iter\": [3000, 5000]})\n",
    "\n",
    "    return model, param_grid\n",
    "\n",
    "\n"
   ]
  },
  {
   "cell_type": "code",
   "execution_count": 68,
   "id": "b89d8112",
   "metadata": {},
   "outputs": [],
   "source": [
    "\n",
    "def evaluate_model(list_of_models, param_grid_preproc):\n",
    "    score_new = {\n",
    "        \"model\": [],\n",
    "        \"test_acc_score\": [],\n",
    "        \"train_acc_score\": [],\n",
    "        \"best_score_of_CV\": [],\n",
    "        \"best_params\": []\n",
    "    }\n",
    "    param_grid = {}\n",
    "    \n",
    "    for i in list_of_models:\n",
    "        #reset values to be empty : \n",
    "        model = \"\"\n",
    "        param_grid.clear()\n",
    "        param_grid = param_grid_preproc\n",
    "\n",
    "        # # # # it would nice if I make this into a function get_model_and_params\n",
    "        model, param_grid = get_model_and_params(i, param_grid)\n",
    "\n",
    "        #create the full_pipeline\n",
    "        full_pipe = make_pipeline(preprocessor, \n",
    "                          StandardScaler(with_mean=False),\n",
    "                          model\n",
    "                             )\n",
    "\n",
    "        # define cross validation\n",
    "        search = RandomizedSearchCV(full_pipe,\n",
    "                      param_grid,\n",
    "                      cv=5,\n",
    "                      verbose=1,\n",
    "                      scoring=\"accuracy\",\n",
    "                      n_jobs=-2, \n",
    "                      n_iter=5\n",
    "                    )                             \n",
    "\n",
    "        # fit\n",
    "        search.fit(X_train, y_train)\n",
    "        print(search.best_params_)\n",
    "\n",
    "        score_new[\"model\"].append(i)\n",
    "\n",
    "        ### testing accuracy\n",
    "        y_test_pred = search.predict(X_test)\n",
    "        acc_test = accuracy_score(y_test, y_test_pred)\n",
    "        score_new[\"test_acc_score\"].append(acc_test)\n",
    "\n",
    "        #get score of TRAIN-Data (overfitting?)\n",
    "        y_train_pred = search.predict(X_train)\n",
    "        acc_train = accuracy_score(y_train, y_train_pred)\n",
    "        score_new[\"train_acc_score\"].append(acc_train)\n",
    "\n",
    "        # keep scores of model (optional)\n",
    "        score_new[\"best_score_of_CV\"].append(search.best_score_)\n",
    "        score_new[\"best_params\"].append(search.best_params_)\n",
    "\n",
    "        print(i, model)\n",
    "        print(\"end\")\n",
    "    return pd.DataFrame(score_new)\n",
    "\n"
   ]
  },
  {
   "cell_type": "code",
   "execution_count": 74,
   "id": "7c4005bb",
   "metadata": {},
   "outputs": [
    {
     "name": "stdout",
     "output_type": "stream",
     "text": [
      "Fitting 5 folds for each of 4 candidates, totalling 20 fits\n"
     ]
    },
    {
     "name": "stderr",
     "output_type": "stream",
     "text": [
      "/Users/liane/opt/anaconda3/lib/python3.8/site-packages/sklearn/model_selection/_search.py:292: UserWarning: The total space of parameters 4 is smaller than n_iter=5. Running 4 iterations. For exhaustive searches, use GridSearchCV.\n",
      "  warnings.warn(\n"
     ]
    },
    {
     "name": "stdout",
     "output_type": "stream",
     "text": [
      "{'mlpclassifier__max_iter': 3000, 'mlpclassifier__hidden_layer_sizes': 200}\n",
      "mlp MLPClassifier()\n",
      "end\n"
     ]
    }
   ],
   "source": [
    "# set models, pass param_grid for preprocessor-pipeline\n",
    "list_of_models = [\"mlp\"] # , \"rforest\", \"knn\", \"dt\", \"GaussPrC\", \"mlp\" \"SVC\" \"Ada\", , \"mlp\"\n",
    "\n",
    "param_grid_preproc = {}\n",
    "\n",
    "score_new = evaluate_model(list_of_models, param_grid_preproc)\n"
   ]
  },
  {
   "cell_type": "markdown",
   "id": "dd23d35d",
   "metadata": {},
   "source": [
    "# Keep track of scores"
   ]
  },
  {
   "cell_type": "code",
   "execution_count": 76,
   "id": "449e59d6",
   "metadata": {},
   "outputs": [],
   "source": [
    "#Set to Initialize = True when you want to start over.\n",
    "initialize_all_scores = False     \n",
    "\n",
    "if initialize_all_scores == True:\n",
    "    score_all = {\n",
    "        \"model\": [], \n",
    "        \"test_acc_score\" : [],\n",
    "        \"train_acc_score\" : [],\n",
    "        \"best_params\": [],\n",
    "        \"best_score_of_CV\": [],\n",
    "        \"dataset\": [],\n",
    "        \"preprocessing\": [],\n",
    "    }\n",
    "    score_all = pd.DataFrame(score_all)"
   ]
  },
  {
   "cell_type": "code",
   "execution_count": 77,
   "id": "6e578dcf",
   "metadata": {},
   "outputs": [
    {
     "data": {
      "text/html": [
       "<div>\n",
       "<style scoped>\n",
       "    .dataframe tbody tr th:only-of-type {\n",
       "        vertical-align: middle;\n",
       "    }\n",
       "\n",
       "    .dataframe tbody tr th {\n",
       "        vertical-align: top;\n",
       "    }\n",
       "\n",
       "    .dataframe thead th {\n",
       "        text-align: right;\n",
       "    }\n",
       "</style>\n",
       "<table border=\"1\" class=\"dataframe\">\n",
       "  <thead>\n",
       "    <tr style=\"text-align: right;\">\n",
       "      <th></th>\n",
       "      <th>model</th>\n",
       "      <th>test_acc_score</th>\n",
       "      <th>train_acc_score</th>\n",
       "      <th>best_score_of_CV</th>\n",
       "      <th>best_params</th>\n",
       "    </tr>\n",
       "  </thead>\n",
       "  <tbody>\n",
       "    <tr>\n",
       "      <th>0</th>\n",
       "      <td>mlp</td>\n",
       "      <td>0.100775</td>\n",
       "      <td>0.105044</td>\n",
       "      <td>0.346657</td>\n",
       "      <td>{'mlpclassifier__max_iter': 3000, 'mlpclassifi...</td>\n",
       "    </tr>\n",
       "  </tbody>\n",
       "</table>\n",
       "</div>"
      ],
      "text/plain": [
       "  model  test_acc_score  train_acc_score  best_score_of_CV  \\\n",
       "0   mlp        0.100775         0.105044          0.346657   \n",
       "\n",
       "                                         best_params  \n",
       "0  {'mlpclassifier__max_iter': 3000, 'mlpclassifi...  "
      ]
     },
     "execution_count": 77,
     "metadata": {},
     "output_type": "execute_result"
    }
   ],
   "source": [
    "score_new\n",
    "# the ada boost - which is not a model itself but a way to stack things together performs really bad. Ada-Boost \n",
    "# "
   ]
  },
  {
   "cell_type": "code",
   "execution_count": 78,
   "id": "4ef0032e",
   "metadata": {},
   "outputs": [],
   "source": [
    "#description of the current round\n",
    "#score_all = pd.DataFrame([]) --> only once!\n",
    "dataset = \"reduced,18labels\"   #\"reduced,19labels\"\n",
    "preprocessing = \"only_numeric_cols,SimpleImputer_Mean\"  #\"all_columns,SimpleImputer_Mean,OneHot\"\n",
    "\n",
    "score_new[\"dataset\"] = dataset\n",
    "score_new[\"preprocessing\"] = preprocessing\n"
   ]
  },
  {
   "cell_type": "code",
   "execution_count": 79,
   "id": "8ca8fd8a",
   "metadata": {},
   "outputs": [],
   "source": [
    "\n",
    "score_all = pd.concat([score_all, score_new], ignore_index=True)"
   ]
  },
  {
   "cell_type": "code",
   "execution_count": 80,
   "id": "2ba334ee",
   "metadata": {},
   "outputs": [
    {
     "data": {
      "text/html": [
       "<div>\n",
       "<style scoped>\n",
       "    .dataframe tbody tr th:only-of-type {\n",
       "        vertical-align: middle;\n",
       "    }\n",
       "\n",
       "    .dataframe tbody tr th {\n",
       "        vertical-align: top;\n",
       "    }\n",
       "\n",
       "    .dataframe thead th {\n",
       "        text-align: right;\n",
       "    }\n",
       "</style>\n",
       "<table border=\"1\" class=\"dataframe\">\n",
       "  <thead>\n",
       "    <tr style=\"text-align: right;\">\n",
       "      <th></th>\n",
       "      <th>model</th>\n",
       "      <th>test_acc_score</th>\n",
       "      <th>train_acc_score</th>\n",
       "      <th>best_params</th>\n",
       "      <th>best_score_of_CV</th>\n",
       "      <th>dataset</th>\n",
       "      <th>preprocessing</th>\n",
       "    </tr>\n",
       "  </thead>\n",
       "  <tbody>\n",
       "    <tr>\n",
       "      <th>0</th>\n",
       "      <td>rforest</td>\n",
       "      <td>0.704319</td>\n",
       "      <td>0.807373</td>\n",
       "      <td>{'randomforestclassifier__warm_start': True, '...</td>\n",
       "      <td>0.708970</td>\n",
       "      <td>reduced,18labels</td>\n",
       "      <td>only_numeric_cols,SimpleImputer_Mean</td>\n",
       "    </tr>\n",
       "    <tr>\n",
       "      <th>1</th>\n",
       "      <td>knn</td>\n",
       "      <td>0.640089</td>\n",
       "      <td>0.809035</td>\n",
       "      <td>{'kneighborsclassifier__weights': 'uniform', '...</td>\n",
       "      <td>0.634143</td>\n",
       "      <td>reduced,18labels</td>\n",
       "      <td>only_numeric_cols,SimpleImputer_Mean</td>\n",
       "    </tr>\n",
       "    <tr>\n",
       "      <th>2</th>\n",
       "      <td>dt</td>\n",
       "      <td>0.665559</td>\n",
       "      <td>0.860865</td>\n",
       "      <td>{'decisiontreeclassifier__min_samples_leaf': 2...</td>\n",
       "      <td>0.668788</td>\n",
       "      <td>reduced,18labels</td>\n",
       "      <td>only_numeric_cols,SimpleImputer_Mean</td>\n",
       "    </tr>\n",
       "    <tr>\n",
       "      <th>3</th>\n",
       "      <td>rforest</td>\n",
       "      <td>0.714286</td>\n",
       "      <td>0.836197</td>\n",
       "      <td>{'randomforestclassifier__warm_start': True, '...</td>\n",
       "      <td>0.713129</td>\n",
       "      <td>reduced,18labels</td>\n",
       "      <td>only_numeric_cols,SimpleImputer_Mean</td>\n",
       "    </tr>\n",
       "    <tr>\n",
       "      <th>4</th>\n",
       "      <td>knn</td>\n",
       "      <td>0.668882</td>\n",
       "      <td>0.999169</td>\n",
       "      <td>{'kneighborsclassifier__weights': 'distance', ...</td>\n",
       "      <td>0.672114</td>\n",
       "      <td>reduced,18labels</td>\n",
       "      <td>only_numeric_cols,SimpleImputer_Mean</td>\n",
       "    </tr>\n",
       "    <tr>\n",
       "      <th>5</th>\n",
       "      <td>dt</td>\n",
       "      <td>0.630122</td>\n",
       "      <td>0.828991</td>\n",
       "      <td>{'decisiontreeclassifier__min_samples_leaf': 5...</td>\n",
       "      <td>0.668786</td>\n",
       "      <td>reduced,18labels</td>\n",
       "      <td>only_numeric_cols,SimpleImputer_Mean</td>\n",
       "    </tr>\n",
       "    <tr>\n",
       "      <th>6</th>\n",
       "      <td>Ada</td>\n",
       "      <td>0.514950</td>\n",
       "      <td>0.533259</td>\n",
       "      <td>{'adaboostclassifier__n_estimators': 80, 'adab...</td>\n",
       "      <td>0.513860</td>\n",
       "      <td>reduced,18labels</td>\n",
       "      <td>only_numeric_cols,SimpleImputer_Mean</td>\n",
       "    </tr>\n",
       "    <tr>\n",
       "      <th>7</th>\n",
       "      <td>mlp</td>\n",
       "      <td>0.100775</td>\n",
       "      <td>0.105044</td>\n",
       "      <td>{'mlpclassifier__max_iter': 3000, 'mlpclassifi...</td>\n",
       "      <td>0.346657</td>\n",
       "      <td>reduced,18labels</td>\n",
       "      <td>only_numeric_cols,SimpleImputer_Mean</td>\n",
       "    </tr>\n",
       "  </tbody>\n",
       "</table>\n",
       "</div>"
      ],
      "text/plain": [
       "     model  test_acc_score  train_acc_score  \\\n",
       "0  rforest        0.704319         0.807373   \n",
       "1      knn        0.640089         0.809035   \n",
       "2       dt        0.665559         0.860865   \n",
       "3  rforest        0.714286         0.836197   \n",
       "4      knn        0.668882         0.999169   \n",
       "5       dt        0.630122         0.828991   \n",
       "6      Ada        0.514950         0.533259   \n",
       "7      mlp        0.100775         0.105044   \n",
       "\n",
       "                                         best_params  best_score_of_CV  \\\n",
       "0  {'randomforestclassifier__warm_start': True, '...          0.708970   \n",
       "1  {'kneighborsclassifier__weights': 'uniform', '...          0.634143   \n",
       "2  {'decisiontreeclassifier__min_samples_leaf': 2...          0.668788   \n",
       "3  {'randomforestclassifier__warm_start': True, '...          0.713129   \n",
       "4  {'kneighborsclassifier__weights': 'distance', ...          0.672114   \n",
       "5  {'decisiontreeclassifier__min_samples_leaf': 5...          0.668786   \n",
       "6  {'adaboostclassifier__n_estimators': 80, 'adab...          0.513860   \n",
       "7  {'mlpclassifier__max_iter': 3000, 'mlpclassifi...          0.346657   \n",
       "\n",
       "            dataset                         preprocessing  \n",
       "0  reduced,18labels  only_numeric_cols,SimpleImputer_Mean  \n",
       "1  reduced,18labels  only_numeric_cols,SimpleImputer_Mean  \n",
       "2  reduced,18labels  only_numeric_cols,SimpleImputer_Mean  \n",
       "3  reduced,18labels  only_numeric_cols,SimpleImputer_Mean  \n",
       "4  reduced,18labels  only_numeric_cols,SimpleImputer_Mean  \n",
       "5  reduced,18labels  only_numeric_cols,SimpleImputer_Mean  \n",
       "6  reduced,18labels  only_numeric_cols,SimpleImputer_Mean  \n",
       "7  reduced,18labels  only_numeric_cols,SimpleImputer_Mean  "
      ]
     },
     "execution_count": 80,
     "metadata": {},
     "output_type": "execute_result"
    }
   ],
   "source": [
    "score_all"
   ]
  },
  {
   "cell_type": "code",
   "execution_count": 115,
   "id": "34469fce",
   "metadata": {},
   "outputs": [],
   "source": [
    "#store results\n",
    "pd.DataFrame(score_all).to_csv(\"all_scores.csv\")\n",
    "\n",
    "\n"
   ]
  },
  {
   "cell_type": "code",
   "execution_count": null,
   "id": "b7b5dfb3",
   "metadata": {},
   "outputs": [],
   "source": []
  }
 ],
 "metadata": {
  "kernelspec": {
   "display_name": "Python 3.8.15 ('base')",
   "language": "python",
   "name": "python3"
  },
  "language_info": {
   "codemirror_mode": {
    "name": "ipython",
    "version": 3
   },
   "file_extension": ".py",
   "mimetype": "text/x-python",
   "name": "python",
   "nbconvert_exporter": "python",
   "pygments_lexer": "ipython3",
   "version": "3.8.15"
  },
  "vscode": {
   "interpreter": {
    "hash": "b8f2f4ada2c80ea9ac5ce6703ded092576c26007afc915a8876876e3c9a694db"
   }
  }
 },
 "nbformat": 4,
 "nbformat_minor": 5
}

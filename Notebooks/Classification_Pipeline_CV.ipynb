{
 "cells": [
  {
   "cell_type": "markdown",
   "id": "c7c6b2a3-538f-49fe-9faa-bf047669e810",
   "metadata": {},
   "source": [
    "# Bicycle classification - Pipeline, RandomzidedSearch, CrossValidation"
   ]
  },
  {
   "cell_type": "markdown",
   "id": "adc086ac-ed2d-435b-9f92-2b241009a6e2",
   "metadata": {},
   "source": [
    "## 1. Import and split"
   ]
  },
  {
   "cell_type": "code",
   "execution_count": 70,
   "id": "4aa7cfa0-fc32-4100-9ab9-72d08bef24c7",
   "metadata": {},
   "outputs": [],
   "source": [
    "import pandas as pd\n",
    "from Functions import BIKED_classif_functions as BIKED\n",
    "from sklearn.model_selection import train_test_split\n",
    "from sklearn.model_selection import GridSearchCV\n",
    "from sklearn.model_selection import RandomizedSearchCV\n",
    "from sklearn.compose import ColumnTransformer\n",
    "\n",
    "from sklearn.impute import SimpleImputer, KNNImputer\n",
    "from sklearn.preprocessing import OrdinalEncoder\n",
    "from sklearn.preprocessing import OneHotEncoder\n",
    "from sklearn.preprocessing import StandardScaler, MinMaxScaler\n",
    "\n",
    "from sklearn.tree import DecisionTreeClassifier     #Depth-8 Decision Tree\n",
    "from sklearn.neighbors import KNeighborsClassifier  #K-Neighbors\n",
    "from sklearn.ensemble import RandomForestClassifier #Random Forest\n",
    "\n",
    "\n",
    "from sklearn.metrics import accuracy_score\n",
    "from sklearn.pipeline import make_pipeline\n",
    "from sklearn import set_config\n"
   ]
  },
  {
   "cell_type": "markdown",
   "id": "f3982db5-09cd-49a3-8f6a-48827c0dba6d",
   "metadata": {},
   "source": [
    "For other Classification models see here:"
   ]
  },
  {
   "cell_type": "code",
   "execution_count": 71,
   "id": "0b4fea78-d0af-4b0f-8ef4-73af1c5aa841",
   "metadata": {
    "tags": []
   },
   "outputs": [],
   "source": [
    "#more models used by the author:\n",
    "\n",
    "from sklearn.ensemble import AdaBoostClassifier        #AdaBoost\n",
    "from sklearn.svm import SVC                            #Support Vector Clf.\n",
    "\n",
    "from sklearn.gaussian_process import GaussianProcessClassifier     #Gaussian Pr. Clf.\n",
    "from sklearn.gaussian_process.kernels import ConstantKernel, RBF\n",
    "from sklearn.neural_network import MLPClassifier                   #3-layer Neural Net, #6-Layer Neural Net\n",
    "                                                                    \n",
    "\n",
    "#other models:\n",
    "#from sklearn.gaussian_process.kernels import RBF\n",
    "#from sklearn.naive_bayes import GaussianNB\n",
    "#from sklearn.discriminant_analysis import QuadraticDiscriminantAnalysis"
   ]
  },
  {
   "cell_type": "markdown",
   "id": "cba6f35e-6981-40cf-8c34-fdddb2bfdd09",
   "metadata": {},
   "source": [
    "### 1.1. Training data"
   ]
  },
  {
   "cell_type": "code",
   "execution_count": 76,
   "id": "b430fe51-c48a-4103-836a-d2e0c21ffacb",
   "metadata": {},
   "outputs": [],
   "source": [
    "#Read Data\n",
    "data = pd.read_csv(\"Data/BIKED_reduced.csv\", index_col=0)\n",
    "\n",
    "\n",
    "\n",
    "## here I use the processed dataset\n",
    "processed = pd.read_csv(\"Data/BIKED_processed.csv\", index_col=0)\n",
    "#processed[\"BIKESTYLE\"] = data[\"BIKESTYLE\"]\n",
    "#print(processed.shape, data.shape)\n",
    "#data = processed\n"
   ]
  },
  {
   "cell_type": "code",
   "execution_count": null,
   "id": "f8fbff21",
   "metadata": {},
   "outputs": [],
   "source": []
  },
  {
   "cell_type": "code",
   "execution_count": null,
   "id": "c36e73fa",
   "metadata": {},
   "outputs": [],
   "source": [
    "\n",
    "#data_columns = data.dtypes\n",
    "data = data.loc[(data[\"BIKESTYLE\"] == \"ROAD\") | (data[\"BIKESTYLE\"] == \"TRACK\"), :]\n",
    "\n"
   ]
  },
  {
   "cell_type": "code",
   "execution_count": 176,
   "id": "7a8ead7b",
   "metadata": {},
   "outputs": [
    {
     "data": {
      "text/plain": [
       "False    4512\n",
       "Name: SSSIDECX3, dtype: int64"
      ]
     },
     "execution_count": 176,
     "metadata": {},
     "output_type": "execute_result"
    }
   ],
   "source": [
    "#part of analysis \n",
    "data.SSSIDECX3.value_counts()\n",
    "data.SSSIDECX3.isna().value_counts()"
   ]
  },
  {
   "cell_type": "code",
   "execution_count": 73,
   "id": "c24d306a",
   "metadata": {},
   "outputs": [
    {
     "data": {
      "text/html": [
       "<div>\n",
       "<style scoped>\n",
       "    .dataframe tbody tr th:only-of-type {\n",
       "        vertical-align: middle;\n",
       "    }\n",
       "\n",
       "    .dataframe tbody tr th {\n",
       "        vertical-align: top;\n",
       "    }\n",
       "\n",
       "    .dataframe thead th {\n",
       "        text-align: right;\n",
       "    }\n",
       "</style>\n",
       "<table border=\"1\" class=\"dataframe\">\n",
       "  <thead>\n",
       "    <tr style=\"text-align: right;\">\n",
       "      <th></th>\n",
       "      <th>bikestyle_count</th>\n",
       "      <th>percentage</th>\n",
       "    </tr>\n",
       "  </thead>\n",
       "  <tbody>\n",
       "    <tr>\n",
       "      <th>ROAD</th>\n",
       "      <td>1856</td>\n",
       "      <td>41.13</td>\n",
       "    </tr>\n",
       "    <tr>\n",
       "      <th>MTB</th>\n",
       "      <td>616</td>\n",
       "      <td>13.65</td>\n",
       "    </tr>\n",
       "    <tr>\n",
       "      <th>TRACK</th>\n",
       "      <td>470</td>\n",
       "      <td>10.42</td>\n",
       "    </tr>\n",
       "    <tr>\n",
       "      <th>OTHER</th>\n",
       "      <td>315</td>\n",
       "      <td>6.98</td>\n",
       "    </tr>\n",
       "    <tr>\n",
       "      <th>DIRT_JUMP</th>\n",
       "      <td>293</td>\n",
       "      <td>6.49</td>\n",
       "    </tr>\n",
       "    <tr>\n",
       "      <th>TOURING</th>\n",
       "      <td>201</td>\n",
       "      <td>4.45</td>\n",
       "    </tr>\n",
       "    <tr>\n",
       "      <th>CYCLOCROSS</th>\n",
       "      <td>151</td>\n",
       "      <td>3.35</td>\n",
       "    </tr>\n",
       "    <tr>\n",
       "      <th>POLO</th>\n",
       "      <td>128</td>\n",
       "      <td>2.84</td>\n",
       "    </tr>\n",
       "    <tr>\n",
       "      <th>TIMETRIAL</th>\n",
       "      <td>89</td>\n",
       "      <td>1.97</td>\n",
       "    </tr>\n",
       "    <tr>\n",
       "      <th>BMX</th>\n",
       "      <td>86</td>\n",
       "      <td>1.91</td>\n",
       "    </tr>\n",
       "    <tr>\n",
       "      <th>COMMUTER</th>\n",
       "      <td>75</td>\n",
       "      <td>1.66</td>\n",
       "    </tr>\n",
       "    <tr>\n",
       "      <th>CITY</th>\n",
       "      <td>72</td>\n",
       "      <td>1.60</td>\n",
       "    </tr>\n",
       "    <tr>\n",
       "      <th>CRUISER</th>\n",
       "      <td>42</td>\n",
       "      <td>0.93</td>\n",
       "    </tr>\n",
       "    <tr>\n",
       "      <th>HYBRID</th>\n",
       "      <td>39</td>\n",
       "      <td>0.86</td>\n",
       "    </tr>\n",
       "    <tr>\n",
       "      <th>TRIALS</th>\n",
       "      <td>35</td>\n",
       "      <td>0.78</td>\n",
       "    </tr>\n",
       "    <tr>\n",
       "      <th>GRAVEL</th>\n",
       "      <td>19</td>\n",
       "      <td>0.42</td>\n",
       "    </tr>\n",
       "    <tr>\n",
       "      <th>CARGO</th>\n",
       "      <td>14</td>\n",
       "      <td>0.31</td>\n",
       "    </tr>\n",
       "    <tr>\n",
       "      <th>CHILDRENS</th>\n",
       "      <td>10</td>\n",
       "      <td>0.22</td>\n",
       "    </tr>\n",
       "    <tr>\n",
       "      <th>FAT</th>\n",
       "      <td>1</td>\n",
       "      <td>0.02</td>\n",
       "    </tr>\n",
       "  </tbody>\n",
       "</table>\n",
       "</div>"
      ],
      "text/plain": [
       "            bikestyle_count  percentage\n",
       "ROAD                   1856       41.13\n",
       "MTB                     616       13.65\n",
       "TRACK                   470       10.42\n",
       "OTHER                   315        6.98\n",
       "DIRT_JUMP               293        6.49\n",
       "TOURING                 201        4.45\n",
       "CYCLOCROSS              151        3.35\n",
       "POLO                    128        2.84\n",
       "TIMETRIAL                89        1.97\n",
       "BMX                      86        1.91\n",
       "COMMUTER                 75        1.66\n",
       "CITY                     72        1.60\n",
       "CRUISER                  42        0.93\n",
       "HYBRID                   39        0.86\n",
       "TRIALS                   35        0.78\n",
       "GRAVEL                   19        0.42\n",
       "CARGO                    14        0.31\n",
       "CHILDRENS                10        0.22\n",
       "FAT                       1        0.02"
      ]
     },
     "execution_count": 73,
     "metadata": {},
     "output_type": "execute_result"
    }
   ],
   "source": [
    "\n",
    "classes = data[\"BIKESTYLE\"].value_counts() # 19 categories, one of them has only one member\n",
    "classes = pd.DataFrame(classes)\n",
    "classes.columns = [\"bikestyle_count\"]\n",
    "classes[\"percentage\"] = (classes.bikestyle_count / data.shape[0] * 100).round(2)\n",
    "classes\n"
   ]
  },
  {
   "cell_type": "code",
   "execution_count": 23,
   "id": "cd26932e",
   "metadata": {},
   "outputs": [
    {
     "data": {
      "text/plain": [
       "(2326, 1320)"
      ]
     },
     "execution_count": 23,
     "metadata": {},
     "output_type": "execute_result"
    }
   ],
   "source": [
    "data.shape"
   ]
  },
  {
   "cell_type": "markdown",
   "id": "65b453bc",
   "metadata": {},
   "source": [
    "* label `BIKESTYLE` has 19 categories\n",
    "* class `FAT`has only one row\n",
    "* class `CRUISER`, `HYBRID`, `TRIALS`, `GRAVEL`, `CARGO`, `CHILDRENS`, and `FAT` are extremly unbalanced with < 1% of total rows\n",
    "* If all classes would be evenly distributed, each of them had 5 %"
   ]
  },
  {
   "cell_type": "code",
   "execution_count": 74,
   "id": "0bd9858d",
   "metadata": {},
   "outputs": [
    {
     "data": {
      "text/plain": [
       "ROAD          1856\n",
       "MTB            616\n",
       "TRACK          470\n",
       "OTHER          315\n",
       "DIRT_JUMP      293\n",
       "TOURING        201\n",
       "CYCLOCROSS     151\n",
       "POLO           128\n",
       "TIMETRIAL       89\n",
       "BMX             86\n",
       "COMMUTER        75\n",
       "CITY            72\n",
       "CRUISER         42\n",
       "HYBRID          39\n",
       "TRIALS          35\n",
       "GRAVEL          19\n",
       "CARGO           14\n",
       "CHILDRENS       10\n",
       "Name: BIKESTYLE, dtype: int64"
      ]
     },
     "execution_count": 74,
     "metadata": {},
     "output_type": "execute_result"
    }
   ],
   "source": [
    "#call function to drop <0.1% of values\n",
    "data = BIKED.remove_classes_with_less_than_x_percent(data)\n",
    "data.BIKESTYLE.value_counts()\n"
   ]
  },
  {
   "cell_type": "code",
   "execution_count": 26,
   "id": "7566f639",
   "metadata": {},
   "outputs": [
    {
     "data": {
      "text/plain": [
       "54        228\n",
       "56        184\n",
       "52        145\n",
       "58        109\n",
       "53        101\n",
       "55         86\n",
       "57         65\n",
       "M          61\n",
       "50         52\n",
       "48         45\n",
       "51         36\n",
       "L          36\n",
       "60         35\n",
       "61         32\n",
       "59         28\n",
       "27         23\n",
       "Large      19\n",
       "49         18\n",
       "26         16\n",
       "56cm       16\n",
       "custom     14\n",
       "Medium     13\n",
       "54cm       13\n",
       "62         12\n",
       "Custom     11\n",
       "M/L        11\n",
       "58cm       10\n",
       "S          10\n",
       "64          8\n",
       "XL          8\n",
       "63          8\n",
       "47          7\n",
       "medium      7\n",
       "small       7\n",
       "56cm.       7\n",
       "535         6\n",
       "53.5        6\n",
       "s           5\n",
       "525         5\n",
       "57.5        5\n",
       "55cm        5\n",
       "550         5\n",
       "m           5\n",
       "46          4\n",
       "20          4\n",
       "56 cm       4\n",
       "50cm        4\n",
       "57cm        4\n",
       "61cm        4\n",
       "500         4\n",
       "Name: SIZE, dtype: int64"
      ]
     },
     "execution_count": 26,
     "metadata": {},
     "output_type": "execute_result"
    }
   ],
   "source": [
    "data.SIZE.value_counts().head(50)\n",
    "## break up SIZE in different columns\n"
   ]
  },
  {
   "cell_type": "code",
   "execution_count": 68,
   "id": "876127e4",
   "metadata": {},
   "outputs": [
    {
     "data": {
      "text/html": [
       "<div>\n",
       "<style scoped>\n",
       "    .dataframe tbody tr th:only-of-type {\n",
       "        vertical-align: middle;\n",
       "    }\n",
       "\n",
       "    .dataframe tbody tr th {\n",
       "        vertical-align: top;\n",
       "    }\n",
       "\n",
       "    .dataframe thead th {\n",
       "        text-align: right;\n",
       "    }\n",
       "</style>\n",
       "<table border=\"1\" class=\"dataframe\">\n",
       "  <thead>\n",
       "    <tr style=\"text-align: right;\">\n",
       "      <th></th>\n",
       "      <th>SSSIDECX3</th>\n",
       "      <th>SSSIDECX2</th>\n",
       "      <th>SSSIDECX1</th>\n",
       "      <th>SSSIDECY2</th>\n",
       "      <th>SSSIDECY1</th>\n",
       "      <th>HBAR type</th>\n",
       "      <th>STEMBENDS</th>\n",
       "      <th>FRONTROTORBOLTS</th>\n",
       "      <th>Shoe up angle</th>\n",
       "      <th>Rollout units</th>\n",
       "      <th>...</th>\n",
       "      <th>bottle DOWNTUBE0 WBD</th>\n",
       "      <th>bottle SEATTUBE0 CAGE</th>\n",
       "      <th>bottle DOWNTUBE0 flip</th>\n",
       "      <th>bottle DOWNTUBE0 X</th>\n",
       "      <th>bottle DOWNTUBE0 CAGE</th>\n",
       "      <th>rockerPosition</th>\n",
       "      <th>RDERD</th>\n",
       "      <th>FDERD</th>\n",
       "      <th>RDBSD</th>\n",
       "      <th>FDBSD</th>\n",
       "    </tr>\n",
       "  </thead>\n",
       "  <tbody>\n",
       "    <tr>\n",
       "      <th>381</th>\n",
       "      <td>55.3</td>\n",
       "      <td>132.3</td>\n",
       "      <td>308.6</td>\n",
       "      <td>-10.0</td>\n",
       "      <td>10.0</td>\n",
       "      <td>Generic track</td>\n",
       "      <td>0</td>\n",
       "      <td>6</td>\n",
       "      <td>36</td>\n",
       "      <td>0</td>\n",
       "      <td>...</td>\n",
       "      <td>NaN</td>\n",
       "      <td>NaN</td>\n",
       "      <td>NaN</td>\n",
       "      <td>NaN</td>\n",
       "      <td>NaN</td>\n",
       "      <td>NaN</td>\n",
       "      <td>92.0</td>\n",
       "      <td>92.0</td>\n",
       "      <td>52.0</td>\n",
       "      <td>52.0</td>\n",
       "    </tr>\n",
       "  </tbody>\n",
       "</table>\n",
       "<p>1 rows × 1319 columns</p>\n",
       "</div>"
      ],
      "text/plain": [
       "     SSSIDECX3  SSSIDECX2  SSSIDECX1  SSSIDECY2  SSSIDECY1      HBAR type  \\\n",
       "381       55.3      132.3      308.6      -10.0       10.0  Generic track   \n",
       "\n",
       "     STEMBENDS  FRONTROTORBOLTS  Shoe up angle  Rollout units  ...  \\\n",
       "381          0                6             36              0  ...   \n",
       "\n",
       "     bottle DOWNTUBE0 WBD  bottle SEATTUBE0 CAGE  bottle DOWNTUBE0 flip  \\\n",
       "381                   NaN                    NaN                    NaN   \n",
       "\n",
       "     bottle DOWNTUBE0 X  bottle DOWNTUBE0 CAGE  rockerPosition  RDERD  FDERD  \\\n",
       "381                 NaN                    NaN             NaN   92.0   92.0   \n",
       "\n",
       "     RDBSD  FDBSD  \n",
       "381   52.0   52.0  \n",
       "\n",
       "[1 rows x 1319 columns]"
      ]
     },
     "execution_count": 68,
     "metadata": {},
     "output_type": "execute_result"
    }
   ],
   "source": [
    "\n",
    "data.loc[(data.SIZE.isna() == False) & (data[\"SIZE\"].str.contains(r\"inch\")),:]\n",
    "# 9 rows which have \"inch\"\n"
   ]
  },
  {
   "cell_type": "code",
   "execution_count": 69,
   "id": "a235b803",
   "metadata": {},
   "outputs": [
    {
     "data": {
      "text/html": [
       "<div>\n",
       "<style scoped>\n",
       "    .dataframe tbody tr th:only-of-type {\n",
       "        vertical-align: middle;\n",
       "    }\n",
       "\n",
       "    .dataframe tbody tr th {\n",
       "        vertical-align: top;\n",
       "    }\n",
       "\n",
       "    .dataframe thead th {\n",
       "        text-align: right;\n",
       "    }\n",
       "</style>\n",
       "<table border=\"1\" class=\"dataframe\">\n",
       "  <thead>\n",
       "    <tr style=\"text-align: right;\">\n",
       "      <th></th>\n",
       "      <th>SSSIDECX3</th>\n",
       "      <th>SSSIDECX2</th>\n",
       "      <th>SSSIDECX1</th>\n",
       "      <th>SSSIDECY2</th>\n",
       "      <th>SSSIDECY1</th>\n",
       "      <th>HBAR type</th>\n",
       "      <th>STEMBENDS</th>\n",
       "      <th>FRONTROTORBOLTS</th>\n",
       "      <th>Shoe up angle</th>\n",
       "      <th>Rollout units</th>\n",
       "      <th>...</th>\n",
       "      <th>bottle DOWNTUBE0 WBD</th>\n",
       "      <th>bottle SEATTUBE0 CAGE</th>\n",
       "      <th>bottle DOWNTUBE0 flip</th>\n",
       "      <th>bottle DOWNTUBE0 X</th>\n",
       "      <th>bottle DOWNTUBE0 CAGE</th>\n",
       "      <th>rockerPosition</th>\n",
       "      <th>RDERD</th>\n",
       "      <th>FDERD</th>\n",
       "      <th>RDBSD</th>\n",
       "      <th>FDBSD</th>\n",
       "    </tr>\n",
       "  </thead>\n",
       "  <tbody>\n",
       "    <tr>\n",
       "      <th>379</th>\n",
       "      <td>55.3</td>\n",
       "      <td>132.3</td>\n",
       "      <td>308.6</td>\n",
       "      <td>-10.0</td>\n",
       "      <td>10.0</td>\n",
       "      <td>Generic track</td>\n",
       "      <td>0</td>\n",
       "      <td>6</td>\n",
       "      <td>36</td>\n",
       "      <td>0</td>\n",
       "      <td>...</td>\n",
       "      <td>NaN</td>\n",
       "      <td>NaN</td>\n",
       "      <td>NaN</td>\n",
       "      <td>NaN</td>\n",
       "      <td>NaN</td>\n",
       "      <td>NaN</td>\n",
       "      <td>92.0</td>\n",
       "      <td>92.0</td>\n",
       "      <td>52.0</td>\n",
       "      <td>52.0</td>\n",
       "    </tr>\n",
       "  </tbody>\n",
       "</table>\n",
       "<p>1 rows × 1319 columns</p>\n",
       "</div>"
      ],
      "text/plain": [
       "     SSSIDECX3  SSSIDECX2  SSSIDECX1  SSSIDECY2  SSSIDECY1      HBAR type  \\\n",
       "379       55.3      132.3      308.6      -10.0       10.0  Generic track   \n",
       "\n",
       "     STEMBENDS  FRONTROTORBOLTS  Shoe up angle  Rollout units  ...  \\\n",
       "379          0                6             36              0  ...   \n",
       "\n",
       "     bottle DOWNTUBE0 WBD  bottle SEATTUBE0 CAGE  bottle DOWNTUBE0 flip  \\\n",
       "379                   NaN                    NaN                    NaN   \n",
       "\n",
       "     bottle DOWNTUBE0 X  bottle DOWNTUBE0 CAGE  rockerPosition  RDERD  FDERD  \\\n",
       "379                 NaN                    NaN             NaN   92.0   92.0   \n",
       "\n",
       "     RDBSD  FDBSD  \n",
       "379   52.0   52.0  \n",
       "\n",
       "[1 rows x 1319 columns]"
      ]
     },
     "execution_count": 69,
     "metadata": {},
     "output_type": "execute_result"
    }
   ],
   "source": [
    "data.loc[(data.SIZE.isna() == False) & (data[\"SIZE\"].str.contains(r\"\\'\\'\")),:]\n",
    "#26 rows with have ''\n"
   ]
  },
  {
   "cell_type": "code",
   "execution_count": null,
   "id": "29144e92",
   "metadata": {},
   "outputs": [],
   "source": [
    "data.loc[(data.SIZE.isna() == False) & (data[\"SIZE\"].str.contains(r\"\\\"\")),:]\n",
    "#320 rows with \"\n",
    "data.loc[(data.SIZE.isna() == False) & (data[\"SIZE\"].str.contains(r\"cm\")),:]\n",
    "#201 rows with cm\n",
    "data.loc[(data.SIZE.isna() == False) & (data[\"SIZE\"].str.contains(r\"mm\")),:]\n",
    "#17 rows with mm\n",
    "\n",
    "data.loc[(data.SIZE.isna() == True),:]\n",
    "#2902 ohne Size --> nope something is wrong here\n",
    "\n",
    "#only text (noch nicht fertig)\n",
    "#data.loc[(data.SIZE.isna() == False) & (data[\"SIZE\"].str.contains(r\"^\\D\")), \"SIZE\"].value_counts().head(50)\n",
    "\n",
    "#only zahl (noch nicht fertig)\n",
    "#data.loc[(data.SIZE.isna() == False) & (data[\"SIZE\"].str.contains(r\"^\\d\")), \"SIZE\"].value_counts().head(50)\n",
    "\n"
   ]
  },
  {
   "cell_type": "code",
   "execution_count": 28,
   "id": "c54594ac",
   "metadata": {},
   "outputs": [],
   "source": [
    "#Split\n",
    "y = data.pop(\"BIKESTYLE\")"
   ]
  },
  {
   "cell_type": "code",
   "execution_count": 33,
   "id": "3f33d85b",
   "metadata": {},
   "outputs": [],
   "source": [
    "X = data\n",
    "\n",
    "#X = processed"
   ]
  },
  {
   "cell_type": "code",
   "execution_count": 7,
   "id": "2c921820-dde5-487f-8515-6643da9bb3c4",
   "metadata": {
    "tags": []
   },
   "outputs": [
    {
     "name": "stdout",
     "output_type": "stream",
     "text": [
      "35\n"
     ]
    },
    {
     "data": {
      "text/html": [
       "<div>\n",
       "<style scoped>\n",
       "    .dataframe tbody tr th:only-of-type {\n",
       "        vertical-align: middle;\n",
       "    }\n",
       "\n",
       "    .dataframe tbody tr th {\n",
       "        vertical-align: top;\n",
       "    }\n",
       "\n",
       "    .dataframe thead th {\n",
       "        text-align: right;\n",
       "    }\n",
       "</style>\n",
       "<table border=\"1\" class=\"dataframe\">\n",
       "  <thead>\n",
       "    <tr style=\"text-align: right;\">\n",
       "      <th></th>\n",
       "      <th>Missing_values_Count</th>\n",
       "    </tr>\n",
       "  </thead>\n",
       "  <tbody>\n",
       "    <tr>\n",
       "      <th>HBAR type</th>\n",
       "      <td>219</td>\n",
       "    </tr>\n",
       "    <tr>\n",
       "      <th>Headset type</th>\n",
       "      <td>91</td>\n",
       "    </tr>\n",
       "    <tr>\n",
       "      <th>Dropout model</th>\n",
       "      <td>73</td>\n",
       "    </tr>\n",
       "    <tr>\n",
       "      <th>Top tube angle textfield</th>\n",
       "      <td>1</td>\n",
       "    </tr>\n",
       "    <tr>\n",
       "      <th>Seatpost type</th>\n",
       "      <td>166</td>\n",
       "    </tr>\n",
       "    <tr>\n",
       "      <th>Stack</th>\n",
       "      <td>73</td>\n",
       "    </tr>\n",
       "    <tr>\n",
       "      <th>SIZE</th>\n",
       "      <td>774</td>\n",
       "    </tr>\n",
       "    <tr>\n",
       "      <th>dropoutInsert</th>\n",
       "      <td>680</td>\n",
       "    </tr>\n",
       "    <tr>\n",
       "      <th>Cranks type</th>\n",
       "      <td>115</td>\n",
       "    </tr>\n",
       "    <tr>\n",
       "      <th>Dim A Inch TextField</th>\n",
       "      <td>2</td>\n",
       "    </tr>\n",
       "    <tr>\n",
       "      <th>ClmpYfromBB</th>\n",
       "      <td>2923</td>\n",
       "    </tr>\n",
       "    <tr>\n",
       "      <th>SaddleYfromBB</th>\n",
       "      <td>2785</td>\n",
       "    </tr>\n",
       "    <tr>\n",
       "      <th>Wheel choice rear</th>\n",
       "      <td>94</td>\n",
       "    </tr>\n",
       "    <tr>\n",
       "      <th>Wheel choice front</th>\n",
       "      <td>94</td>\n",
       "    </tr>\n",
       "    <tr>\n",
       "      <th>Dim A TextField</th>\n",
       "      <td>1</td>\n",
       "    </tr>\n",
       "    <tr>\n",
       "      <th>Fork choice</th>\n",
       "      <td>77</td>\n",
       "    </tr>\n",
       "    <tr>\n",
       "      <th>Handlebar Y textfield</th>\n",
       "      <td>1</td>\n",
       "    </tr>\n",
       "    <tr>\n",
       "      <th>Saddle type</th>\n",
       "      <td>33</td>\n",
       "    </tr>\n",
       "    <tr>\n",
       "      <th>Dim B TextField</th>\n",
       "      <td>1</td>\n",
       "    </tr>\n",
       "    <tr>\n",
       "      <th>bottle SEATTUBE0 WBL</th>\n",
       "      <td>3087</td>\n",
       "    </tr>\n",
       "    <tr>\n",
       "      <th>bottle SEATTUBE0 WBD</th>\n",
       "      <td>3087</td>\n",
       "    </tr>\n",
       "    <tr>\n",
       "      <th>bottle SEATTUBE0 WBX</th>\n",
       "      <td>3087</td>\n",
       "    </tr>\n",
       "    <tr>\n",
       "      <th>bottle SEATTUBE0 WBY</th>\n",
       "      <td>3087</td>\n",
       "    </tr>\n",
       "    <tr>\n",
       "      <th>bottle SEATTUBE0 SIZE</th>\n",
       "      <td>3087</td>\n",
       "    </tr>\n",
       "    <tr>\n",
       "      <th>bottle DOWNTUBE0 SIZE</th>\n",
       "      <td>1755</td>\n",
       "    </tr>\n",
       "    <tr>\n",
       "      <th>bottle SEATTUBE0 X</th>\n",
       "      <td>3087</td>\n",
       "    </tr>\n",
       "    <tr>\n",
       "      <th>bottle DOWNTUBE0 WBY</th>\n",
       "      <td>1755</td>\n",
       "    </tr>\n",
       "    <tr>\n",
       "      <th>bottle DOWNTUBE0 WBX</th>\n",
       "      <td>1755</td>\n",
       "    </tr>\n",
       "    <tr>\n",
       "      <th>bottle DOWNTUBE0 WBL</th>\n",
       "      <td>1755</td>\n",
       "    </tr>\n",
       "    <tr>\n",
       "      <th>bottle DOWNTUBE0 WBD</th>\n",
       "      <td>1755</td>\n",
       "    </tr>\n",
       "    <tr>\n",
       "      <th>bottle SEATTUBE0 CAGE</th>\n",
       "      <td>3087</td>\n",
       "    </tr>\n",
       "    <tr>\n",
       "      <th>bottle DOWNTUBE0 flip</th>\n",
       "      <td>1755</td>\n",
       "    </tr>\n",
       "    <tr>\n",
       "      <th>bottle DOWNTUBE0 X</th>\n",
       "      <td>1755</td>\n",
       "    </tr>\n",
       "    <tr>\n",
       "      <th>bottle DOWNTUBE0 CAGE</th>\n",
       "      <td>1755</td>\n",
       "    </tr>\n",
       "    <tr>\n",
       "      <th>rockerPosition</th>\n",
       "      <td>4415</td>\n",
       "    </tr>\n",
       "  </tbody>\n",
       "</table>\n",
       "</div>"
      ],
      "text/plain": [
       "                          Missing_values_Count\n",
       "HBAR type                                  219\n",
       "Headset type                                91\n",
       "Dropout model                               73\n",
       "Top tube angle textfield                     1\n",
       "Seatpost type                              166\n",
       "Stack                                       73\n",
       "SIZE                                       774\n",
       "dropoutInsert                              680\n",
       "Cranks type                                115\n",
       "Dim A Inch TextField                         2\n",
       "ClmpYfromBB                               2923\n",
       "SaddleYfromBB                             2785\n",
       "Wheel choice rear                           94\n",
       "Wheel choice front                          94\n",
       "Dim A TextField                              1\n",
       "Fork choice                                 77\n",
       "Handlebar Y textfield                        1\n",
       "Saddle type                                 33\n",
       "Dim B TextField                              1\n",
       "bottle SEATTUBE0 WBL                      3087\n",
       "bottle SEATTUBE0 WBD                      3087\n",
       "bottle SEATTUBE0 WBX                      3087\n",
       "bottle SEATTUBE0 WBY                      3087\n",
       "bottle SEATTUBE0 SIZE                     3087\n",
       "bottle DOWNTUBE0 SIZE                     1755\n",
       "bottle SEATTUBE0 X                        3087\n",
       "bottle DOWNTUBE0 WBY                      1755\n",
       "bottle DOWNTUBE0 WBX                      1755\n",
       "bottle DOWNTUBE0 WBL                      1755\n",
       "bottle DOWNTUBE0 WBD                      1755\n",
       "bottle SEATTUBE0 CAGE                     3087\n",
       "bottle DOWNTUBE0 flip                     1755\n",
       "bottle DOWNTUBE0 X                        1755\n",
       "bottle DOWNTUBE0 CAGE                     1755\n",
       "rockerPosition                            4415"
      ]
     },
     "execution_count": 7,
     "metadata": {},
     "output_type": "execute_result"
    }
   ],
   "source": [
    "# check missing values # HIER KÖNNTE ICH LERNEN WIE ICH ES KÜRZER SCHREIBE\n",
    "missing_values_col = X.isna().sum()\n",
    "missing_values_col = pd.DataFrame(missing_values_col)\n",
    "missing_values_col.columns = [\"Missing_values_Count\"]\n",
    "\n",
    "missing_values_col = missing_values_col.loc[missing_values_col[\"Missing_values_Count\"] > 0, :]\n",
    "print(len(missing_values_col))\n",
    "missing_values_col\n",
    "\n"
   ]
  },
  {
   "cell_type": "markdown",
   "id": "601a58b0",
   "metadata": {},
   "source": [
    "**Conclusion:**\n",
    "* There are 35 columns with missing values.\n",
    "* Column `SIZE` has 774 missing values. Interesting, because `SIZE` results in 555 columns after OneHotEncoding.\n",
    "* Columns `bottle xxx` have many missing values. Might be useful to put them into fewer columns. i.e. `bottle DOWNTUBE` and `bottle SEATTUBE`"
   ]
  },
  {
   "cell_type": "code",
   "execution_count": 34,
   "id": "ca3c868e-6ef2-4d36-bf83-a452c0c6ed69",
   "metadata": {
    "collapsed": true,
    "jupyter": {
     "outputs_hidden": true
    },
    "tags": []
   },
   "outputs": [
    {
     "name": "stdout",
     "output_type": "stream",
     "text": [
      "<class 'pandas.core.frame.DataFrame'>\n",
      "Int64Index: 2326 entries, 1 to 4800\n",
      "Columns: 1319 entries, SSSIDECX3 to FDBSD\n",
      "dtypes: bool(150), float64(979), int64(153), object(37)\n",
      "memory usage: 21.1+ MB\n"
     ]
    }
   ],
   "source": [
    "#check data types (which columns are not numeric and what to do with them)\n",
    "X.info() \n",
    "\n",
    "#in processed all columns are numeric"
   ]
  },
  {
   "cell_type": "code",
   "execution_count": 9,
   "id": "489a2e94",
   "metadata": {},
   "outputs": [
    {
     "name": "stdout",
     "output_type": "stream",
     "text": [
      "37\n"
     ]
    },
    {
     "data": {
      "text/plain": [
       "Index(['HBAR type', 'Headset type', 'Rack type', 'DIRECTMOUNTFDTYPE',\n",
       "       'Dropout model', 'HEADTUBEtype', 'BATTERYmount', 'Seatpost type',\n",
       "       'FRONTbrake type', 'Stem type', 'Pump size', 'MATERIAL',\n",
       "       'FRONTdiscB type', 'SIZE', 'StaticDropout', 'RIM_STYLE front',\n",
       "       'SPROCKETS type', 'PhBlock typeDOWNTUBE', 'GEARBOXtype',\n",
       "       'dropoutInsert', 'REARdiscB type', 'Cranks type', 'MOUNT_TYPE',\n",
       "       'Yoke type', 'RIM_STYLE rear', 'Brake lever brand', 'Pedals type',\n",
       "       'Wheel choice rear', 'REARbrake type', 'CLAMPFDTYPE',\n",
       "       'Wheel choice front', 'PhBlock typeTOPTUBE', 'DROPOUT STYLE',\n",
       "       'Fit scheme', 'Fork choice', 'Saddle type', 'BRAZEonFDTYPE'],\n",
       "      dtype='object')"
      ]
     },
     "execution_count": 9,
     "metadata": {},
     "output_type": "execute_result"
    }
   ],
   "source": [
    "categorical_cols = X.select_dtypes(include=\"object\").columns\n",
    "print(len(list(categorical_cols)))\n",
    "categorical_cols\n",
    "\n",
    "#boolean_cols = X.select_dtypes(include=\"bool\").columns\n",
    "#print(len(boolean_cols))\n",
    "#boolean_cols"
   ]
  },
  {
   "cell_type": "markdown",
   "id": "7c913559-8d75-4d3e-866c-6b7e16cee1b7",
   "metadata": {
    "tags": []
   },
   "source": [
    "**Conclusion:** "
   ]
  },
  {
   "cell_type": "markdown",
   "id": "d7b6f02e-6ec2-401f-b05f-c2e16a5addb4",
   "metadata": {
    "tags": []
   },
   "source": [
    "* There are 187 non-numeric column. of which 150 columns are boolean.\n",
    "* There are 37 object columns, which need to be encoded (OneHot or Ordinal).\n",
    "\n"
   ]
  },
  {
   "cell_type": "markdown",
   "id": "1f710e8c",
   "metadata": {},
   "source": [
    "\n",
    "LIST OF COLUMNS:\n",
    "OBJECT: \n",
    "'HBAR type', 'Headset type', 'Rack type', 'DIRECTMOUNTFDTYPE',\n",
    "       'Dropout model', 'HEADTUBEtype', 'BATTERYmount', 'Seatpost type',\n",
    "       'FRONTbrake type', 'Stem type', 'Pump size', 'MATERIAL',\n",
    "       'FRONTdiscB type', 'SIZE', 'StaticDropout', 'RIM_STYLE front',\n",
    "       'SPROCKETS type', 'PhBlock typeDOWNTUBE', 'GEARBOXtype',\n",
    "       'dropoutInsert', 'REARdiscB type', 'Cranks type', 'MOUNT_TYPE',\n",
    "       'Yoke type', 'RIM_STYLE rear', 'Brake lever brand', 'Pedals type',\n",
    "       'Wheel choice rear', 'REARbrake type', 'CLAMPFDTYPE',\n",
    "       'Wheel choice front', 'PhBlock typeTOPTUBE', 'DROPOUT STYLE',\n",
    "       'Fit scheme', 'Fork choice', 'Saddle type', 'BRAZEonFDTYPE'\n",
    "\n",
    "BOOL: (just a few)\n",
    "'REARDiscAdaptOnPost', 'Seatpost AERO', 'DOWNTUBE1SnSCheck',\n",
    "       'USEgearbox', 'REARROTOR_INCLUDE', 'nSeat stay Curv Check',\n",
    "       'CSSIDEISBENT', 'LINKpump2SCHEME', 'SEATSTAYholeCheck', 'LOOPED_STAYS',\n",
    "       ...\n",
    "       'Female', 'Seatpost MAST', 'CASS_aux', 'DUAL_CROWN',\n",
    "       'REARDiscTabIsPost', 'CHEVRONDOWNTUBE1ON', 'CHEVRONTOPTUBE1ON',\n",
    "       'Dim A CheckBox', 'bottle SEATTUBE0 show', 'bottle DOWNTUBE0 show'"
   ]
  },
  {
   "cell_type": "code",
   "execution_count": 1,
   "id": "95c77acc",
   "metadata": {},
   "outputs": [
    {
     "ename": "NameError",
     "evalue": "name 'categorical_cols' is not defined",
     "output_type": "error",
     "traceback": [
      "\u001b[0;31m---------------------------------------------------------------------------\u001b[0m",
      "\u001b[0;31mNameError\u001b[0m                                 Traceback (most recent call last)",
      "\u001b[0;32m/var/folders/qk/t0n17tjd6xg2853ctsfg5xz80000gn/T/ipykernel_57939/295741439.py\u001b[0m in \u001b[0;36m<module>\u001b[0;34m\u001b[0m\n\u001b[1;32m      3\u001b[0m \u001b[0;31m# # # # # #  I wonder how the author took care of it.\u001b[0m\u001b[0;34m\u001b[0m\u001b[0;34m\u001b[0m\u001b[0;34m\u001b[0m\u001b[0m\n\u001b[1;32m      4\u001b[0m \u001b[0;34m\u001b[0m\u001b[0m\n\u001b[0;32m----> 5\u001b[0;31m \u001b[0mcategorical_cols\u001b[0m\u001b[0;34m.\u001b[0m\u001b[0mloc\u001b[0m\u001b[0;34m[\u001b[0m\u001b[0;34m:\u001b[0m\u001b[0;34m,\u001b[0m \u001b[0mcategorical_cols\u001b[0m\u001b[0;34m.\u001b[0m\u001b[0misin\u001b[0m\u001b[0;34m(\u001b[0m\u001b[0mmissing_values_col\u001b[0m\u001b[0;34m.\u001b[0m\u001b[0mindex\u001b[0m\u001b[0;34m)\u001b[0m\u001b[0;34m]\u001b[0m\u001b[0;34m\u001b[0m\u001b[0;34m\u001b[0m\u001b[0m\n\u001b[0m\u001b[1;32m      6\u001b[0m \u001b[0;31m#boolean_cols.isin(missing_values_col.index)\u001b[0m\u001b[0;34m\u001b[0m\u001b[0;34m\u001b[0m\u001b[0;34m\u001b[0m\u001b[0m\n",
      "\u001b[0;31mNameError\u001b[0m: name 'categorical_cols' is not defined"
     ]
    }
   ],
   "source": [
    "# which columns have missing values and also have categorical? - yes there are some. \n",
    "# Make sure in the preprocessor that they are properly taken care of.\n",
    "# # # # # #  I wonder how the author took care of it.\n",
    "\n",
    "categorical_cols.loc[:, categorical_cols.isin(missing_values_col.index)]\n",
    "#boolean_cols.isin(missing_values_col.index)"
   ]
  },
  {
   "cell_type": "code",
   "execution_count": 11,
   "id": "f1deee11",
   "metadata": {},
   "outputs": [
    {
     "data": {
      "text/plain": [
       "(4511, 1318)"
      ]
     },
     "execution_count": 11,
     "metadata": {},
     "output_type": "execute_result"
    }
   ],
   "source": [
    "X.shape"
   ]
  },
  {
   "cell_type": "code",
   "execution_count": 12,
   "id": "9b8a1398",
   "metadata": {},
   "outputs": [
    {
     "data": {
      "text/plain": [
       "(4511, 1131)"
      ]
     },
     "execution_count": 12,
     "metadata": {},
     "output_type": "execute_result"
    }
   ],
   "source": [
    "# This time take only numerical columns\n",
    "X = X.select_dtypes(include=\"number\").copy()\n",
    "X.shape"
   ]
  },
  {
   "cell_type": "code",
   "execution_count": 35,
   "id": "4d4e3594-ebce-441b-8a2a-70f10418a855",
   "metadata": {
    "tags": []
   },
   "outputs": [],
   "source": [
    "# Train / Test Split\n",
    "X_train, X_test, y_train, y_test = train_test_split(X, y, test_size=0.2, random_state=31416)"
   ]
  },
  {
   "cell_type": "markdown",
   "id": "ce31741c-3350-4324-8b1d-5f28a8c82c95",
   "metadata": {},
   "source": [
    "## 2. Building `preprocessor` pipeline"
   ]
  },
  {
   "cell_type": "code",
   "execution_count": 14,
   "id": "3bcd6595-3402-4f0d-9e3c-f13344d1595d",
   "metadata": {},
   "outputs": [
    {
     "data": {
      "text/html": [
       "<div>\n",
       "<style scoped>\n",
       "    .dataframe tbody tr th:only-of-type {\n",
       "        vertical-align: middle;\n",
       "    }\n",
       "\n",
       "    .dataframe tbody tr th {\n",
       "        vertical-align: top;\n",
       "    }\n",
       "\n",
       "    .dataframe thead th {\n",
       "        text-align: right;\n",
       "    }\n",
       "</style>\n",
       "<table border=\"1\" class=\"dataframe\">\n",
       "  <thead>\n",
       "    <tr style=\"text-align: right;\">\n",
       "      <th></th>\n",
       "      <th>SSSIDECX3</th>\n",
       "      <th>SSSIDECX2</th>\n",
       "      <th>SSSIDECX1</th>\n",
       "      <th>SSSIDECY2</th>\n",
       "      <th>SSSIDECY1</th>\n",
       "      <th>STEMBENDS</th>\n",
       "      <th>FRONTROTORBOLTS</th>\n",
       "      <th>Shoe up angle</th>\n",
       "      <th>Rollout units</th>\n",
       "      <th>Down tube front diameter</th>\n",
       "      <th>...</th>\n",
       "      <th>bottle DOWNTUBE0 WBL</th>\n",
       "      <th>bottle DOWNTUBE0 WBD</th>\n",
       "      <th>bottle SEATTUBE0 CAGE</th>\n",
       "      <th>bottle DOWNTUBE0 flip</th>\n",
       "      <th>bottle DOWNTUBE0 X</th>\n",
       "      <th>bottle DOWNTUBE0 CAGE</th>\n",
       "      <th>rockerPosition</th>\n",
       "      <th>RDERD</th>\n",
       "      <th>FDERD</th>\n",
       "      <th>RDBSD</th>\n",
       "    </tr>\n",
       "  </thead>\n",
       "  <tbody>\n",
       "    <tr>\n",
       "      <th>1845</th>\n",
       "      <td>65.5</td>\n",
       "      <td>130.4</td>\n",
       "      <td>304.2</td>\n",
       "      <td>-10.0</td>\n",
       "      <td>10.0</td>\n",
       "      <td>0</td>\n",
       "      <td>6</td>\n",
       "      <td>39</td>\n",
       "      <td>0</td>\n",
       "      <td>38.1</td>\n",
       "      <td>...</td>\n",
       "      <td>201.0</td>\n",
       "      <td>73.5</td>\n",
       "      <td>1.0</td>\n",
       "      <td>0.0</td>\n",
       "      <td>200.0</td>\n",
       "      <td>1.0</td>\n",
       "      <td>50.0</td>\n",
       "      <td>92.0</td>\n",
       "      <td>92.0</td>\n",
       "      <td>52.0</td>\n",
       "    </tr>\n",
       "    <tr>\n",
       "      <th>3510</th>\n",
       "      <td>71.8</td>\n",
       "      <td>134.9</td>\n",
       "      <td>350.0</td>\n",
       "      <td>-10.0</td>\n",
       "      <td>10.0</td>\n",
       "      <td>0</td>\n",
       "      <td>6</td>\n",
       "      <td>36</td>\n",
       "      <td>0</td>\n",
       "      <td>58.0</td>\n",
       "      <td>...</td>\n",
       "      <td>NaN</td>\n",
       "      <td>NaN</td>\n",
       "      <td>NaN</td>\n",
       "      <td>NaN</td>\n",
       "      <td>NaN</td>\n",
       "      <td>NaN</td>\n",
       "      <td>NaN</td>\n",
       "      <td>92.0</td>\n",
       "      <td>92.0</td>\n",
       "      <td>52.0</td>\n",
       "    </tr>\n",
       "  </tbody>\n",
       "</table>\n",
       "<p>2 rows × 1131 columns</p>\n",
       "</div>"
      ],
      "text/plain": [
       "      SSSIDECX3  SSSIDECX2  SSSIDECX1  SSSIDECY2  SSSIDECY1  STEMBENDS  \\\n",
       "1845       65.5      130.4      304.2      -10.0       10.0          0   \n",
       "3510       71.8      134.9      350.0      -10.0       10.0          0   \n",
       "\n",
       "      FRONTROTORBOLTS  Shoe up angle  Rollout units  Down tube front diameter  \\\n",
       "1845                6             39              0                      38.1   \n",
       "3510                6             36              0                      58.0   \n",
       "\n",
       "      ...  bottle DOWNTUBE0 WBL  bottle DOWNTUBE0 WBD  bottle SEATTUBE0 CAGE  \\\n",
       "1845  ...                 201.0                  73.5                    1.0   \n",
       "3510  ...                   NaN                   NaN                    NaN   \n",
       "\n",
       "      bottle DOWNTUBE0 flip  bottle DOWNTUBE0 X  bottle DOWNTUBE0 CAGE  \\\n",
       "1845                    0.0               200.0                    1.0   \n",
       "3510                    NaN                 NaN                    NaN   \n",
       "\n",
       "      rockerPosition  RDERD  FDERD  RDBSD  \n",
       "1845            50.0   92.0   92.0   52.0  \n",
       "3510             NaN   92.0   92.0   52.0  \n",
       "\n",
       "[2 rows x 1131 columns]"
      ]
     },
     "execution_count": 14,
     "metadata": {},
     "output_type": "execute_result"
    }
   ],
   "source": [
    "X_train.head(2)"
   ]
  },
  {
   "cell_type": "code",
   "execution_count": 36,
   "id": "af258f9c-b0bb-45f2-87fd-ac30b952713f",
   "metadata": {},
   "outputs": [],
   "source": [
    "# 2.a) Select categorical and numerical columns\n",
    "X_cat = X.select_dtypes(exclude=\"number\").copy()\n",
    "X_num = X.select_dtypes(include=\"number\").copy()\n"
   ]
  },
  {
   "cell_type": "code",
   "execution_count": 37,
   "id": "6d41d154",
   "metadata": {},
   "outputs": [],
   "source": [
    "\n",
    "# 2.b) Numerical Pipeline, only with the SimpleImputer(strategy=\"mean\")\n",
    "numeric_pipe = make_pipeline(\n",
    "#    MinMaxScaler(),\n",
    "    SimpleImputer(strategy=\"constant\")   #strategy=\"constant\"\n",
    "    #KNNImputer(5)\n",
    ")\n"
   ]
  },
  {
   "cell_type": "code",
   "execution_count": null,
   "id": "01176bdf",
   "metadata": {},
   "outputs": [],
   "source": [
    "\n",
    "# 2.d) Preprocessor\n",
    "preprocessor = ColumnTransformer(\n",
    "    transformers=[\n",
    "        (\"num_pipe\", numeric_pipe, X_num.columns),\n",
    "    ]\n",
    ")"
   ]
  },
  {
   "cell_type": "code",
   "execution_count": 39,
   "id": "ac0ab560",
   "metadata": {},
   "outputs": [
    {
     "data": {
      "text/plain": [
       "(1860, 1319)"
      ]
     },
     "execution_count": 39,
     "metadata": {},
     "output_type": "execute_result"
    }
   ],
   "source": [
    "X_train.shape"
   ]
  },
  {
   "cell_type": "markdown",
   "id": "5324b0dc",
   "metadata": {},
   "source": [
    "# 3. Evaluating Models"
   ]
  },
  {
   "cell_type": "code",
   "execution_count": 40,
   "id": "e6a00981",
   "metadata": {},
   "outputs": [],
   "source": [
    "from sklearn.ensemble import AdaBoostClassifier        #AdaBoost\n",
    "from sklearn.svm import SVC                            #Support Vector Clf.\n",
    "\n",
    "from sklearn.gaussian_process import GaussianProcessClassifier     #Gaussian Pr. Clf.\n",
    "from sklearn.neural_network import MLPClassifier                   #3-layer Neural Net, #6-Layer Neural Net\n",
    "from sklearn.gaussian_process.kernels import ConstantKernel, RBF\n",
    "\n",
    "def get_model_and_params(model_name, param_grid):\n",
    "    if model_name == \"rforest\":\n",
    "        model = RandomForestClassifier()\n",
    "        param_grid.update({\"randomforestclassifier__warm_start\": [True, False],\n",
    "                \"randomforestclassifier__n_estimators\": [100, 200],\n",
    "                \"randomforestclassifier__max_depth\": range(2, 14),\n",
    "                \"randomforestclassifier__min_samples_leaf\": range(2, 10),\n",
    "                \"randomforestclassifier__criterion\":[\"gini\", \"entropy\"]})\n",
    "    elif model_name == \"knn\":\n",
    "        model = KNeighborsClassifier()\n",
    "        param_grid.update({\"kneighborsclassifier__n_neighbors\": range(2, 50),\n",
    "                \"kneighborsclassifier__weights\": [\"uniform\", \"distance\"]})\n",
    "    elif model_name == \"dt\":\n",
    "        model = DecisionTreeClassifier()\n",
    "        param_grid.update({\"decisiontreeclassifier__max_depth\": range(2, 14),\n",
    "                \"decisiontreeclassifier__min_samples_leaf\": range(2, 12),\n",
    "#               \"decisiontreeclassifier__min_samples_split\": range(3, 40, 2),\n",
    "                \"decisiontreeclassifier__criterion\":[\"gini\", \"entropy\"]})\n",
    "    elif model_name == \"Ada\":\n",
    "        model = AdaBoostClassifier()\n",
    "        param_grid.update({#\"adaboostclassifiert__estimator\": [DecisionTreeClassifier(max_depth=1), DecisionTreeClassifier(max_depth=3)],\n",
    "                \"adaboostclassifier__n_estimators\": [50, 80],\n",
    "                \"adaboostclassifier__learning_rate\": [0.5, 1.0, 1.5, 2.0, 2.5]})\n",
    "    #elif model_name == \"SVC\": # runtime too long. Stopped after 2 hours \n",
    "    #    model = SVC()\n",
    "    #    param_grid.update({\"svc__kernel\": [\"linear\", \"poly\", \"rbf\", \"sigmoid\"],\n",
    "    #            \"svc__class_weight\": [\"balanced\", \"None\"]})\n",
    "    elif model_name == \"GaussPrC\":\n",
    "        model = GaussianProcessClassifier(1.0 * RBF(1.0))\n",
    "        param_grid.update({\"gaussianprocessclassifier__multi_class\": [\"one_vs_rest\", \"one_vs_one\"]})\n",
    "    elif model_name == \"mlp\":\n",
    "        model = MLPClassifier()\n",
    "        param_grid.update({\"mlpclassifier__hidden_layer_sizes\": [(200), (200, 200)],\n",
    "            \"mlpclassifier__max_iter\": [3000, 5000]})\n",
    "\n",
    "    return model, param_grid\n",
    "\n",
    "\n"
   ]
  },
  {
   "cell_type": "code",
   "execution_count": 65,
   "id": "b89d8112",
   "metadata": {},
   "outputs": [],
   "source": [
    "from sklearn.metrics import confusion_matrix, ConfusionMatrixDisplay\n",
    "import matplotlib.pyplot as plt\n",
    "from sklearn.feature_selection import RFECV\n",
    "\n",
    "def evaluate_model(list_of_models, param_grid_preproc):\n",
    "    score_new = {\n",
    "        \"model\": [],\n",
    "        \"test_acc_score\": [],\n",
    "        \"train_acc_score\": [],\n",
    "        \"best_score_of_CV\": [],\n",
    "        \"best_params\": []\n",
    "    }\n",
    "    param_grid = {}\n",
    "    \n",
    "    for i in list_of_models:\n",
    "        #reset values to be empty : \n",
    "        model = \"\"\n",
    "        param_grid.clear()\n",
    "        param_grid = param_grid_preproc\n",
    "\n",
    "        # # # # it would nice if I make this into a function get_model_and_params\n",
    "        model, param_grid = get_model_and_params(i, param_grid)\n",
    "\n",
    "        #create the full_pipeline\n",
    "        full_pipe = make_pipeline(preprocessor, \n",
    "                          StandardScaler(with_mean=False),\n",
    "                          model\n",
    "                             )\n",
    "\n",
    "        # define cross validation\n",
    "        search = RandomizedSearchCV(full_pipe,\n",
    "                      param_grid,\n",
    "                      cv=5,\n",
    "                      verbose=1,\n",
    "                      scoring=\"accuracy\",\n",
    "                      n_jobs=-2, \n",
    "                      n_iter=5\n",
    "                    )                             \n",
    "\n",
    "        # fit\n",
    "        search.fit(X_train, y_train)\n",
    "        print(search.best_params_)\n",
    "\n",
    "        score_new[\"model\"].append(i)\n",
    "\n",
    "        ### testing accuracy\n",
    "        y_test_pred = search.predict(X_test)\n",
    "        acc_test = accuracy_score(y_test, y_test_pred)\n",
    "        score_new[\"test_acc_score\"].append(acc_test)\n",
    "\n",
    "        #get score of TRAIN-Data (overfitting?)\n",
    "        y_train_pred = search.predict(X_train)\n",
    "        acc_train = accuracy_score(y_train, y_train_pred)\n",
    "        score_new[\"train_acc_score\"].append(acc_train)\n",
    "\n",
    "        # keep scores of model (optional)\n",
    "        score_new[\"best_score_of_CV\"].append(search.best_score_)\n",
    "        score_new[\"best_params\"].append(search.best_params_)\n",
    "\n",
    "        # confusion matrix\n",
    "        conf = confusion_matrix(y_test, y_test_pred)\n",
    "        disp = ConfusionMatrixDisplay(confusion_matrix=conf,\n",
    "                                    display_labels=search.classes_)\n",
    "        disp.plot()\n",
    "        plt.show()\n",
    "        #import seaborn --> I couldn't find how to print a table with seaborn\n",
    "\n",
    "        #how do I use set_palette()\n",
    "        #change plt.show() to sns.show()\n",
    "        #How to set the palette to have the colors of my presentation?\n",
    "\n",
    "        print(i, model)\n",
    "        print(pd.DataFrame(conf))\n",
    "        print(\"end\")\n",
    "    return pd.DataFrame(score_new)\n",
    "\n"
   ]
  },
  {
   "cell_type": "code",
   "execution_count": 2,
   "id": "d57982f5",
   "metadata": {},
   "outputs": [],
   "source": [
    "## Create the correlation matrix, using the absolute values.\n",
    "## For our purpose, it doesn't matter whether the correlation is positive or negative.\n",
    "\n",
    "#corrMatrix = X_train.corr().abs()\n",
    "\n",
    "## Plot a heatmap of the correlation matrix.\n",
    "#fig, ax = plt.subplots(figsize=(18,18))\n",
    "#sns.heatmap(corrMatrix, annot=True);"
   ]
  },
  {
   "cell_type": "code",
   "execution_count": 66,
   "id": "7c4005bb",
   "metadata": {},
   "outputs": [
    {
     "name": "stdout",
     "output_type": "stream",
     "text": [
      "Fitting 5 folds for each of 5 candidates, totalling 25 fits\n",
      "{'randomforestclassifier__warm_start': True, 'randomforestclassifier__n_estimators': 200, 'randomforestclassifier__min_samples_leaf': 6, 'randomforestclassifier__max_depth': 11, 'randomforestclassifier__criterion': 'entropy'}\n"
     ]
    },
    {
     "data": {
      "image/png": "[encoded data removed]",
      "text/plain": [
       "<Figure size 640x480 with 2 Axes>"
      ]
     },
     "metadata": {},
     "output_type": "display_data"
    },
    {
     "name": "stdout",
     "output_type": "stream",
     "text": [
      "rforest RandomForestClassifier()\n",
      "     0   1\n",
      "0  353  13\n",
      "1   19  81\n",
      "end\n"
     ]
    }
   ],
   "source": [
    "# set models, pass param_grid for preprocessor-pipeline\n",
    "list_of_models = [\"rforest\"] # , , \"knn\", \"dt\", \"mlp\", \"rforest\", \"knn\", \"dt\", \"GaussPrC\", \"mlp\" \"SVC\" \"Ada\", , \"mlp\"\n",
    "\n",
    "param_grid_preproc = {}\n",
    "\n",
    "score_new = evaluate_model(list_of_models, param_grid_preproc)\n"
   ]
  },
  {
   "cell_type": "markdown",
   "id": "dd23d35d",
   "metadata": {},
   "source": [
    "# Keep track of scores"
   ]
  },
  {
   "cell_type": "code",
   "execution_count": 52,
   "id": "449e59d6",
   "metadata": {},
   "outputs": [],
   "source": [
    "#Set to Initialize = True when you want to start over.\n",
    "initialize_all_scores = True    \n",
    "\n",
    "if initialize_all_scores == True:\n",
    "    score_all = {\n",
    "        \"model\": [], \n",
    "        \"test_acc_score\" : [],\n",
    "        \"train_acc_score\" : [],\n",
    "        \"best_params\": [],\n",
    "        \"best_score_of_CV\": [],\n",
    "        \"dataset\": [],\n",
    "        \"preprocessing\": [],\n",
    "    }\n",
    "    score_all = pd.DataFrame(score_all)"
   ]
  },
  {
   "cell_type": "code",
   "execution_count": 50,
   "id": "6e578dcf",
   "metadata": {},
   "outputs": [
    {
     "data": {
      "text/html": [
       "<div>\n",
       "<style scoped>\n",
       "    .dataframe tbody tr th:only-of-type {\n",
       "        vertical-align: middle;\n",
       "    }\n",
       "\n",
       "    .dataframe tbody tr th {\n",
       "        vertical-align: top;\n",
       "    }\n",
       "\n",
       "    .dataframe thead th {\n",
       "        text-align: right;\n",
       "    }\n",
       "</style>\n",
       "<table border=\"1\" class=\"dataframe\">\n",
       "  <thead>\n",
       "    <tr style=\"text-align: right;\">\n",
       "      <th></th>\n",
       "      <th>model</th>\n",
       "      <th>test_acc_score</th>\n",
       "      <th>train_acc_score</th>\n",
       "      <th>best_score_of_CV</th>\n",
       "      <th>best_params</th>\n",
       "    </tr>\n",
       "  </thead>\n",
       "  <tbody>\n",
       "    <tr>\n",
       "      <th>0</th>\n",
       "      <td>rforest</td>\n",
       "      <td>0.924893</td>\n",
       "      <td>0.958602</td>\n",
       "      <td>0.930645</td>\n",
       "      <td>{'randomforestclassifier__warm_start': False, ...</td>\n",
       "    </tr>\n",
       "  </tbody>\n",
       "</table>\n",
       "</div>"
      ],
      "text/plain": [
       "     model  test_acc_score  train_acc_score  best_score_of_CV  \\\n",
       "0  rforest        0.924893         0.958602          0.930645   \n",
       "\n",
       "                                         best_params  \n",
       "0  {'randomforestclassifier__warm_start': False, ...  "
      ]
     },
     "execution_count": 50,
     "metadata": {},
     "output_type": "execute_result"
    }
   ],
   "source": [
    "score_new\n",
    "# the ada boost - which is not a model itself but a way to stack things together performs really bad. Ada-Boost \n",
    "# "
   ]
  },
  {
   "cell_type": "code",
   "execution_count": 53,
   "id": "4ef0032e",
   "metadata": {},
   "outputs": [],
   "source": [
    "#description of the current round\n",
    "#score_all = pd.DataFrame([]) --> only once!\n",
    "dataset = \"reduced,ROADvsTRACK\" #\"reduced,18labels\"   #\"reduced,19labels\"\n",
    "preprocessing = \"only_numeric,SimpleImputer,StandardScaler\" #\"only_numeric_cols,SimpleImputer_Mean\"  #\"all_columns,SimpleImputer_Mean,OneHot\"\n",
    "\n",
    "score_new[\"dataset\"] = dataset\n",
    "score_new[\"preprocessing\"] = preprocessing\n"
   ]
  },
  {
   "cell_type": "code",
   "execution_count": 54,
   "id": "8ca8fd8a",
   "metadata": {},
   "outputs": [],
   "source": [
    "\n",
    "score_all = pd.concat([score_all, score_new], ignore_index=True)"
   ]
  },
  {
   "cell_type": "code",
   "execution_count": 55,
   "id": "2ba334ee",
   "metadata": {},
   "outputs": [
    {
     "data": {
      "text/html": [
       "<div>\n",
       "<style scoped>\n",
       "    .dataframe tbody tr th:only-of-type {\n",
       "        vertical-align: middle;\n",
       "    }\n",
       "\n",
       "    .dataframe tbody tr th {\n",
       "        vertical-align: top;\n",
       "    }\n",
       "\n",
       "    .dataframe thead th {\n",
       "        text-align: right;\n",
       "    }\n",
       "</style>\n",
       "<table border=\"1\" class=\"dataframe\">\n",
       "  <thead>\n",
       "    <tr style=\"text-align: right;\">\n",
       "      <th></th>\n",
       "      <th>model</th>\n",
       "      <th>test_acc_score</th>\n",
       "      <th>train_acc_score</th>\n",
       "      <th>best_params</th>\n",
       "      <th>best_score_of_CV</th>\n",
       "      <th>dataset</th>\n",
       "      <th>preprocessing</th>\n",
       "    </tr>\n",
       "  </thead>\n",
       "  <tbody>\n",
       "    <tr>\n",
       "      <th>0</th>\n",
       "      <td>rforest</td>\n",
       "      <td>0.924893</td>\n",
       "      <td>0.958602</td>\n",
       "      <td>{'randomforestclassifier__warm_start': False, ...</td>\n",
       "      <td>0.930645</td>\n",
       "      <td>reduced,ROADvsTRACK</td>\n",
       "      <td>only_numeric,SimpleImputer,StandardScaler</td>\n",
       "    </tr>\n",
       "  </tbody>\n",
       "</table>\n",
       "</div>"
      ],
      "text/plain": [
       "     model  test_acc_score  train_acc_score  \\\n",
       "0  rforest        0.924893         0.958602   \n",
       "\n",
       "                                         best_params  best_score_of_CV  \\\n",
       "0  {'randomforestclassifier__warm_start': False, ...          0.930645   \n",
       "\n",
       "               dataset                              preprocessing  \n",
       "0  reduced,ROADvsTRACK  only_numeric,SimpleImputer,StandardScaler  "
      ]
     },
     "execution_count": 55,
     "metadata": {},
     "output_type": "execute_result"
    }
   ],
   "source": [
    "score_all"
   ]
  },
  {
   "cell_type": "code",
   "execution_count": 48,
   "id": "34469fce",
   "metadata": {},
   "outputs": [
    {
     "ename": "NameError",
     "evalue": "name 'score_all' is not defined",
     "output_type": "error",
     "traceback": [
      "\u001b[0;31m---------------------------------------------------------------------------\u001b[0m",
      "\u001b[0;31mNameError\u001b[0m                                 Traceback (most recent call last)",
      "\u001b[0;32m/var/folders/qk/t0n17tjd6xg2853ctsfg5xz80000gn/T/ipykernel_23899/1084170845.py\u001b[0m in \u001b[0;36m<module>\u001b[0;34m\u001b[0m\n\u001b[1;32m      1\u001b[0m \u001b[0;31m#store results\u001b[0m\u001b[0;34m\u001b[0m\u001b[0;34m\u001b[0m\u001b[0;34m\u001b[0m\u001b[0m\n\u001b[0;32m----> 2\u001b[0;31m \u001b[0mpd\u001b[0m\u001b[0;34m.\u001b[0m\u001b[0mDataFrame\u001b[0m\u001b[0;34m(\u001b[0m\u001b[0mscore_all\u001b[0m\u001b[0;34m)\u001b[0m\u001b[0;34m.\u001b[0m\u001b[0mto_csv\u001b[0m\u001b[0;34m(\u001b[0m\u001b[0;34m\"all_scores_2.csv\"\u001b[0m\u001b[0;34m)\u001b[0m\u001b[0;34m\u001b[0m\u001b[0;34m\u001b[0m\u001b[0m\n\u001b[0m\u001b[1;32m      3\u001b[0m \u001b[0;34m\u001b[0m\u001b[0m\n\u001b[1;32m      4\u001b[0m \u001b[0;34m\u001b[0m\u001b[0m\n",
      "\u001b[0;31mNameError\u001b[0m: name 'score_all' is not defined"
     ]
    }
   ],
   "source": [
    "#store results\n",
    "pd.DataFrame(score_all).to_csv(\"all_scores_2.csv\")\n",
    "\n",
    "\n"
   ]
  },
  {
   "cell_type": "code",
   "execution_count": null,
   "id": "7bda1c23",
   "metadata": {},
   "outputs": [],
   "source": []
  }
 ],
 "metadata": {
  "kernelspec": {
   "display_name": "Python 3.8.15 ('base')",
   "language": "python",
   "name": "python3"
  },
  "language_info": {
   "codemirror_mode": {
    "name": "ipython",
    "version": 3
   },
   "file_extension": ".py",
   "mimetype": "text/x-python",
   "name": "python",
   "nbconvert_exporter": "python",
   "pygments_lexer": "ipython3",
   "version": "3.8.15"
  },
  "vscode": {
   "interpreter": {
    "hash": "b8f2f4ada2c80ea9ac5ce6703ded092576c26007afc915a8876876e3c9a694db"
   }
  }
 },
 "nbformat": 4,
 "nbformat_minor": 5
}

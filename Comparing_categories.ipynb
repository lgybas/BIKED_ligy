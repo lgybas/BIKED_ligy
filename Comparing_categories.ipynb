{
 "cells": [
  {
   "cell_type": "markdown",
   "metadata": {},
   "source": [
    "# Comparing categories"
   ]
  },
  {
   "cell_type": "markdown",
   "metadata": {},
   "source": [
    "1) How well do the features of a bicycle determine the label?\n",
    "2) How well can machine learning detect the type of bicycle?\n",
    "\n",
    "I do not know yet what exactly I will say / present"
   ]
  },
  {
   "cell_type": "markdown",
   "metadata": {},
   "source": [
    "## Imports"
   ]
  },
  {
   "cell_type": "code",
   "execution_count": 38,
   "metadata": {},
   "outputs": [],
   "source": [
    "import pandas as pd\n",
    "\n",
    "from sklearn.model_selection import train_test_split\n",
    "from sklearn.model_selection import GridSearchCV\n",
    "from sklearn.model_selection import RandomizedSearchCV\n",
    "from sklearn.compose import ColumnTransformer\n",
    "\n",
    "from sklearn.impute import SimpleImputer, KNNImputer\n",
    "from sklearn.preprocessing import OrdinalEncoder\n",
    "from sklearn.preprocessing import OneHotEncoder\n",
    "from sklearn.preprocessing import StandardScaler, MinMaxScaler\n",
    "\n",
    "from sklearn.tree import DecisionTreeClassifier     #Depth-8 Decision Tree\n",
    "from sklearn.neighbors import KNeighborsClassifier  #K-Neighbors\n",
    "from sklearn.ensemble import RandomForestClassifier #Random Forest\n",
    "\n",
    "from sklearn.metrics import accuracy_score\n",
    "from sklearn.pipeline import make_pipeline\n",
    "from sklearn import set_config"
   ]
  },
  {
   "cell_type": "code",
   "execution_count": 39,
   "metadata": {},
   "outputs": [],
   "source": [
    "#more imports\n",
    "from sklearn.ensemble import AdaBoostClassifier        #AdaBoost\n",
    "from sklearn.svm import SVC                            #Support Vector Clf.\n",
    "\n",
    "from sklearn.gaussian_process import GaussianProcessClassifier     #Gaussian Pr. Clf.\n",
    "from sklearn.neural_network import MLPClassifier                   #3-layer Neural Net, #6-Layer Neural Net\n",
    "from sklearn.gaussian_process.kernels import ConstantKernel, RBF\n",
    "\n",
    "from sklearn.metrics import confusion_matrix, ConfusionMatrixDisplay\n",
    "import matplotlib.pyplot as plt\n",
    "from sklearn.feature_selection import RFECV"
   ]
  },
  {
   "cell_type": "code",
   "execution_count": 40,
   "metadata": {},
   "outputs": [],
   "source": [
    "#Read Data\n",
    "data = pd.read_csv(\"Data/data_processed_cl.csv\", index_col=0)"
   ]
  },
  {
   "cell_type": "code",
   "execution_count": 41,
   "metadata": {},
   "outputs": [
    {
     "name": "stdout",
     "output_type": "stream",
     "text": [
      "<class 'pandas.core.frame.DataFrame'>\n",
      "Int64Index: 4511 entries, 0 to 4510\n",
      "Columns: 1847 entries, SSSIDECX3 to SIZE_other\n",
      "dtypes: float64(1415), int64(429), object(3)\n",
      "memory usage: 63.6+ MB\n"
     ]
    }
   ],
   "source": [
    "data.info()"
   ]
  },
  {
   "cell_type": "markdown",
   "metadata": {},
   "source": [
    "There are 3 object columns (non-numeric). Let's check them out:"
   ]
  },
  {
   "cell_type": "code",
   "execution_count": 42,
   "metadata": {},
   "outputs": [
    {
     "name": "stdout",
     "output_type": "stream",
     "text": [
      "3\n"
     ]
    },
    {
     "data": {
      "text/plain": [
       "Index(['BIKESTYLE', 'category', 'SIZE_in_text'], dtype='object')"
      ]
     },
     "execution_count": 42,
     "metadata": {},
     "output_type": "execute_result"
    }
   ],
   "source": [
    "categorical_cols = data.select_dtypes(include=\"object\").columns\n",
    "print(len(list(categorical_cols)))\n",
    "categorical_cols"
   ]
  },
  {
   "cell_type": "markdown",
   "metadata": {},
   "source": [
    "Ah, \n",
    "* `BIKESTYLE` and  `category` are my label columns (one at a time) and \n",
    "* `SIZE_text` is for ordinal encoding"
   ]
  },
  {
   "cell_type": "code",
   "execution_count": null,
   "metadata": {},
   "outputs": [],
   "source": []
  },
  {
   "cell_type": "markdown",
   "metadata": {},
   "source": [
    "## Splitting with label = `BIKESTYLE`"
   ]
  },
  {
   "cell_type": "code",
   "execution_count": 43,
   "metadata": {},
   "outputs": [],
   "source": [
    "y_1 = data.pop(\"category\")\n",
    "y_2 = data.pop(\"BIKESTYLE\")"
   ]
  },
  {
   "cell_type": "code",
   "execution_count": 44,
   "metadata": {},
   "outputs": [],
   "source": [
    "X = data "
   ]
  },
  {
   "cell_type": "code",
   "execution_count": 8,
   "metadata": {},
   "outputs": [],
   "source": [
    "# Train / Test Split\n",
    "X_train, X_test, y_train, y_test = train_test_split(X, y_1, test_size=0.2, random_state=31416)"
   ]
  },
  {
   "cell_type": "markdown",
   "metadata": {},
   "source": [
    "## Preprocessor Pipeline"
   ]
  },
  {
   "cell_type": "code",
   "execution_count": 9,
   "metadata": {},
   "outputs": [],
   "source": [
    "# Select categorical and numerical columns\n",
    "X_cat = X.select_dtypes(exclude=\"number\").copy()\n",
    "X_num = X.select_dtypes(include=\"number\").copy()\n"
   ]
  },
  {
   "cell_type": "code",
   "execution_count": 10,
   "metadata": {},
   "outputs": [],
   "source": [
    "\n",
    "# Numerical Pipeline, only with the SimpleImputer(strategy=\"mean\") and MinMaxScaler\n",
    "numeric_pipe = make_pipeline(\n",
    "    SimpleImputer(strategy=\"constant\"),   #strategy=\"constant\"\n",
    "    MinMaxScaler()\n",
    ")\n"
   ]
  },
  {
   "cell_type": "code",
   "execution_count": 11,
   "metadata": {},
   "outputs": [],
   "source": [
    "# Categorical Pipeline\n",
    "\n",
    "# # # i. Defining the categorical encoder\n",
    "ordinal_col_names = ['SIZE_text'] \n",
    "\n",
    "ordinal_cols = X_cat.columns.get_indexer(ordinal_col_names)\n",
    "#onehot_cols = X_cat.columns.get_indexer(list(set(X_cat) - set(ordinal_col_names)))\n",
    "\n",
    "\n",
    "# # # ii. Defining values for Ordinal Encoding\n",
    "SIZE_text = [\"0\", \"xs\", \"s\", \"m\", \"l\", \"xl\", \"xxl\", \"xxxl\"]\n",
    "\n",
    "ordinal_cats_list = [SIZE_text]\n",
    "\n",
    "# # # iii. Defining the ColumnTransformer with 2 branches: ordinal & onehot (categorical encoder)\n",
    "categorical_encoder = ColumnTransformer(\n",
    "    transformers=[\n",
    "        (\"cat_ordinal\", OrdinalEncoder(categories=ordinal_cats_list), ordinal_cols),\n",
    "#        (\"cat_onehot\", OneHotEncoder(handle_unknown=\"ignore\"), onehot_cols),\n",
    "    ]\n",
    ")\n",
    "\n",
    "# # # iv. Categorical pipeline = \"NA\" imputer + categorical encoder\n",
    "categoric_pipe = make_pipeline(SimpleImputer(strategy=\"constant\", fill_value=\"NA\"),\n",
    "                                 categorical_encoder\n",
    "                                )\n"
   ]
  },
  {
   "cell_type": "code",
   "execution_count": 12,
   "metadata": {},
   "outputs": [],
   "source": [
    "# Preprocessor\n",
    "preprocessor = ColumnTransformer(\n",
    "    transformers=[\n",
    "        (\"num_pipe\", numeric_pipe, X_num.columns),\n",
    "        (\"cat_pipe\", categoric_pipe, X_cat.columns),\n",
    "    ]\n",
    ")"
   ]
  },
  {
   "cell_type": "markdown",
   "metadata": {},
   "source": [
    "## Preparing the models to be used"
   ]
  },
  {
   "cell_type": "code",
   "execution_count": 13,
   "metadata": {},
   "outputs": [],
   "source": [
    "def get_model_and_params(model_name, param_grid):\n",
    "    if model_name == \"rforest\":\n",
    "        model = RandomForestClassifier()\n",
    "        param_grid.update({\"randomforestclassifier__warm_start\": [True, False],\n",
    "                \"randomforestclassifier__n_estimators\": [100, 200],\n",
    "                \"randomforestclassifier__max_depth\": range(2, 14),\n",
    "                \"randomforestclassifier__min_samples_leaf\": range(2, 10),\n",
    "                \"randomforestclassifier__criterion\":[\"gini\", \"entropy\"]})\n",
    "    elif model_name == \"knn\":\n",
    "        model = KNeighborsClassifier()\n",
    "        param_grid.update({\"kneighborsclassifier__n_neighbors\": range(2, 50),\n",
    "                \"kneighborsclassifier__weights\": [\"uniform\", \"distance\"]})\n",
    "    elif model_name == \"dt\":\n",
    "        model = DecisionTreeClassifier()\n",
    "        param_grid.update({\"decisiontreeclassifier__max_depth\": range(2, 14),\n",
    "                \"decisiontreeclassifier__min_samples_leaf\": range(2, 12),\n",
    "#               \"decisiontreeclassifier__min_samples_split\": range(3, 40, 2),\n",
    "                \"decisiontreeclassifier__criterion\":[\"gini\", \"entropy\"]})\n",
    "    elif model_name == \"Ada\":\n",
    "        model = AdaBoostClassifier()\n",
    "        param_grid.update({#\"adaboostclassifiert__estimator\": [DecisionTreeClassifier(max_depth=1), DecisionTreeClassifier(max_depth=3)],\n",
    "                \"adaboostclassifier__n_estimators\": [50, 80],\n",
    "                \"adaboostclassifier__learning_rate\": [0.5, 1.0, 1.5, 2.0, 2.5]})\n",
    "    #elif model_name == \"SVC\": # runtime too long. Stopped after 2 hours \n",
    "    #    model = SVC()\n",
    "    #    param_grid.update({\"svc__kernel\": [\"linear\", \"poly\", \"rbf\", \"sigmoid\"],\n",
    "    #            \"svc__class_weight\": [\"balanced\", \"None\"]})\n",
    "    elif model_name == \"GaussPrC\":\n",
    "        model = GaussianProcessClassifier(1.0 * RBF(1.0))\n",
    "        param_grid.update({\"gaussianprocessclassifier__multi_class\": [\"one_vs_rest\", \"one_vs_one\"]})\n",
    "    elif model_name == \"mlp\":\n",
    "        model = MLPClassifier()\n",
    "        param_grid.update({\"mlpclassifier__hidden_layer_sizes\": [(200), (200, 200)],\n",
    "            \"mlpclassifier__max_iter\": [3000, 5000]})\n",
    "\n",
    "    return model, param_grid\n"
   ]
  },
  {
   "cell_type": "markdown",
   "metadata": {},
   "source": [
    "## Build evaluation function"
   ]
  },
  {
   "cell_type": "code",
   "execution_count": 14,
   "metadata": {},
   "outputs": [],
   "source": [
    "def evaluate_model(list_of_models, param_grid_preproc):\n",
    "    score_new = {\n",
    "        \"model\": [],\n",
    "        \"test_acc_score\": [],\n",
    "        \"train_acc_score\": [],\n",
    "        \"best_score_of_CV\": [],\n",
    "        \"best_params\": []\n",
    "    }\n",
    "    param_grid = {}\n",
    "    \n",
    "    for i in list_of_models:\n",
    "        #reset values to be empty : \n",
    "        model = \"\"\n",
    "        param_grid.clear()\n",
    "        param_grid = param_grid_preproc\n",
    "\n",
    "        # # # # it would nice if I make this into a function get_model_and_params\n",
    "        model, param_grid = get_model_and_params(i, param_grid)\n",
    "\n",
    "        #create the full_pipeline\n",
    "        full_pipe = make_pipeline(preprocessor, \n",
    "                          StandardScaler(with_mean=False),\n",
    "                          model\n",
    "                             )\n",
    "\n",
    "        # define cross validation\n",
    "        search = RandomizedSearchCV(full_pipe,\n",
    "                      param_grid,\n",
    "                      cv=5,\n",
    "                      verbose=1,\n",
    "                      scoring=\"accuracy\",\n",
    "                      n_jobs=-2, \n",
    "                      n_iter=5\n",
    "                    )                             \n",
    "\n",
    "        # fit\n",
    "        search.fit(X_train, y_train)\n",
    "        print(search.best_params_)\n",
    "\n",
    "        score_new[\"model\"].append(i)\n",
    "\n",
    "        ### testing accuracy\n",
    "        y_test_pred = search.predict(X_test)\n",
    "        acc_test = accuracy_score(y_test, y_test_pred)\n",
    "        score_new[\"test_acc_score\"].append(acc_test)\n",
    "\n",
    "        #get score of TRAIN-Data (overfitting?)\n",
    "        y_train_pred = search.predict(X_train)\n",
    "        acc_train = accuracy_score(y_train, y_train_pred)\n",
    "        score_new[\"train_acc_score\"].append(acc_train)\n",
    "\n",
    "        # keep scores of model (optional)\n",
    "        score_new[\"best_score_of_CV\"].append(search.best_score_)\n",
    "        score_new[\"best_params\"].append(search.best_params_)\n",
    "\n",
    "        # confusion matrix\n",
    "        conf = confusion_matrix(y_test, y_test_pred)\n",
    "        disp = ConfusionMatrixDisplay(confusion_matrix=conf,\n",
    "                                    display_labels=search.classes_)\n",
    "        disp.plot()\n",
    "        plt.show()\n",
    "\n",
    "        #how do I use set_palette()\n",
    "        #change plt.show() to sns.show()\n",
    "        #How to set the palette to have the colors of my presentation?\n",
    "\n",
    "        print(i, model)\n",
    "        print(pd.DataFrame(conf))\n",
    "        print(\"end\")\n",
    "    return pd.DataFrame(score_new)\n",
    "\n"
   ]
  },
  {
   "cell_type": "markdown",
   "metadata": {},
   "source": [
    "## Running the pipeline"
   ]
  },
  {
   "cell_type": "code",
   "execution_count": null,
   "metadata": {},
   "outputs": [],
   "source": []
  },
  {
   "cell_type": "code",
   "execution_count": 15,
   "metadata": {},
   "outputs": [
    {
     "name": "stdout",
     "output_type": "stream",
     "text": [
      "Fitting 5 folds for each of 5 candidates, totalling 25 fits\n",
      "{'randomforestclassifier__warm_start': False, 'randomforestclassifier__n_estimators': 200, 'randomforestclassifier__min_samples_leaf': 8, 'randomforestclassifier__max_depth': 8, 'randomforestclassifier__criterion': 'gini'}\n"
     ]
    },
    {
     "data": {
      "image/png": "[encoded data removed]",
      "text/plain": [
       "<Figure size 640x480 with 2 Axes>"
      ]
     },
     "metadata": {},
     "output_type": "display_data"
    },
    {
     "name": "stdout",
     "output_type": "stream",
     "text": [
      "rforest RandomForestClassifier()\n",
      "    0    1  2    3\n",
      "0  17   23  0   56\n",
      "1   0  210  0   51\n",
      "2   2   29  4   35\n",
      "3   0   23  0  453\n",
      "end\n",
      "Fitting 5 folds for each of 5 candidates, totalling 25 fits\n",
      "{'kneighborsclassifier__weights': 'distance', 'kneighborsclassifier__n_neighbors': 12}\n"
     ]
    },
    {
     "data": {
      "image/png": "[encoded data removed]",
      "text/plain": [
       "<Figure size 640x480 with 2 Axes>"
      ]
     },
     "metadata": {},
     "output_type": "display_data"
    },
    {
     "name": "stdout",
     "output_type": "stream",
     "text": [
      "knn KNeighborsClassifier()\n",
      "    0    1   2    3\n",
      "0  23    7   1   65\n",
      "1   2  152   0  107\n",
      "2   4   13  11   42\n",
      "3   2   16   1  457\n",
      "end\n",
      "Fitting 5 folds for each of 5 candidates, totalling 25 fits\n",
      "{'decisiontreeclassifier__min_samples_leaf': 3, 'decisiontreeclassifier__max_depth': 10, 'decisiontreeclassifier__criterion': 'gini'}\n"
     ]
    },
    {
     "data": {
      "image/png": "[encoded data removed]",
      "text/plain": [
       "<Figure size 640x480 with 2 Axes>"
      ]
     },
     "metadata": {},
     "output_type": "display_data"
    },
    {
     "name": "stdout",
     "output_type": "stream",
     "text": [
      "dt DecisionTreeClassifier()\n",
      "    0    1   2    3\n",
      "0  32   20   4   40\n",
      "1   7  204  13   37\n",
      "2   9   18  23   20\n",
      "3  18   32   6  420\n",
      "end\n"
     ]
    }
   ],
   "source": [
    "# set models, pass param_grid for preprocessor-pipeline\n",
    "list_of_models = [\"rforest\", \"knn\", \"dt\"] # , , \"knn\", \"dt\", \"mlp\", \"rforest\", \"knn\", \"dt\", \"GaussPrC\", \"mlp\" \"SVC\" \"Ada\", , \"mlp\"\n",
    "\n",
    "param_grid_preproc = {}\n",
    "\n",
    "score_new = evaluate_model(list_of_models, param_grid_preproc)"
   ]
  },
  {
   "cell_type": "code",
   "execution_count": 16,
   "metadata": {},
   "outputs": [
    {
     "data": {
      "text/plain": [
       "(4511, 1845)"
      ]
     },
     "execution_count": 16,
     "metadata": {},
     "output_type": "execute_result"
    }
   ],
   "source": [
    "X.shape"
   ]
  },
  {
   "cell_type": "code",
   "execution_count": 17,
   "metadata": {},
   "outputs": [
    {
     "data": {
      "text/plain": [
       "903"
      ]
     },
     "execution_count": 17,
     "metadata": {},
     "output_type": "execute_result"
    }
   ],
   "source": [
    "(23 +  24 +  2  + 47 +  9 + 195 +  8  + 49 +  7  + 14 + 20 +  29 +  6  + 29  + 4 + 437) \n",
    "#903 --> Testset"
   ]
  },
  {
   "cell_type": "markdown",
   "metadata": {},
   "source": [
    "## Keep the scores"
   ]
  },
  {
   "cell_type": "code",
   "execution_count": 18,
   "metadata": {},
   "outputs": [],
   "source": [
    "#Set to Initialize = True when you want to start over.\n",
    "initialize_all_scores = True  \n",
    "\n",
    "if initialize_all_scores == True:\n",
    "    score_all = {\n",
    "        \"model\": [], \n",
    "        \"test_acc_score\" : [],\n",
    "        \"train_acc_score\" : [],\n",
    "        \"best_params\": [],\n",
    "        \"best_score_of_CV\": [],\n",
    "        \"dataset\": [],\n",
    "        \"preprocessing\": [],\n",
    "    }\n",
    "    score_all = pd.DataFrame(score_all)"
   ]
  },
  {
   "cell_type": "code",
   "execution_count": 19,
   "metadata": {},
   "outputs": [],
   "source": [
    "#description of the current round\n",
    "#score_all = pd.DataFrame([]) --> only once!\n",
    "dataset = \"processed_cl,18labels\" #\"reduced,18labels\"   #\"reduced,19labels\"\n",
    "preprocessing = \"numerical_and_ordinalencoding_SIZE_in_text,SimpleImputer,StandardScaler\" #\"only_numeric_cols,SimpleImputer_Mean\"  #\"all_columns,SimpleImputer_Mean,OneHot\"\n",
    "\n",
    "score_new[\"dataset\"] = dataset\n",
    "score_new[\"preprocessing\"] = preprocessing"
   ]
  },
  {
   "cell_type": "code",
   "execution_count": 20,
   "metadata": {},
   "outputs": [
    {
     "data": {
      "text/html": [
       "<div>\n",
       "<style scoped>\n",
       "    .dataframe tbody tr th:only-of-type {\n",
       "        vertical-align: middle;\n",
       "    }\n",
       "\n",
       "    .dataframe tbody tr th {\n",
       "        vertical-align: top;\n",
       "    }\n",
       "\n",
       "    .dataframe thead th {\n",
       "        text-align: right;\n",
       "    }\n",
       "</style>\n",
       "<table border=\"1\" class=\"dataframe\">\n",
       "  <thead>\n",
       "    <tr style=\"text-align: right;\">\n",
       "      <th></th>\n",
       "      <th>model</th>\n",
       "      <th>test_acc_score</th>\n",
       "      <th>train_acc_score</th>\n",
       "      <th>best_params</th>\n",
       "      <th>best_score_of_CV</th>\n",
       "      <th>dataset</th>\n",
       "      <th>preprocessing</th>\n",
       "    </tr>\n",
       "  </thead>\n",
       "  <tbody>\n",
       "    <tr>\n",
       "      <th>0</th>\n",
       "      <td>rforest</td>\n",
       "      <td>0.757475</td>\n",
       "      <td>0.798503</td>\n",
       "      <td>{'randomforestclassifier__warm_start': False, ...</td>\n",
       "      <td>0.769952</td>\n",
       "      <td>processed_cl,18labels</td>\n",
       "      <td>numerical_and_ordinalencoding_SIZE_in_text,Sim...</td>\n",
       "    </tr>\n",
       "    <tr>\n",
       "      <th>1</th>\n",
       "      <td>knn</td>\n",
       "      <td>0.712071</td>\n",
       "      <td>1.000000</td>\n",
       "      <td>{'kneighborsclassifier__weights': 'distance', ...</td>\n",
       "      <td>0.727548</td>\n",
       "      <td>processed_cl,18labels</td>\n",
       "      <td>numerical_and_ordinalencoding_SIZE_in_text,Sim...</td>\n",
       "    </tr>\n",
       "    <tr>\n",
       "      <th>2</th>\n",
       "      <td>dt</td>\n",
       "      <td>0.751938</td>\n",
       "      <td>0.890798</td>\n",
       "      <td>{'decisiontreeclassifier__min_samples_leaf': 3...</td>\n",
       "      <td>0.765510</td>\n",
       "      <td>processed_cl,18labels</td>\n",
       "      <td>numerical_and_ordinalencoding_SIZE_in_text,Sim...</td>\n",
       "    </tr>\n",
       "  </tbody>\n",
       "</table>\n",
       "</div>"
      ],
      "text/plain": [
       "     model  test_acc_score  train_acc_score  \\\n",
       "0  rforest        0.757475         0.798503   \n",
       "1      knn        0.712071         1.000000   \n",
       "2       dt        0.751938         0.890798   \n",
       "\n",
       "                                         best_params  best_score_of_CV  \\\n",
       "0  {'randomforestclassifier__warm_start': False, ...          0.769952   \n",
       "1  {'kneighborsclassifier__weights': 'distance', ...          0.727548   \n",
       "2  {'decisiontreeclassifier__min_samples_leaf': 3...          0.765510   \n",
       "\n",
       "                 dataset                                      preprocessing  \n",
       "0  processed_cl,18labels  numerical_and_ordinalencoding_SIZE_in_text,Sim...  \n",
       "1  processed_cl,18labels  numerical_and_ordinalencoding_SIZE_in_text,Sim...  \n",
       "2  processed_cl,18labels  numerical_and_ordinalencoding_SIZE_in_text,Sim...  "
      ]
     },
     "execution_count": 20,
     "metadata": {},
     "output_type": "execute_result"
    }
   ],
   "source": [
    "score_all = pd.concat([score_all, score_new], ignore_index=True)\n",
    "score_all\n",
    "\n",
    "\n",
    "#and my model can do it for 19 classes. \n",
    "#if I have 2400 points of data \n",
    "#and you can still can't tell the difference between the \n",
    "#how can a marketing person know the difference\n",
    "\n",
    "#inbalances in the dataset\n",
    "#model can be inconsitently classified by the many designers who created bicycles\n",
    "#steamtube measuring is known to be unreliable\n",
    "\n",
    "# there might also be some marketing involved\n",
    "\n",
    "#because poeple need bike companies aren't reinventing the wheel\n"
   ]
  },
  {
   "cell_type": "markdown",
   "metadata": {},
   "source": [
    "In diesem Fall ist der RandomForest der Beste von den Dreien\n",
    "\n"
   ]
  },
  {
   "cell_type": "markdown",
   "metadata": {},
   "source": [
    "## Getting features of decision_tree"
   ]
  },
  {
   "cell_type": "markdown",
   "metadata": {},
   "source": [
    "### replicate the DT-model"
   ]
  },
  {
   "cell_type": "code",
   "execution_count": 21,
   "metadata": {},
   "outputs": [],
   "source": [
    "model, param_grid = get_model_and_params(model_name = \"dt\", param_grid = {})"
   ]
  },
  {
   "cell_type": "code",
   "execution_count": 22,
   "metadata": {},
   "outputs": [
    {
     "name": "stdout",
     "output_type": "stream",
     "text": [
      "Fitting 5 folds for each of 5 candidates, totalling 25 fits\n"
     ]
    },
    {
     "data": {
      "text/plain": [
       "RandomizedSearchCV(cv=5,\n",
       "                   estimator=Pipeline(steps=[('columntransformer',\n",
       "                                              ColumnTransformer(transformers=[('num_pipe',\n",
       "                                                                               Pipeline(steps=[('simpleimputer',\n",
       "                                                                                                SimpleImputer(strategy='constant')),\n",
       "                                                                                               ('minmaxscaler',\n",
       "                                                                                                MinMaxScaler())]),\n",
       "                                                                               Index(['SSSIDECX3', 'SSSIDECX2', 'SSSIDECX1', 'SSSIDECY2', 'SSSIDECY1',\n",
       "       'STEMBENDS', 'FRONTROTORBOLTS', 'Shoe up angle',\n",
       "       'Down tube front diamete...\n",
       "                                                                               Index(['SIZE_in_text'], dtype='object'))])),\n",
       "                                             ('standardscaler',\n",
       "                                              StandardScaler(with_mean=False)),\n",
       "                                             ('decisiontreeclassifier',\n",
       "                                              DecisionTreeClassifier())]),\n",
       "                   n_iter=5, n_jobs=-2,\n",
       "                   param_distributions={'decisiontreeclassifier__criterion': ['gini',\n",
       "                                                                              'entropy'],\n",
       "                                        'decisiontreeclassifier__max_depth': range(2, 14),\n",
       "                                        'decisiontreeclassifier__min_samples_leaf': range(2, 12)},\n",
       "                   scoring='accuracy', verbose=1)"
      ]
     },
     "execution_count": 22,
     "metadata": {},
     "output_type": "execute_result"
    }
   ],
   "source": [
    "#create the full_pipeline\n",
    "full_pipe = make_pipeline(preprocessor, \n",
    "                          StandardScaler(with_mean=False),\n",
    "                          model\n",
    "                             )\n",
    "\n",
    "# define cross validation\n",
    "search = RandomizedSearchCV(full_pipe,\n",
    "                      param_grid,\n",
    "                      cv=5,\n",
    "                      verbose=1,\n",
    "                      scoring=\"accuracy\",\n",
    "                      n_jobs=-2, \n",
    "                      n_iter=5\n",
    "                    )                             \n",
    "\n",
    "# fit\n",
    "search.fit(X_train, y_train)"
   ]
  },
  {
   "cell_type": "code",
   "execution_count": 23,
   "metadata": {},
   "outputs": [
    {
     "data": {
      "text/plain": [
       "0.751937984496124"
      ]
     },
     "execution_count": 23,
     "metadata": {},
     "output_type": "execute_result"
    }
   ],
   "source": [
    "### testing accuracy\n",
    "y_test_pred = search.predict(X_test)\n",
    "acc_test = accuracy_score(y_test, y_test_pred)\n",
    "acc_test\n"
   ]
  },
  {
   "cell_type": "code",
   "execution_count": 24,
   "metadata": {},
   "outputs": [
    {
     "data": {
      "text/plain": [
       "0.8957871396895787"
      ]
     },
     "execution_count": 24,
     "metadata": {},
     "output_type": "execute_result"
    }
   ],
   "source": [
    "\n",
    "#get score of TRAIN-Data (overfitting?)\n",
    "y_train_pred = search.predict(X_train)\n",
    "acc_train = accuracy_score(y_train, y_train_pred)\n",
    "acc_train\n"
   ]
  },
  {
   "cell_type": "markdown",
   "metadata": {},
   "source": [
    "### Get features out for a random forest"
   ]
  },
  {
   "cell_type": "code",
   "execution_count": 25,
   "metadata": {},
   "outputs": [],
   "source": [
    "feature_names = X.columns"
   ]
  },
  {
   "cell_type": "code",
   "execution_count": null,
   "metadata": {},
   "outputs": [],
   "source": []
  },
  {
   "cell_type": "code",
   "execution_count": null,
   "metadata": {},
   "outputs": [],
   "source": []
  },
  {
   "cell_type": "code",
   "execution_count": null,
   "metadata": {},
   "outputs": [],
   "source": []
  },
  {
   "cell_type": "markdown",
   "metadata": {},
   "source": [
    "### Get features out for a decision tree"
   ]
  },
  {
   "cell_type": "code",
   "execution_count": 26,
   "metadata": {},
   "outputs": [],
   "source": [
    "# save feature names for later use\n",
    "import numpy as np\n",
    "\n",
    "feature_names = np.array(X.columns)\n"
   ]
  },
  {
   "cell_type": "code",
   "execution_count": 27,
   "metadata": {},
   "outputs": [
    {
     "data": {
      "text/plain": [
       "1845"
      ]
     },
     "execution_count": 27,
     "metadata": {},
     "output_type": "execute_result"
    }
   ],
   "source": [
    "len(feature_names) # length 1"
   ]
  },
  {
   "cell_type": "code",
   "execution_count": 28,
   "metadata": {},
   "outputs": [],
   "source": [
    "feature_names = feature_names.reshape(-1, 1)  # now it's stored. but there were two [[]]. \n",
    "# Let's see if they disturb"
   ]
  },
  {
   "cell_type": "code",
   "execution_count": 29,
   "metadata": {},
   "outputs": [],
   "source": [
    "feature_names = feature_names.flatten()"
   ]
  },
  {
   "cell_type": "code",
   "execution_count": 30,
   "metadata": {},
   "outputs": [
    {
     "data": {
      "text/plain": [
       "('decisiontreeclassifier', DecisionTreeClassifier())"
      ]
     },
     "execution_count": 30,
     "metadata": {},
     "output_type": "execute_result"
    }
   ],
   "source": [
    "# access the DT model in the pipe\n",
    "# which position?\n",
    "full_pipe.steps[2]"
   ]
  },
  {
   "cell_type": "code",
   "execution_count": 31,
   "metadata": {},
   "outputs": [
    {
     "data": {
      "text/plain": [
       "array([0.00198384, 0.00213992, 0.        , ..., 0.00662954, 0.        ,\n",
       "       0.        ])"
      ]
     },
     "execution_count": 31,
     "metadata": {},
     "output_type": "execute_result"
    }
   ],
   "source": [
    "# access the model via\n",
    "decision_tree_model = search.best_estimator_.named_steps[\"decisiontreeclassifier\"]\n",
    "importances = decision_tree_model.feature_importances_\n",
    "importances"
   ]
  },
  {
   "cell_type": "code",
   "execution_count": 32,
   "metadata": {},
   "outputs": [
    {
     "data": {
      "text/plain": [
       "numpy.ndarray"
      ]
     },
     "execution_count": 32,
     "metadata": {},
     "output_type": "execute_result"
    }
   ],
   "source": [
    "type(importances)"
   ]
  },
  {
   "cell_type": "code",
   "execution_count": 33,
   "metadata": {},
   "outputs": [
    {
     "data": {
      "text/plain": [
       "1845"
      ]
     },
     "execution_count": 33,
     "metadata": {},
     "output_type": "execute_result"
    }
   ],
   "source": [
    "len(importances)"
   ]
  },
  {
   "cell_type": "code",
   "execution_count": 34,
   "metadata": {},
   "outputs": [
    {
     "data": {
      "text/plain": [
       "1845"
      ]
     },
     "execution_count": 34,
     "metadata": {},
     "output_type": "execute_result"
    }
   ],
   "source": [
    "len(feature_names)"
   ]
  },
  {
   "cell_type": "code",
   "execution_count": 35,
   "metadata": {},
   "outputs": [],
   "source": [
    "features_df = {\n",
    "    \"columns\": feature_names,\n",
    "    \"importance\": importances}\n",
    "\n",
    "features_df = pd.DataFrame(features_df)"
   ]
  },
  {
   "cell_type": "code",
   "execution_count": 36,
   "metadata": {},
   "outputs": [
    {
     "data": {
      "text/html": [
       "<div>\n",
       "<style scoped>\n",
       "    .dataframe tbody tr th:only-of-type {\n",
       "        vertical-align: middle;\n",
       "    }\n",
       "\n",
       "    .dataframe tbody tr th {\n",
       "        vertical-align: top;\n",
       "    }\n",
       "\n",
       "    .dataframe thead th {\n",
       "        text-align: right;\n",
       "    }\n",
       "</style>\n",
       "<table border=\"1\" class=\"dataframe\">\n",
       "  <thead>\n",
       "    <tr style=\"text-align: right;\">\n",
       "      <th></th>\n",
       "      <th>columns</th>\n",
       "      <th>importance</th>\n",
       "    </tr>\n",
       "  </thead>\n",
       "  <tbody>\n",
       "    <tr>\n",
       "      <th>1835</th>\n",
       "      <td>CSAUX3_MM_RATIO OHCLASS: 0</td>\n",
       "      <td>0.00000</td>\n",
       "    </tr>\n",
       "    <tr>\n",
       "      <th>1836</th>\n",
       "      <td>CSAUX3_MM_RATIO OHCLASS: 1</td>\n",
       "      <td>0.00000</td>\n",
       "    </tr>\n",
       "    <tr>\n",
       "      <th>1837</th>\n",
       "      <td>bottle SEATTUBE0 show OHCLASS: False</td>\n",
       "      <td>0.00000</td>\n",
       "    </tr>\n",
       "    <tr>\n",
       "      <th>1838</th>\n",
       "      <td>bottle SEATTUBE0 show OHCLASS: True</td>\n",
       "      <td>0.00000</td>\n",
       "    </tr>\n",
       "    <tr>\n",
       "      <th>1839</th>\n",
       "      <td>bottle DOWNTUBE0 show OHCLASS: False</td>\n",
       "      <td>0.00000</td>\n",
       "    </tr>\n",
       "    <tr>\n",
       "      <th>1840</th>\n",
       "      <td>bottle DOWNTUBE0 show OHCLASS: True</td>\n",
       "      <td>0.00000</td>\n",
       "    </tr>\n",
       "    <tr>\n",
       "      <th>1841</th>\n",
       "      <td>SIZE_in_cm</td>\n",
       "      <td>0.00000</td>\n",
       "    </tr>\n",
       "    <tr>\n",
       "      <th>1842</th>\n",
       "      <td>SIZE_in_inch</td>\n",
       "      <td>0.00663</td>\n",
       "    </tr>\n",
       "    <tr>\n",
       "      <th>1843</th>\n",
       "      <td>SIZE_in_text</td>\n",
       "      <td>0.00000</td>\n",
       "    </tr>\n",
       "    <tr>\n",
       "      <th>1844</th>\n",
       "      <td>SIZE_other</td>\n",
       "      <td>0.00000</td>\n",
       "    </tr>\n",
       "  </tbody>\n",
       "</table>\n",
       "</div>"
      ],
      "text/plain": [
       "                                   columns  importance\n",
       "1835            CSAUX3_MM_RATIO OHCLASS: 0     0.00000\n",
       "1836            CSAUX3_MM_RATIO OHCLASS: 1     0.00000\n",
       "1837  bottle SEATTUBE0 show OHCLASS: False     0.00000\n",
       "1838   bottle SEATTUBE0 show OHCLASS: True     0.00000\n",
       "1839  bottle DOWNTUBE0 show OHCLASS: False     0.00000\n",
       "1840   bottle DOWNTUBE0 show OHCLASS: True     0.00000\n",
       "1841                            SIZE_in_cm     0.00000\n",
       "1842                          SIZE_in_inch     0.00663\n",
       "1843                          SIZE_in_text     0.00000\n",
       "1844                            SIZE_other     0.00000"
      ]
     },
     "execution_count": 36,
     "metadata": {},
     "output_type": "execute_result"
    }
   ],
   "source": [
    "features_df.tail(10)\n",
    "\n",
    "# the model was so good because there were two columns still in there: \"PERCENT\", \"COUNT\""
   ]
  },
  {
   "cell_type": "code",
   "execution_count": 37,
   "metadata": {},
   "outputs": [],
   "source": [
    "### for forests\n",
    "#import numpy as np\n",
    "#std = np.std([tree.feature_importances_ for tree in forest.estimators_], axis=0)\n",
    "\n",
    "#forest_importances = pd.Series(importances, index=feature_names)\n",
    "\n",
    "#fig, ax = plt.subplots()\n",
    "#forest_importances.plot.bar(yerr=std, ax=ax)\n",
    "#ax.set_title(\"Feature importances using MDI\")\n",
    "#ax.set_ylabel(\"Mean decrease in impurity\")\n",
    "#fig.tight_layout()"
   ]
  },
  {
   "cell_type": "code",
   "execution_count": null,
   "metadata": {},
   "outputs": [],
   "source": []
  },
  {
   "cell_type": "code",
   "execution_count": null,
   "metadata": {},
   "outputs": [],
   "source": []
  }
 ],
 "metadata": {
  "kernelspec": {
   "display_name": "Python 3.8.15 ('base')",
   "language": "python",
   "name": "python3"
  },
  "language_info": {
   "codemirror_mode": {
    "name": "ipython",
    "version": 3
   },
   "file_extension": ".py",
   "mimetype": "text/x-python",
   "name": "python",
   "nbconvert_exporter": "python",
   "pygments_lexer": "ipython3",
   "version": "3.8.15"
  },
  "orig_nbformat": 4,
  "vscode": {
   "interpreter": {
    "hash": "b8f2f4ada2c80ea9ac5ce6703ded092576c26007afc915a8876876e3c9a694db"
   }
  }
 },
 "nbformat": 4,
 "nbformat_minor": 2
}

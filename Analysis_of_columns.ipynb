{
 "cells": [
  {
   "cell_type": "markdown",
   "metadata": {},
   "source": [
    "# Analysis - after finishing the project"
   ]
  },
  {
   "cell_type": "markdown",
   "metadata": {},
   "source": [
    "## Research"
   ]
  },
  {
   "cell_type": "markdown",
   "metadata": {},
   "source": [
    "* **Rahmenhöhe**: (von Mitte-Tretlager bis Ende-Sitzrohr)\tWeitreichende Auswirkungen auf Fahrradgeometrie - sollte zur Schrittlänge des Fahrers passen!\tHoher Rahmen → langes Oberrohr, steiler Steuerrohrwinkel, kleiner Nachlauf, hoher Radstand\n",
    "\n",
    "\n",
    "* **Stack**: (von Mitte-Tretlager bis Lenkerhöhe)\tSiehe Rahmenhöhe!\tSiehe Rahmenhöhe!\n",
    "\n",
    "\n",
    "* **Reach**: (von Mitte-Tretlager bis Lenker)\tSiehe Rahmenhöhe!\tSiehe Rahmenhöhe!\n",
    "\n",
    "\n",
    "* **Steuerrohrwinkel**: (Winkel von Steuerrohr zur Waagrechten)\tLenkverhalten: steiler Steuerrohrwinkel → direktes (bis zu nervöses) Lenkverhalten\tSteiler Steuerrohrwinkel → niedriger Radstand, niedriger Nachlauf\n",
    "\n",
    "\n",
    "* **Sitzrohrwinkel**: (Winkel von Sitzrohr zur Waagrechten)\tSitzhaltung: es besteht ein ideales, ergonomisches Verhältnis von Sattel zu Tretlager, abhängig von Fahrradart\t--\n",
    "\n",
    "\n",
    "* **Radstand**: (von Mitte der hinteren bis Mitte der vorderen Ausfallenden)\tWendigkeit / Geradeauslauf: Hoher Radstand sorgt für guten Geradeauslauf, kleiner Radstand sorgt für gute Wendigkeit\tAbhängig von Rahmenhöhe / Stack und Steuerrohrwinkel\n",
    "\n",
    "\n",
    "* **Nachlauf**: (von Aufstandspunkt-Vorderrad bis Aufstandspunkt-Steuerrohr (Lenkachse))\n",
    "\n",
    "from https://www.velonerd.cc/fahrradgeometrie-nachlauf-stack-reach/"
   ]
  },
  {
   "cell_type": "markdown",
   "metadata": {},
   "source": [
    "Values for some features with regard to overal size: S < 170cm, M 170-180cm, L 180-190 cm , XL > 190cm\n",
    "\n",
    "* Rahmenhöhe (a)            S = 450 (+50 each for M, L, XL)\n",
    "* Oberrohrlänge (b)         S = 590 (+25 for M, L, +20 for XL)\n",
    "* Stuerrohrlänge (c)        S = 140 (+20 for M, L, XL)\n",
    "* Kettenstrebenlänge (d)    S, M, L, XL = 515 \n",
    "* Radstand (e)              S = 1143, M = 1169, L = 1195, XL = 1215\n",
    "* Stack (f)                 not listed\n",
    "* Reach (g)                 not listed\n",
    "* Tretlagerabsenkung (h)    not listed\n",
    "* Sitzrohrwinkel (alpha)    S, M, L, XL = 70.5 degree\n",
    "* Sitzrohrwinkel (beta)     S, M, L, XL = 72 degree \n",
    "* Tretlagerhöhe (i)         not listed\n",
    "* Überstandshöhe (j)        not listed\n",
    "* Gesamlänge (l)            S = 1845, M = 1871, L = 1897, XL = 1917\n",
    "\n",
    "from https://www.fahrrad-xxl.de/flyer-b8-1-x0030564\n",
    "See image in resources."
   ]
  },
  {
   "cell_type": "markdown",
   "metadata": {},
   "source": [
    "**I wonder how to go through all columns and understand what they are for**\n",
    "\n"
   ]
  },
  {
   "cell_type": "markdown",
   "metadata": {},
   "source": [
    "Things I do not know:\n",
    "* How did he condense all 23,000 columns of raw data into the 1,500 one of the reduced dataset. \n",
    "* Was there some interpolation already done?"
   ]
  },
  {
   "cell_type": "markdown",
   "metadata": {},
   "source": [
    "## Splitting the dataset"
   ]
  },
  {
   "cell_type": "code",
   "execution_count": 11,
   "metadata": {},
   "outputs": [],
   "source": [
    "import pandas as pd\n",
    "\n",
    "# import data (which one? reduced?)\n",
    "data = pd.read_csv(\"Data/BIKED_reduced.csv\", index_col=0)\n",
    "\n",
    "# get all wheels columns\n",
    "data_wheels = data.loc[:, data.columns.str.lower().str.contains(\"wheel\")]\n",
    "data = data.drop(data_wheels.columns, axis = 1)\n"
   ]
  },
  {
   "cell_type": "code",
   "execution_count": 14,
   "metadata": {},
   "outputs": [],
   "source": [
    "\n",
    "# get all brakes columns\n",
    "data_brakes = data.loc[:, data.columns.str.lower().str.contains(\"brake\")]  # 31 columns\n",
    "data = data.drop(data_brakes.columns, axis = 1)\n"
   ]
  },
  {
   "cell_type": "code",
   "execution_count": 22,
   "metadata": {},
   "outputs": [],
   "source": [
    "\n",
    "# all gears, cogs columns # 18 columns\n",
    "data_gears = data.loc[\n",
    "    :, \n",
    "    (data.columns.str.lower().str.contains(\"gear\")) |\n",
    "    (data.columns.str.lower().str.contains(\"cog\"))  ]\n",
    "data = data.drop(data_gears.columns, axis = 1)\n"
   ]
  },
  {
   "cell_type": "code",
   "execution_count": 45,
   "metadata": {},
   "outputs": [],
   "source": [
    "#get all RD, FD and derailleur columns - a big mix #60 columns\n",
    "\n",
    "data_derailleur = data.loc[\n",
    "    :, \n",
    "    ((data.columns.str.lower().str.contains(\"derailleur\")) |\n",
    "    (data.columns.str.lower().str.contains(\"fd\")) |\n",
    "    (data.columns.str.lower().str.contains(\"rd\"))) \n",
    "    ]\n",
    "\n",
    "data_derailleur = data_derailleur.loc[:, data_derailleur.columns.str.lower().str.contains(pat=\"guard\", regex=True) == False]\n",
    "data = data.drop(data_derailleur.columns, axis = 1)\n",
    "\n"
   ]
  },
  {
   "cell_type": "code",
   "execution_count": 50,
   "metadata": {},
   "outputs": [],
   "source": [
    "#chain # 57 columns\n",
    "data_chain = data.loc[\n",
    "    :, \n",
    "    data.columns.str.lower().str.contains(\"chain\") ]\n",
    "data = data.drop(data_chain.columns, axis = 1)"
   ]
  },
  {
   "cell_type": "code",
   "execution_count": 47,
   "metadata": {},
   "outputs": [],
   "source": [
    "# stack and reach?\n",
    "data_stack_reach = data.loc[\n",
    "    :, \n",
    "    (data.columns.str.lower().str.contains(\"stack\")) |\n",
    "    (data.columns.str.lower().str.contains(\"reach\"))  ]\n",
    "data = data.drop(data_stack_reach.columns, axis = 1)\n"
   ]
  },
  {
   "cell_type": "code",
   "execution_count": 52,
   "metadata": {},
   "outputs": [],
   "source": [
    "\n",
    "# all remaining size columns # 6 columns\n",
    "data_size = data.loc[\n",
    "    :, \n",
    "    data.columns.str.lower().str.contains(\"size\") ]\n",
    "data = data.drop(data_size.columns, axis = 1)\n"
   ]
  },
  {
   "cell_type": "code",
   "execution_count": 55,
   "metadata": {},
   "outputs": [],
   "source": [
    "# all remaining tube columns  - #  224 columns\n",
    "data_tube = data.loc[\n",
    "    :, \n",
    "    data.columns.str.lower().str.contains(\"tube\") ]\n",
    "data = data.drop(data_tube.columns, axis = 1)"
   ]
  },
  {
   "cell_type": "code",
   "execution_count": 57,
   "metadata": {},
   "outputs": [],
   "source": [
    "\n",
    "# all remaining front columns  - # 116 columns excluding TUBE  - (OLD: 122 columns (including tube))\n",
    "data_front = data.loc[\n",
    "    :, \n",
    "    data.columns.str.lower().str.contains(\"front\") ]\n",
    "data = data.drop(data_front.columns, axis = 1)\n"
   ]
  },
  {
   "cell_type": "code",
   "execution_count": 59,
   "metadata": {},
   "outputs": [],
   "source": [
    "\n",
    "# all remaining rear columns - 63 columns (excluding tube columns)\n",
    "data_rear = data.loc[\n",
    "    :, \n",
    "    data.columns.str.lower().str.contains(\"rear\") ]\n",
    "data = data.drop(data_rear.columns, axis = 1)\n",
    "\n"
   ]
  },
  {
   "cell_type": "code",
   "execution_count": 68,
   "metadata": {},
   "outputs": [
    {
     "data": {
      "text/plain": [
       "(4512, 738)"
      ]
     },
     "execution_count": 68,
     "metadata": {},
     "output_type": "execute_result"
    }
   ],
   "source": [
    "# number of remaining columns?\n",
    "data.shape # 738 columns remaining"
   ]
  },
  {
   "cell_type": "code",
   "execution_count": 33,
   "metadata": {},
   "outputs": [
    {
     "name": "stdout",
     "output_type": "stream",
     "text": [
      "Hallo Liane\n",
      "Hallo Jonah\n",
      "Hallo Ria\n"
     ]
    }
   ],
   "source": [
    "liste_aller_begrüssungen = [\"Hallo Liane\", \"Hallo Jonah\", \"Hallo Ria\"]\n",
    "\n",
    "for text in liste_aller_begrüssungen:\n",
    "    print(text)"
   ]
  },
  {
   "cell_type": "code",
   "execution_count": null,
   "metadata": {},
   "outputs": [],
   "source": []
  }
 ],
 "metadata": {
  "kernelspec": {
   "display_name": "Python 3.8.15 ('base')",
   "language": "python",
   "name": "python3"
  },
  "language_info": {
   "codemirror_mode": {
    "name": "ipython",
    "version": 3
   },
   "file_extension": ".py",
   "mimetype": "text/x-python",
   "name": "python",
   "nbconvert_exporter": "python",
   "pygments_lexer": "ipython3",
   "version": "3.8.15"
  },
  "orig_nbformat": 4,
  "vscode": {
   "interpreter": {
    "hash": "b8f2f4ada2c80ea9ac5ce6703ded092576c26007afc915a8876876e3c9a694db"
   }
  }
 },
 "nbformat": 4,
 "nbformat_minor": 2
}

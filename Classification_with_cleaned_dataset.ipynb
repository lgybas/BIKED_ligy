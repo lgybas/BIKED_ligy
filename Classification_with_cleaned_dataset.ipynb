{
 "cells": [
  {
   "cell_type": "markdown",
   "metadata": {},
   "source": [
    "# Comparing categories"
   ]
  },
  {
   "cell_type": "markdown",
   "metadata": {},
   "source": [
    "1) How well do the features of a bicycle determine the label?\n",
    "2) How well can machine learning detect the type of bicycle?\n",
    "\n",
    "I do not know yet what exactly I will say / present"
   ]
  },
  {
   "cell_type": "markdown",
   "metadata": {},
   "source": [
    "## Imports"
   ]
  },
  {
   "cell_type": "code",
   "execution_count": 1,
   "metadata": {},
   "outputs": [],
   "source": [
    "import pandas as pd\n",
    "import numpy as np\n",
    "\n",
    "from sklearn.model_selection import train_test_split\n",
    "from sklearn.model_selection import GridSearchCV\n",
    "from sklearn.model_selection import RandomizedSearchCV\n",
    "from sklearn.compose import ColumnTransformer\n",
    "\n",
    "from sklearn.impute import SimpleImputer, KNNImputer\n",
    "from sklearn.preprocessing import OrdinalEncoder\n",
    "from sklearn.preprocessing import OneHotEncoder\n",
    "from sklearn.preprocessing import StandardScaler, MinMaxScaler\n",
    "\n",
    "from sklearn.tree import DecisionTreeClassifier     #Depth-8 Decision Tree\n",
    "from sklearn.neighbors import KNeighborsClassifier  #K-Neighbors\n",
    "from sklearn.ensemble import RandomForestClassifier #Random Forest\n",
    "\n",
    "\n",
    "from sklearn.metrics import accuracy_score\n",
    "from sklearn.pipeline import make_pipeline\n",
    "from sklearn import set_config"
   ]
  },
  {
   "cell_type": "code",
   "execution_count": 2,
   "metadata": {},
   "outputs": [],
   "source": [
    "#more imports\n",
    "from sklearn.ensemble import AdaBoostClassifier        #AdaBoost\n",
    "from sklearn.svm import SVC                            #Support Vector Clf.\n",
    "\n",
    "from sklearn.gaussian_process import GaussianProcessClassifier     #Gaussian Pr. Clf.\n",
    "from sklearn.neural_network import MLPClassifier                   #3-layer Neural Net, #6-Layer Neural Net\n",
    "from sklearn.gaussian_process.kernels import ConstantKernel, RBF\n",
    "\n",
    "from sklearn.metrics import confusion_matrix, ConfusionMatrixDisplay\n",
    "import matplotlib.pyplot as plt\n",
    "from sklearn.feature_selection import RFECV"
   ]
  },
  {
   "cell_type": "code",
   "execution_count": 3,
   "metadata": {},
   "outputs": [],
   "source": [
    "#Read Data\n",
    "data = pd.read_csv(\"Data/data_processed_cl.csv\", index_col=0)"
   ]
  },
  {
   "cell_type": "code",
   "execution_count": 4,
   "metadata": {},
   "outputs": [
    {
     "name": "stdout",
     "output_type": "stream",
     "text": [
      "<class 'pandas.core.frame.DataFrame'>\n",
      "Int64Index: 4511 entries, 0 to 4510\n",
      "Columns: 1847 entries, SSSIDECX3 to SIZE_other\n",
      "dtypes: float64(1415), int64(429), object(3)\n",
      "memory usage: 63.6+ MB\n"
     ]
    }
   ],
   "source": [
    "data.info()"
   ]
  },
  {
   "cell_type": "markdown",
   "metadata": {},
   "source": [
    "There are 3 object columns (non-numeric). Let's check them out:"
   ]
  },
  {
   "cell_type": "code",
   "execution_count": 5,
   "metadata": {},
   "outputs": [
    {
     "name": "stdout",
     "output_type": "stream",
     "text": [
      "3\n"
     ]
    },
    {
     "data": {
      "text/plain": [
       "Index(['BIKESTYLE', 'category', 'SIZE_in_text'], dtype='object')"
      ]
     },
     "execution_count": 5,
     "metadata": {},
     "output_type": "execute_result"
    }
   ],
   "source": [
    "categorical_cols = data.select_dtypes(include=\"object\").columns\n",
    "print(len(list(categorical_cols)))\n",
    "categorical_cols"
   ]
  },
  {
   "cell_type": "code",
   "execution_count": 6,
   "metadata": {},
   "outputs": [
    {
     "data": {
      "text/plain": [
       "ROAD          1856\n",
       "MTB            616\n",
       "TRACK          470\n",
       "OTHER          315\n",
       "DIRT_JUMP      293\n",
       "TOURING        201\n",
       "CYCLOCROSS     151\n",
       "POLO           128\n",
       "TIMETRIAL       89\n",
       "BMX             86\n",
       "COMMUTER        75\n",
       "CITY            72\n",
       "CRUISER         42\n",
       "HYBRID          39\n",
       "TRIALS          35\n",
       "GRAVEL          19\n",
       "CARGO           14\n",
       "CHILDRENS       10\n",
       "Name: BIKESTYLE, dtype: int64"
      ]
     },
     "execution_count": 6,
     "metadata": {},
     "output_type": "execute_result"
    }
   ],
   "source": [
    "data.BIKESTYLE.value_counts()"
   ]
  },
  {
   "cell_type": "markdown",
   "metadata": {},
   "source": [
    "Ah, \n",
    "* `BIKESTYLE` and  `category` are my label columns (one at a time) and \n",
    "* `SIZE_text` is for ordinal encoding"
   ]
  },
  {
   "cell_type": "markdown",
   "metadata": {},
   "source": [
    "## Splitting with label = `BIKESTYLE`"
   ]
  },
  {
   "cell_type": "code",
   "execution_count": 6,
   "metadata": {},
   "outputs": [],
   "source": [
    "y_1 = data.pop(\"category\")\n",
    "y_2 = data.pop(\"BIKESTYLE\")"
   ]
  },
  {
   "cell_type": "code",
   "execution_count": 7,
   "metadata": {},
   "outputs": [],
   "source": [
    "X = data "
   ]
  },
  {
   "cell_type": "code",
   "execution_count": 35,
   "metadata": {},
   "outputs": [],
   "source": [
    "# Train / Test Split\n",
    "X_train, X_test, y_train, y_test = train_test_split(X, y_2, test_size=0.33, random_state=31416)"
   ]
  },
  {
   "cell_type": "markdown",
   "metadata": {},
   "source": [
    "## Preprocessor Pipeline"
   ]
  },
  {
   "cell_type": "code",
   "execution_count": 36,
   "metadata": {},
   "outputs": [],
   "source": [
    "# Select categorical and numerical columns\n",
    "X_cat = X.select_dtypes(exclude=\"number\").copy()\n",
    "X_num = X.select_dtypes(include=\"number\").copy()\n"
   ]
  },
  {
   "cell_type": "code",
   "execution_count": 37,
   "metadata": {},
   "outputs": [],
   "source": [
    "\n",
    "# Numerical Pipeline, only with the SimpleImputer(strategy=\"mean\") and MinMaxScaler\n",
    "numeric_pipe = make_pipeline(\n",
    "    SimpleImputer(strategy=\"constant\"),   #strategy=\"constant\"\n",
    "    MinMaxScaler()\n",
    ")\n"
   ]
  },
  {
   "cell_type": "code",
   "execution_count": 38,
   "metadata": {},
   "outputs": [],
   "source": [
    "# Categorical Pipeline\n",
    "\n",
    "# # # i. Defining the categorical encoder\n",
    "ordinal_col_names = ['SIZE_text'] \n",
    "\n",
    "ordinal_cols = X_cat.columns.get_indexer(ordinal_col_names)\n",
    "#onehot_cols = X_cat.columns.get_indexer(list(set(X_cat) - set(ordinal_col_names)))\n",
    "\n",
    "\n",
    "# # # ii. Defining values for Ordinal Encoding\n",
    "SIZE_text = [\"0\", \"xs\", \"s\", \"m\", \"l\", \"xl\", \"xxl\", \"xxxl\"]\n",
    "\n",
    "ordinal_cats_list = [SIZE_text]\n",
    "\n",
    "# # # iii. Defining the ColumnTransformer with 2 branches: ordinal & onehot (categorical encoder)\n",
    "categorical_encoder = ColumnTransformer(\n",
    "    transformers=[\n",
    "        (\"cat_ordinal\", OrdinalEncoder(categories=ordinal_cats_list), ordinal_cols),\n",
    "#        (\"cat_onehot\", OneHotEncoder(handle_unknown=\"ignore\"), onehot_cols),\n",
    "    ]\n",
    ")\n",
    "\n",
    "# # # iv. Categorical pipeline = \"NA\" imputer + categorical encoder\n",
    "categoric_pipe = make_pipeline(SimpleImputer(strategy=\"constant\", fill_value=\"NA\"),\n",
    "                                 categorical_encoder\n",
    "                                )\n"
   ]
  },
  {
   "cell_type": "code",
   "execution_count": 39,
   "metadata": {},
   "outputs": [],
   "source": [
    "\n",
    "# Preprocessor\n",
    "preprocessor = ColumnTransformer(\n",
    "    transformers=[\n",
    "        (\"num_pipe\", numeric_pipe, X_num.columns),\n",
    "        (\"cat_pipe\", categoric_pipe, X_cat.columns),\n",
    "    ]\n",
    ")"
   ]
  },
  {
   "cell_type": "markdown",
   "metadata": {},
   "source": [
    "## Preparing the models to be used"
   ]
  },
  {
   "cell_type": "code",
   "execution_count": 40,
   "metadata": {},
   "outputs": [],
   "source": [
    "def get_model_and_params(model_name, param_grid):\n",
    "    if model_name == \"rforest\":\n",
    "        model = RandomForestClassifier()\n",
    "        param_grid.update({\"randomforestclassifier__warm_start\": [True, False],\n",
    "                \"randomforestclassifier__n_estimators\": [100, 200],\n",
    "                \"randomforestclassifier__max_depth\": range(2, 14),\n",
    "                \"randomforestclassifier__min_samples_leaf\": range(2, 10),\n",
    "                \"randomforestclassifier__criterion\":[\"gini\", \"entropy\"]})\n",
    "    elif model_name == \"knn\":\n",
    "        model = KNeighborsClassifier()\n",
    "        param_grid.update({\"kneighborsclassifier__n_neighbors\": range(2, 50),\n",
    "                \"kneighborsclassifier__weights\": [\"uniform\", \"distance\"]})\n",
    "    elif model_name == \"dt\":\n",
    "        model = DecisionTreeClassifier()\n",
    "        param_grid.update({\"decisiontreeclassifier__max_depth\": range(2, 14),\n",
    "                \"decisiontreeclassifier__min_samples_leaf\": range(2, 12),\n",
    "#               \"decisiontreeclassifier__min_samples_split\": range(3, 40, 2),\n",
    "                \"decisiontreeclassifier__criterion\":[\"gini\", \"entropy\"]})\n",
    "    elif model_name == \"Ada\":\n",
    "        model = AdaBoostClassifier()\n",
    "        param_grid.update({#\"adaboostclassifiert__estimator\": [DecisionTreeClassifier(max_depth=1), DecisionTreeClassifier(max_depth=3)],\n",
    "                \"adaboostclassifier__n_estimators\": [50, 80],\n",
    "                \"adaboostclassifier__learning_rate\": [0.5, 1.0, 1.5, 2.0, 2.5]})\n",
    "    #elif model_name == \"SVC\": # runtime too long. Stopped after 2 hours \n",
    "    #    model = SVC()\n",
    "    #    param_grid.update({\"svc__kernel\": [\"linear\", \"poly\", \"rbf\", \"sigmoid\"],\n",
    "    #            \"svc__class_weight\": [\"balanced\", \"None\"]})\n",
    "    elif model_name == \"GaussPrC\":\n",
    "        model = GaussianProcessClassifier(1.0 * RBF(1.0))\n",
    "        param_grid.update({\"gaussianprocessclassifier__multi_class\": [\"one_vs_rest\", \"one_vs_one\"]})\n",
    "    elif model_name == \"mlp\":\n",
    "        model = MLPClassifier()\n",
    "        param_grid.update({\"mlpclassifier__hidden_layer_sizes\": [(200), (200, 200)],\n",
    "            \"mlpclassifier__max_iter\": [3000, 5000]})\n",
    "\n",
    "    return model, param_grid\n"
   ]
  },
  {
   "cell_type": "markdown",
   "metadata": {},
   "source": [
    "## Build evaluation function for several models"
   ]
  },
  {
   "cell_type": "code",
   "execution_count": 52,
   "metadata": {},
   "outputs": [],
   "source": [
    "def evaluate_models(list_of_models, param_grid_preproc):\n",
    "    score_new = {\n",
    "        \"model\": [],\n",
    "        \"test_acc_score\": [],\n",
    "        \"train_acc_score\": [],\n",
    "        \"best_score_of_CV\": [],\n",
    "        \"best_params\": []\n",
    "    }\n",
    "    param_grid = {}\n",
    "    \n",
    "    for i in list_of_models:\n",
    "        #reset values to be empty : \n",
    "        model = \"\"\n",
    "        param_grid.clear()\n",
    "        param_grid = param_grid_preproc\n",
    "\n",
    "        # # # # it would nice if I make this into a function get_model_and_params\n",
    "        model, param_grid = get_model_and_params(i, param_grid)\n",
    "\n",
    "        #create the full_pipeline\n",
    "        full_pipe = make_pipeline(preprocessor, \n",
    "                          StandardScaler(with_mean=False),\n",
    "                          model\n",
    "                             )\n",
    "\n",
    "        # define cross validation\n",
    "        search = RandomizedSearchCV(full_pipe,\n",
    "                      param_grid,\n",
    "                      cv=5,\n",
    "                      verbose=1,\n",
    "                      scoring=\"accuracy\",\n",
    "                      n_jobs=-2, \n",
    "                      n_iter=5\n",
    "                    )                             \n",
    "\n",
    "        # fit\n",
    "        search.fit(X_train, y_train)\n",
    "        print(search.best_params_)\n",
    "\n",
    "        score_new[\"model\"].append(i)\n",
    "\n",
    "        ### testing accuracy\n",
    "        y_test_pred = search.predict(X_test)\n",
    "        acc_test = accuracy_score(y_test, y_test_pred)\n",
    "        score_new[\"test_acc_score\"].append(acc_test)\n",
    "\n",
    "        #get score of TRAIN-Data (overfitting?)\n",
    "        y_train_pred = search.predict(X_train)\n",
    "        acc_train = accuracy_score(y_train, y_train_pred)\n",
    "        score_new[\"train_acc_score\"].append(acc_train)\n",
    "\n",
    "        # keep scores of model (optional)\n",
    "        score_new[\"best_score_of_CV\"].append(search.best_score_)\n",
    "        score_new[\"best_params\"].append(search.best_params_)\n",
    "\n",
    "        # confusion matrix\n",
    "        conf = confusion_matrix(y_test, y_test_pred)\n",
    "        disp = ConfusionMatrixDisplay(confusion_matrix=conf,\n",
    "                                    display_labels=search.classes_)\n",
    "        disp.plot()\n",
    "        plt.show()\n",
    "\n",
    "        #how do I use set_palette()\n",
    "        #change plt.show() to sns.show()\n",
    "        #How to set the palette to have the colors of my presentation?\n",
    "\n",
    "        print(i, model)\n",
    "        print(pd.DataFrame(conf))\n",
    "        print(\"end\")\n",
    "    return pd.DataFrame(score_new)\n",
    "\n"
   ]
  },
  {
   "cell_type": "markdown",
   "metadata": {},
   "source": [
    "## Running the pipeline for several models"
   ]
  },
  {
   "cell_type": "code",
   "execution_count": 49,
   "metadata": {},
   "outputs": [
    {
     "ename": "NameError",
     "evalue": "name 'evaluate_models' is not defined",
     "output_type": "error",
     "traceback": [
      "\u001b[0;31m---------------------------------------------------------------------------\u001b[0m",
      "\u001b[0;31mNameError\u001b[0m                                 Traceback (most recent call last)",
      "\u001b[0;32m/var/folders/qk/t0n17tjd6xg2853ctsfg5xz80000gn/T/ipykernel_45146/1912333685.py\u001b[0m in \u001b[0;36m<module>\u001b[0;34m\u001b[0m\n\u001b[1;32m      4\u001b[0m \u001b[0mparam_grid_preproc\u001b[0m \u001b[0;34m=\u001b[0m \u001b[0;34m{\u001b[0m\u001b[0;34m}\u001b[0m\u001b[0;34m\u001b[0m\u001b[0;34m\u001b[0m\u001b[0m\n\u001b[1;32m      5\u001b[0m \u001b[0;34m\u001b[0m\u001b[0m\n\u001b[0;32m----> 6\u001b[0;31m \u001b[0mscore_new\u001b[0m \u001b[0;34m=\u001b[0m \u001b[0mevaluate_models\u001b[0m\u001b[0;34m(\u001b[0m\u001b[0mlist_of_models\u001b[0m\u001b[0;34m,\u001b[0m \u001b[0mparam_grid_preproc\u001b[0m\u001b[0;34m)\u001b[0m\u001b[0;34m\u001b[0m\u001b[0;34m\u001b[0m\u001b[0m\n\u001b[0m",
      "\u001b[0;31mNameError\u001b[0m: name 'evaluate_models' is not defined"
     ]
    }
   ],
   "source": [
    "# set models, pass param_grid for preprocessor-pipeline\n",
    "list_of_models = [\"rforest\", \"knn\", \"dt\"] # , , \"knn\", \"dt\", \"mlp\", \"rforest\", \"knn\", \"dt\", \"GaussPrC\", \"mlp\" \"SVC\" \"Ada\", , \"mlp\"\n",
    "\n",
    "param_grid_preproc = {}\n",
    "\n",
    "score_new = evaluate_models(list_of_models, param_grid_preproc)"
   ]
  },
  {
   "cell_type": "markdown",
   "metadata": {},
   "source": [
    "## Keep the scores"
   ]
  },
  {
   "cell_type": "code",
   "execution_count": 43,
   "metadata": {},
   "outputs": [],
   "source": [
    "#Set to Initialize = True when you want to start over.\n",
    "initialize_all_scores = False  \n",
    "\n",
    "if initialize_all_scores == True:\n",
    "    score_all = {\n",
    "        \"model\": [], \n",
    "        \"test_acc_score\" : [],\n",
    "        \"train_acc_score\" : [],\n",
    "        \"best_params\": [],\n",
    "        \"best_score_of_CV\": [],\n",
    "        \"dataset\": [],\n",
    "        \"preprocessing\": [],\n",
    "    }\n",
    "    score_all = pd.DataFrame(score_all)"
   ]
  },
  {
   "cell_type": "code",
   "execution_count": 44,
   "metadata": {},
   "outputs": [],
   "source": [
    "#description of the current round\n",
    "#score_all = pd.DataFrame([]) --> only once!\n",
    "dataset = \"processed_cl,18labels\" #\"reduced,18labels\"   #\"reduced,19labels\"\n",
    "preprocessing = \"split_0.66_to_0.33,numerical_and_ordinalencoding_SIZE_in_text,SimpleImputer,StandardScaler\" #\"only_numeric_cols,SimpleImputer_Mean\"  #\"all_columns,SimpleImputer_Mean,OneHot\"\n",
    "\n",
    "score_new[\"dataset\"] = dataset\n",
    "score_new[\"preprocessing\"] = preprocessing"
   ]
  },
  {
   "cell_type": "code",
   "execution_count": 45,
   "metadata": {},
   "outputs": [
    {
     "data": {
      "text/html": [
       "<div>\n",
       "<style scoped>\n",
       "    .dataframe tbody tr th:only-of-type {\n",
       "        vertical-align: middle;\n",
       "    }\n",
       "\n",
       "    .dataframe tbody tr th {\n",
       "        vertical-align: top;\n",
       "    }\n",
       "\n",
       "    .dataframe thead th {\n",
       "        text-align: right;\n",
       "    }\n",
       "</style>\n",
       "<table border=\"1\" class=\"dataframe\">\n",
       "  <thead>\n",
       "    <tr style=\"text-align: right;\">\n",
       "      <th></th>\n",
       "      <th>model</th>\n",
       "      <th>test_acc_score</th>\n",
       "      <th>train_acc_score</th>\n",
       "      <th>best_params</th>\n",
       "      <th>best_score_of_CV</th>\n",
       "      <th>dataset</th>\n",
       "      <th>preprocessing</th>\n",
       "    </tr>\n",
       "  </thead>\n",
       "  <tbody>\n",
       "    <tr>\n",
       "      <th>0</th>\n",
       "      <td>rforest</td>\n",
       "      <td>0.709856</td>\n",
       "      <td>0.863082</td>\n",
       "      <td>{'randomforestclassifier__warm_start': True, '...</td>\n",
       "      <td>0.721173</td>\n",
       "      <td>processed_cl,18labels</td>\n",
       "      <td>numerical_and_ordinalencoding_SIZE_in_text,Sim...</td>\n",
       "    </tr>\n",
       "    <tr>\n",
       "      <th>1</th>\n",
       "      <td>knn</td>\n",
       "      <td>0.591362</td>\n",
       "      <td>1.000000</td>\n",
       "      <td>{'kneighborsclassifier__weights': 'distance', ...</td>\n",
       "      <td>0.588412</td>\n",
       "      <td>processed_cl,18labels</td>\n",
       "      <td>numerical_and_ordinalencoding_SIZE_in_text,Sim...</td>\n",
       "    </tr>\n",
       "    <tr>\n",
       "      <th>2</th>\n",
       "      <td>dt</td>\n",
       "      <td>0.642303</td>\n",
       "      <td>0.707594</td>\n",
       "      <td>{'decisiontreeclassifier__min_samples_leaf': 1...</td>\n",
       "      <td>0.660193</td>\n",
       "      <td>processed_cl,18labels</td>\n",
       "      <td>numerical_and_ordinalencoding_SIZE_in_text,Sim...</td>\n",
       "    </tr>\n",
       "    <tr>\n",
       "      <th>3</th>\n",
       "      <td>rforest</td>\n",
       "      <td>0.694426</td>\n",
       "      <td>0.774322</td>\n",
       "      <td>{'randomforestclassifier__warm_start': False, ...</td>\n",
       "      <td>0.690934</td>\n",
       "      <td>processed_cl,18labels</td>\n",
       "      <td>split_0.66_to_0.33,numerical_and_ordinalencodi...</td>\n",
       "    </tr>\n",
       "    <tr>\n",
       "      <th>4</th>\n",
       "      <td>knn</td>\n",
       "      <td>0.617864</td>\n",
       "      <td>1.000000</td>\n",
       "      <td>{'kneighborsclassifier__weights': 'distance', ...</td>\n",
       "      <td>0.611842</td>\n",
       "      <td>processed_cl,18labels</td>\n",
       "      <td>split_0.66_to_0.33,numerical_and_ordinalencodi...</td>\n",
       "    </tr>\n",
       "    <tr>\n",
       "      <th>5</th>\n",
       "      <td>dt</td>\n",
       "      <td>0.654130</td>\n",
       "      <td>0.727664</td>\n",
       "      <td>{'decisiontreeclassifier__min_samples_leaf': 1...</td>\n",
       "      <td>0.654542</td>\n",
       "      <td>processed_cl,18labels</td>\n",
       "      <td>split_0.66_to_0.33,numerical_and_ordinalencodi...</td>\n",
       "    </tr>\n",
       "  </tbody>\n",
       "</table>\n",
       "</div>"
      ],
      "text/plain": [
       "     model  test_acc_score  train_acc_score  \\\n",
       "0  rforest        0.709856         0.863082   \n",
       "1      knn        0.591362         1.000000   \n",
       "2       dt        0.642303         0.707594   \n",
       "3  rforest        0.694426         0.774322   \n",
       "4      knn        0.617864         1.000000   \n",
       "5       dt        0.654130         0.727664   \n",
       "\n",
       "                                         best_params  best_score_of_CV  \\\n",
       "0  {'randomforestclassifier__warm_start': True, '...          0.721173   \n",
       "1  {'kneighborsclassifier__weights': 'distance', ...          0.588412   \n",
       "2  {'decisiontreeclassifier__min_samples_leaf': 1...          0.660193   \n",
       "3  {'randomforestclassifier__warm_start': False, ...          0.690934   \n",
       "4  {'kneighborsclassifier__weights': 'distance', ...          0.611842   \n",
       "5  {'decisiontreeclassifier__min_samples_leaf': 1...          0.654542   \n",
       "\n",
       "                 dataset                                      preprocessing  \n",
       "0  processed_cl,18labels  numerical_and_ordinalencoding_SIZE_in_text,Sim...  \n",
       "1  processed_cl,18labels  numerical_and_ordinalencoding_SIZE_in_text,Sim...  \n",
       "2  processed_cl,18labels  numerical_and_ordinalencoding_SIZE_in_text,Sim...  \n",
       "3  processed_cl,18labels  split_0.66_to_0.33,numerical_and_ordinalencodi...  \n",
       "4  processed_cl,18labels  split_0.66_to_0.33,numerical_and_ordinalencodi...  \n",
       "5  processed_cl,18labels  split_0.66_to_0.33,numerical_and_ordinalencodi...  "
      ]
     },
     "execution_count": 45,
     "metadata": {},
     "output_type": "execute_result"
    }
   ],
   "source": [
    "score_all = pd.concat([score_all, score_new], ignore_index=True)\n",
    "score_all"
   ]
  },
  {
   "cell_type": "markdown",
   "metadata": {},
   "source": [
    "With a 0.66/0.33 split = 3000 /4500 split:\n",
    "* 69% accurace with my RandomForest model / cleaned dataset\n",
    "* 67% accuracy with the author's RandomForest model\n",
    "\n",
    "With a 0.8/0.2 split\n",
    "* 72% accuracy of RandomForest "
   ]
  },
  {
   "cell_type": "markdown",
   "metadata": {},
   "source": [
    "## Getting features of decision_tree"
   ]
  },
  {
   "cell_type": "markdown",
   "metadata": {},
   "source": [
    "## Explore a single model and get feature names out"
   ]
  },
  {
   "cell_type": "code",
   "execution_count": 74,
   "metadata": {},
   "outputs": [],
   "source": [
    "def evaluate_model(model_name, param_grid_preproc):\n",
    "    score_new = {\n",
    "        \"model\": [],\n",
    "        \"test_acc_score\": [],\n",
    "        \"train_acc_score\": [],\n",
    "        \"best_score_of_CV\": [],\n",
    "        \"best_params\": []\n",
    "    }\n",
    "    param_grid = {}\n",
    "    \n",
    "\n",
    "    #reset values to be empty : \n",
    "    param_grid = param_grid_preproc\n",
    "\n",
    "    # # # # it would nice if I make this into a function get_model_and_params\n",
    "    model, param_grid = get_model_and_params(model_name, param_grid)\n",
    "\n",
    "    #create the full_pipeline\n",
    "    full_pipe = make_pipeline(preprocessor, \n",
    "                          StandardScaler(with_mean=False),\n",
    "                          model\n",
    "                             )\n",
    "\n",
    "    # define cross validation\n",
    "    search = RandomizedSearchCV(full_pipe,\n",
    "                      param_grid,\n",
    "                      cv=5,\n",
    "                      verbose=1,\n",
    "                      scoring=\"accuracy\",\n",
    "                      n_jobs=-2, \n",
    "                      n_iter=5\n",
    "                    )                             \n",
    "\n",
    "    # fit\n",
    "    search.fit(X_train, y_train)\n",
    "    print(search.best_params_)\n",
    "\n",
    "    score_new[\"model\"].append(model_name)\n",
    "\n",
    "    ### testing accuracy\n",
    "    y_test_pred = search.predict(X_test)\n",
    "    acc_test = accuracy_score(y_test, y_test_pred)\n",
    "    score_new[\"test_acc_score\"].append(acc_test)\n",
    "\n",
    "    #get score of TRAIN-Data (overfitting?)\n",
    "    y_train_pred = search.predict(X_train)\n",
    "    acc_train = accuracy_score(y_train, y_train_pred)\n",
    "    score_new[\"train_acc_score\"].append(acc_train)\n",
    "\n",
    "    # keep scores of model (optional)\n",
    "    score_new[\"best_score_of_CV\"].append(search.best_score_)\n",
    "    score_new[\"best_params\"].append(search.best_params_)\n",
    "\n",
    "    # confusion matrix\n",
    "    conf = confusion_matrix(y_test, y_test_pred)\n",
    "    disp = ConfusionMatrixDisplay(confusion_matrix=conf,\n",
    "                                    display_labels=search.classes_)\n",
    "    disp.plot()\n",
    "    plt.show()\n",
    "\n",
    "        #how do I use set_palette()\n",
    "        #change plt.show() to sns.show()\n",
    "        #How to set the palette to have the colors of my presentation?\n",
    "\n",
    "    print(pd.DataFrame(conf))\n",
    "    print(\"end\")\n",
    "    return pd.DataFrame(score_new), search"
   ]
  },
  {
   "cell_type": "markdown",
   "metadata": {},
   "source": [
    "#### Set parameters (model_name)"
   ]
  },
  {
   "cell_type": "code",
   "execution_count": 106,
   "metadata": {},
   "outputs": [
    {
     "data": {
      "text/plain": [
       "'randomforestclassifier'"
      ]
     },
     "execution_count": 106,
     "metadata": {},
     "output_type": "execute_result"
    }
   ],
   "source": [
    "# Call the function, evaluate one model, and get the object \"search\"\n",
    "#model_name = \"dt\"           # Decision Tree\n",
    "model_name = \"rforest\"     # Random Forest\n",
    "\n",
    "model, param_grid = get_model_and_params(model_name=model_name, param_grid={})\n",
    "model_classifier_name = type(model).__name__.lower()\n",
    "model_classifier_name"
   ]
  },
  {
   "cell_type": "code",
   "execution_count": 107,
   "metadata": {},
   "outputs": [
    {
     "name": "stdout",
     "output_type": "stream",
     "text": [
      "Fitting 5 folds for each of 5 candidates, totalling 25 fits\n",
      "{'randomforestclassifier__warm_start': True, 'randomforestclassifier__n_estimators': 100, 'randomforestclassifier__min_samples_leaf': 4, 'randomforestclassifier__max_depth': 8, 'randomforestclassifier__criterion': 'gini'}\n"
     ]
    },
    {
     "data": {
      "image/png": "[encoded data removed]",
      "text/plain": [
       "<Figure size 640x480 with 2 Axes>"
      ]
     },
     "metadata": {},
     "output_type": "display_data"
    },
    {
     "name": "stdout",
     "output_type": "stream",
     "text": [
      "    0   1   2   3   4   5   6   7   8   9    10  11  12   13  14  15   16  17\n",
      "0   18   0   0   0   0   0   0   2   0   0    0   0   0    7   0   0    0   1\n",
      "1    0   0   0   0   0   0   0   0   0   0    1   0   0    7   0   0    0   0\n",
      "2    0   0   0   0   0   0   0   0   0   0    0   0   0    3   0   0    0   0\n",
      "3    0   0   0   0   0   0   0   0   0   0    3   0   0   11   0   0    3   0\n",
      "4    0   0   0   0   0   0   0   0   0   0    1   2   0   19   0   0    3   0\n",
      "5    0   0   0   0   0   2   0   0   0   0    2   0   0    6   0   0    1   0\n",
      "6    0   0   0   0   0   0   3   0   0   0    4   0   0   54   0   0    0   0\n",
      "7    0   0   0   0   0   0   0  73   0   0    8   0   0    1   0   0    0   0\n",
      "8    0   0   0   0   0   0   0   0   0   0    0   0   0    5   0   0    0   0\n",
      "9    0   0   0   0   0   0   0   0   0   0    1   4   0   12   0   0    1   0\n",
      "10   0   0   0   0   0   0   0  13   0   0  174   0   0   18   0   0    0   0\n",
      "11   0   0   0   0   0   1   0   5   0   0   16  20   0   53   0   0    7   0\n",
      "12   0   0   0   0   0   0   0   0   0   0    0   0  16   16   0   0    2   0\n",
      "13   0   0   0   0   0   0   0   7   0   0   12   0   1  569   0   0   31   0\n",
      "14   0   0   0   0   0   0   0   0   0   0    0   0   0   27   0   0    4   0\n",
      "15   0   0   0   0   0   0   0   0   0   0    9   0   0   48   0  15    0   0\n",
      "16   0   0   0   0   0   0   0   0   0   0    2   0   0   38   0   0  117   0\n",
      "17   0   0   0   0   0   0   0   5   0   0    2   0   0    3   0   0    0   0\n",
      "end\n"
     ]
    }
   ],
   "source": [
    "# fit and predict for one model\n",
    "score_single_model, search = evaluate_model(model_name = model_name, param_grid_preproc= {})"
   ]
  },
  {
   "cell_type": "markdown",
   "metadata": {},
   "source": [
    "### Let's save the column names"
   ]
  },
  {
   "cell_type": "code",
   "execution_count": 108,
   "metadata": {},
   "outputs": [
    {
     "data": {
      "text/plain": [
       "array(['SSSIDECX3', 'SSSIDECX2', 'SSSIDECX1', ..., 'SIZE_in_inch',\n",
       "       'SIZE_in_text', 'SIZE_other'], dtype=object)"
      ]
     },
     "execution_count": 108,
     "metadata": {},
     "output_type": "execute_result"
    }
   ],
   "source": [
    "# save feature names for later use\n",
    "feature_names = np.array(X.columns)\n",
    "feature_names\n"
   ]
  },
  {
   "cell_type": "code",
   "execution_count": 109,
   "metadata": {},
   "outputs": [
    {
     "name": "stdout",
     "output_type": "stream",
     "text": [
      "1845\n"
     ]
    },
    {
     "data": {
      "text/plain": [
       "array([['SSSIDECX3'],\n",
       "       ['SSSIDECX2'],\n",
       "       ['SSSIDECX1'],\n",
       "       ...,\n",
       "       ['SIZE_in_inch'],\n",
       "       ['SIZE_in_text'],\n",
       "       ['SIZE_other']], dtype=object)"
      ]
     },
     "execution_count": 109,
     "metadata": {},
     "output_type": "execute_result"
    }
   ],
   "source": [
    "print(len(feature_names)) # length 1 --> we need to transpose it!\n",
    "feature_names = feature_names.reshape(-1, 1)  \n",
    "feature_names"
   ]
  },
  {
   "cell_type": "code",
   "execution_count": 110,
   "metadata": {},
   "outputs": [
    {
     "name": "stdout",
     "output_type": "stream",
     "text": [
      "1845 ['SSSIDECX3' 'SSSIDECX2' 'SSSIDECX1' ... 'SIZE_in_inch' 'SIZE_in_text'\n",
      " 'SIZE_other']\n"
     ]
    }
   ],
   "source": [
    "# there are brakets in brakets, we need to flatten it\n",
    "feature_names = feature_names.flatten()\n",
    "print(len(feature_names), feature_names)\n",
    "# --> now it looks good!"
   ]
  },
  {
   "cell_type": "markdown",
   "metadata": {},
   "source": [
    "### Now we need to access the model"
   ]
  },
  {
   "cell_type": "code",
   "execution_count": 82,
   "metadata": {},
   "outputs": [],
   "source": [
    "# access the DT model in the pipe\n",
    "#  --> Does not work here, because I do not have the pipe-object\n",
    "# which position?\n",
    "# full_pipe.steps[2]"
   ]
  },
  {
   "cell_type": "code",
   "execution_count": 111,
   "metadata": {},
   "outputs": [
    {
     "data": {
      "text/plain": [
       "array([1.42396373e-03, 8.94019477e-04, 1.44186518e-03, ...,\n",
       "       2.66713694e-04, 2.00627610e-05, 2.39608580e-04])"
      ]
     },
     "execution_count": 111,
     "metadata": {},
     "output_type": "execute_result"
    }
   ],
   "source": [
    "# access the model via the search\n",
    "model = search.best_estimator_.named_steps[model_classifier_name]\n",
    "importances = model.feature_importances_\n",
    "importances"
   ]
  },
  {
   "cell_type": "code",
   "execution_count": 112,
   "metadata": {},
   "outputs": [
    {
     "name": "stdout",
     "output_type": "stream",
     "text": [
      "1845 1845\n"
     ]
    }
   ],
   "source": [
    "#both need to be the same length --> YES!\n",
    "print(len(importances), len(feature_names)) "
   ]
  },
  {
   "cell_type": "code",
   "execution_count": 113,
   "metadata": {},
   "outputs": [],
   "source": [
    "features_df = {\n",
    "    \"columns\": feature_names,\n",
    "    \"importance\": importances}\n",
    "\n",
    "features_df = pd.DataFrame(features_df)"
   ]
  },
  {
   "cell_type": "code",
   "execution_count": 116,
   "metadata": {},
   "outputs": [
    {
     "data": {
      "text/html": [
       "<div>\n",
       "<style scoped>\n",
       "    .dataframe tbody tr th:only-of-type {\n",
       "        vertical-align: middle;\n",
       "    }\n",
       "\n",
       "    .dataframe tbody tr th {\n",
       "        vertical-align: top;\n",
       "    }\n",
       "\n",
       "    .dataframe thead th {\n",
       "        text-align: right;\n",
       "    }\n",
       "</style>\n",
       "<table border=\"1\" class=\"dataframe\">\n",
       "  <thead>\n",
       "    <tr style=\"text-align: right;\">\n",
       "      <th></th>\n",
       "      <th>columns</th>\n",
       "      <th>importance</th>\n",
       "    </tr>\n",
       "  </thead>\n",
       "  <tbody>\n",
       "    <tr>\n",
       "      <th>1040</th>\n",
       "      <td>Teeth on chainring 0</td>\n",
       "      <td>0.028703</td>\n",
       "    </tr>\n",
       "    <tr>\n",
       "      <th>1206</th>\n",
       "      <td>RDBSD</td>\n",
       "      <td>0.021942</td>\n",
       "    </tr>\n",
       "    <tr>\n",
       "      <th>1784</th>\n",
       "      <td>Handlebar style OHCLASS: 0</td>\n",
       "      <td>0.020609</td>\n",
       "    </tr>\n",
       "    <tr>\n",
       "      <th>768</th>\n",
       "      <td>CS textfield</td>\n",
       "      <td>0.020594</td>\n",
       "    </tr>\n",
       "    <tr>\n",
       "      <th>1207</th>\n",
       "      <td>FDBSD</td>\n",
       "      <td>0.020481</td>\n",
       "    </tr>\n",
       "    <tr>\n",
       "      <th>1205</th>\n",
       "      <td>FDERD</td>\n",
       "      <td>0.019444</td>\n",
       "    </tr>\n",
       "    <tr>\n",
       "      <th>1785</th>\n",
       "      <td>Handlebar style OHCLASS: 1</td>\n",
       "      <td>0.017893</td>\n",
       "    </tr>\n",
       "    <tr>\n",
       "      <th>1576</th>\n",
       "      <td>Fork type OHCLASS: 1</td>\n",
       "      <td>0.017483</td>\n",
       "    </tr>\n",
       "    <tr>\n",
       "      <th>250</th>\n",
       "      <td>Dropout spacing</td>\n",
       "      <td>0.016615</td>\n",
       "    </tr>\n",
       "    <tr>\n",
       "      <th>1037</th>\n",
       "      <td>DERAILLEUR_HANGER</td>\n",
       "      <td>0.016552</td>\n",
       "    </tr>\n",
       "  </tbody>\n",
       "</table>\n",
       "</div>"
      ],
      "text/plain": [
       "                         columns  importance\n",
       "1040        Teeth on chainring 0    0.028703\n",
       "1206                       RDBSD    0.021942\n",
       "1784  Handlebar style OHCLASS: 0    0.020609\n",
       "768                 CS textfield    0.020594\n",
       "1207                       FDBSD    0.020481\n",
       "1205                       FDERD    0.019444\n",
       "1785  Handlebar style OHCLASS: 1    0.017893\n",
       "1576        Fork type OHCLASS: 1    0.017483\n",
       "250              Dropout spacing    0.016615\n",
       "1037           DERAILLEUR_HANGER    0.016552"
      ]
     },
     "execution_count": 116,
     "metadata": {},
     "output_type": "execute_result"
    }
   ],
   "source": [
    "features_df = features_df.sort_values(\"importance\", ascending = False).head(10)\n",
    "features_df\n",
    "# the model was so good because there were two columns still in there: \"PERCENT\", \"COUNT\""
   ]
  },
  {
   "cell_type": "code",
   "execution_count": 115,
   "metadata": {},
   "outputs": [],
   "source": [
    "# RESULTS FOR RANDOM FOREST\n",
    "#   \tcolumns\t                    importance\n",
    "#1040\tTeeth on chainring 0\t    0.028703        Number of teeth on chainring 0 (same as DT = #1)\n",
    "#1206\tRDBSD\t                    0.021942        ...                         (also in DT #8 , here #2)\n",
    "#1784\tHandlebar style OHCLASS: 0\t0.020609        ...                         (also in DT #10, here #3)\n",
    "#768\tCS textfield\t            0.020594        ... some                    (also in DT #7 , here #4)\n",
    "#1207\tFDBSD\t                    0.020481        ... more\n",
    "#1205\tFDERD\t                    0.019444        ... columns\n",
    "#1785\tHandlebar style OHCLASS: 1\t0.017893        ... in between\n",
    "#1576\tFork type OHCLASS: 1\t    0.017483        ...                         (also in DT #4 , here #8)\n",
    "#250\tDropout spacing\t            0.016615        ...\n",
    "#1037\tDERAILLEUR_HANGER\t        0.016552        Schaltaufhängung -          (also in DT #2 , here #10) same importance!\n",
    "\n",
    "\n",
    "#RESULTS FOR DECISION TREE\n",
    "#   \tcolumns\t                    importance\n",
    "#1040\tTeeth on chainring 0\t    0.236933        Number of teeth on chainring 0 (Anzahl Zähle auf Kettenblatt 0)\n",
    "#1037\tDERAILLEUR_HANGER\t        0.169137        Schaltaufhängung - The hanger which fixes the gear shift to the frame at the rear wheel\n",
    "#1128\tSaddle height\t            0.095040        \n",
    "#1576\tFork type OHCLASS: 1\t    0.079594        \n",
    "#1205\tFDERD\t                    0.056719\n",
    "#465\tWheel diameter front\t    0.050802\n",
    "#768\tCS textfield\t            0.041495\n",
    "#1206\tRDBSD\t                    0.035787\n",
    "#532\tFORK0R\t                    0.031524\n",
    "#1784\tHandlebar style OHCLASS: 0\t0.026295"
   ]
  },
  {
   "cell_type": "code",
   "execution_count": 120,
   "metadata": {},
   "outputs": [],
   "source": [
    "# add column importance in %\n",
    "\n",
    "# make the image smaller\n",
    "\n",
    "# change labels\n",
    "\n",
    "# change colour code"
   ]
  },
  {
   "cell_type": "code",
   "execution_count": 119,
   "metadata": {},
   "outputs": [
    {
     "data": {
      "image/png": "[encoded data removed]",
      "text/plain": [
       "<Figure size 1500x500 with 1 Axes>"
      ]
     },
     "metadata": {},
     "output_type": "display_data"
    }
   ],
   "source": [
    "import seaborn as sns\n",
    "sns.catplot(data=features_df.head(10), \n",
    "            kind=\"bar\",\n",
    "            x=\"importance\", \n",
    "            y=\"columns\",\n",
    "            aspect = 3,\n",
    "            estimator = sum\n",
    "            );"
   ]
  },
  {
   "cell_type": "code",
   "execution_count": null,
   "metadata": {},
   "outputs": [],
   "source": []
  },
  {
   "cell_type": "code",
   "execution_count": null,
   "metadata": {},
   "outputs": [],
   "source": []
  }
 ],
 "metadata": {
  "kernelspec": {
   "display_name": "Python 3.8.15 ('base')",
   "language": "python",
   "name": "python3"
  },
  "language_info": {
   "codemirror_mode": {
    "name": "ipython",
    "version": 3
   },
   "file_extension": ".py",
   "mimetype": "text/x-python",
   "name": "python",
   "nbconvert_exporter": "python",
   "pygments_lexer": "ipython3",
   "version": "3.8.15"
  },
  "orig_nbformat": 4,
  "vscode": {
   "interpreter": {
    "hash": "b8f2f4ada2c80ea9ac5ce6703ded092576c26007afc915a8876876e3c9a694db"
   }
  }
 },
 "nbformat": 4,
 "nbformat_minor": 2
}
